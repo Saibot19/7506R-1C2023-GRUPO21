{
  "nbformat": 4,
  "nbformat_minor": 0,
  "metadata": {
    "colab": {
      "provenance": [],
      "include_colab_link": true
    },
    "kernelspec": {
      "name": "python3",
      "display_name": "Python 3"
    },
    "language_info": {
      "name": "python"
    }
  },
  "cells": [
    {
      "cell_type": "markdown",
      "metadata": {
        "id": "view-in-github",
        "colab_type": "text"
      },
      "source": [
        "<a href=\"https://colab.research.google.com/github/Saibot19/7506R-1C2023-GRUPO21/blob/main/7506R_TP1_GRUPO21_CHP4_ENTREGA.ipynb\" target=\"_parent\"><img src=\"https://colab.research.google.com/assets/colab-badge.svg\" alt=\"Open In Colab\"/></a>"
      ]
    },
    {
      "cell_type": "markdown",
      "source": [
        "# Importaciones"
      ],
      "metadata": {
        "id": "O9YK31jndQ1S"
      }
    },
    {
      "cell_type": "code",
      "execution_count": 1,
      "metadata": {
        "colab": {
          "base_uri": "https://localhost:8080/",
          "height": 1000
        },
        "id": "5WhBjELrWATP",
        "outputId": "d9bd146e-a66e-463d-b643-f27ab5fa279b"
      },
      "outputs": [
        {
          "output_type": "stream",
          "name": "stdout",
          "text": [
            "Mounted at /content/drive\n"
          ]
        },
        {
          "output_type": "execute_result",
          "data": {
            "text/plain": [
              "              hotel  lead_time  arrival_date_year arrival_date_month  \\\n",
              "0        City Hotel         49               2016          September   \n",
              "1      Resort Hotel          4               2015            October   \n",
              "2        City Hotel         25               2016            October   \n",
              "3        City Hotel         26               2016           December   \n",
              "4        City Hotel        104               2017              March   \n",
              "...             ...        ...                ...                ...   \n",
              "60627  Resort Hotel         24               2017            January   \n",
              "60628    City Hotel          0               2016          September   \n",
              "60629    City Hotel         10               2017                May   \n",
              "60630  Resort Hotel        143               2015            October   \n",
              "60631    City Hotel         57               2016              April   \n",
              "\n",
              "       arrival_date_week_number  arrival_date_day_of_month  \\\n",
              "0                            37                          5   \n",
              "1                            44                         31   \n",
              "2                            42                         13   \n",
              "3                            51                         12   \n",
              "4                            12                         19   \n",
              "...                         ...                        ...   \n",
              "60627                         4                         27   \n",
              "60628                        36                          2   \n",
              "60629                        19                          8   \n",
              "60630                        41                         10   \n",
              "60631                        17                         17   \n",
              "\n",
              "       stays_in_weekend_nights  stays_in_week_nights  adults  children  ...  \\\n",
              "0                            1                     2       1       0.0  ...   \n",
              "1                            0                     1       2       0.0  ...   \n",
              "2                            0                     1       2       2.0  ...   \n",
              "3                            2                     5       2       0.0  ...   \n",
              "4                            2                     5       2       0.0  ...   \n",
              "...                        ...                   ...     ...       ...  ...   \n",
              "60627                        0                     2       2       0.0  ...   \n",
              "60628                        0                     1       1       0.0  ...   \n",
              "60629                        1                     2       1       0.0  ...   \n",
              "60630                        2                     5       2       0.0  ...   \n",
              "60631                        2                     5       2       0.0  ...   \n",
              "\n",
              "       days_in_waiting_list    customer_type     adr  \\\n",
              "0                         0        Transient  115.50   \n",
              "1                         0        Transient   42.00   \n",
              "2                         0        Transient  229.00   \n",
              "3                         0        Transient   75.00   \n",
              "4                         0  Transient-Party   75.00   \n",
              "...                     ...              ...     ...   \n",
              "60627                     0        Transient   48.00   \n",
              "60628                     0        Transient  149.00   \n",
              "60629                     0        Transient   95.00   \n",
              "60630                     0        Transient   36.05   \n",
              "60631                     0        Transient  143.29   \n",
              "\n",
              "      required_car_parking_spaces total_of_special_requests  \\\n",
              "0                               0                         1   \n",
              "1                               1                         0   \n",
              "2                               0                         2   \n",
              "3                               0                         0   \n",
              "4                               0                         1   \n",
              "...                           ...                       ...   \n",
              "60627                           0                         1   \n",
              "60628                           0                         0   \n",
              "60629                           0                         0   \n",
              "60630                           0                         0   \n",
              "60631                           0                         0   \n",
              "\n",
              "                                         id  is_canceled  \\\n",
              "0      7aa4cc6b-b92c-4061-b21d-4f9e0cac4689            1   \n",
              "1      b1428f80-c56c-4ae4-91a9-6962edae08b1            0   \n",
              "2      2226c018-ea20-4c4e-8f71-ea66aee70d7c            0   \n",
              "3      314f56dc-2e4d-4298-9bdd-27bb008bffff            1   \n",
              "4      28c75445-c603-413a-babf-ad377018b592            0   \n",
              "...                                     ...          ...   \n",
              "60627  32bffef5-5404-4e86-9f39-fd2282e1ad7f            1   \n",
              "60628  cc922a1c-356e-42a5-a984-0b1af03c2f5c            0   \n",
              "60629  76fb0e83-59df-43ee-9c33-aec51030ed45            0   \n",
              "60630  01906859-1094-4e37-b13e-b015b594d159            1   \n",
              "60631  7137e599-4442-41fb-b147-4aba9f344e38            1   \n",
              "\n",
              "       agent_cancela_seguido habitacion_correcta                   estadia  \n",
              "0                      False                True  Reserva con\\nambos casos  \n",
              "1                      False                True    Reservas entre\\nsemana  \n",
              "2                      False                True    Reservas entre\\nsemana  \n",
              "3                       True                True  Reserva con\\nambos casos  \n",
              "4                       True                True  Reserva con\\nambos casos  \n",
              "...                      ...                 ...                       ...  \n",
              "60627                  False               False    Reservas entre\\nsemana  \n",
              "60628                  False                True    Reservas entre\\nsemana  \n",
              "60629                  False                True  Reserva con\\nambos casos  \n",
              "60630                  False                True  Reserva con\\nambos casos  \n",
              "60631                  False                True  Reserva con\\nambos casos  \n",
              "\n",
              "[60632 rows x 33 columns]"
            ],
            "text/html": [
              "\n",
              "  <div id=\"df-a07ecdce-88ec-4c6b-88c9-95e579ac2273\">\n",
              "    <div class=\"colab-df-container\">\n",
              "      <div>\n",
              "<style scoped>\n",
              "    .dataframe tbody tr th:only-of-type {\n",
              "        vertical-align: middle;\n",
              "    }\n",
              "\n",
              "    .dataframe tbody tr th {\n",
              "        vertical-align: top;\n",
              "    }\n",
              "\n",
              "    .dataframe thead th {\n",
              "        text-align: right;\n",
              "    }\n",
              "</style>\n",
              "<table border=\"1\" class=\"dataframe\">\n",
              "  <thead>\n",
              "    <tr style=\"text-align: right;\">\n",
              "      <th></th>\n",
              "      <th>hotel</th>\n",
              "      <th>lead_time</th>\n",
              "      <th>arrival_date_year</th>\n",
              "      <th>arrival_date_month</th>\n",
              "      <th>arrival_date_week_number</th>\n",
              "      <th>arrival_date_day_of_month</th>\n",
              "      <th>stays_in_weekend_nights</th>\n",
              "      <th>stays_in_week_nights</th>\n",
              "      <th>adults</th>\n",
              "      <th>children</th>\n",
              "      <th>...</th>\n",
              "      <th>days_in_waiting_list</th>\n",
              "      <th>customer_type</th>\n",
              "      <th>adr</th>\n",
              "      <th>required_car_parking_spaces</th>\n",
              "      <th>total_of_special_requests</th>\n",
              "      <th>id</th>\n",
              "      <th>is_canceled</th>\n",
              "      <th>agent_cancela_seguido</th>\n",
              "      <th>habitacion_correcta</th>\n",
              "      <th>estadia</th>\n",
              "    </tr>\n",
              "  </thead>\n",
              "  <tbody>\n",
              "    <tr>\n",
              "      <th>0</th>\n",
              "      <td>City Hotel</td>\n",
              "      <td>49</td>\n",
              "      <td>2016</td>\n",
              "      <td>September</td>\n",
              "      <td>37</td>\n",
              "      <td>5</td>\n",
              "      <td>1</td>\n",
              "      <td>2</td>\n",
              "      <td>1</td>\n",
              "      <td>0.0</td>\n",
              "      <td>...</td>\n",
              "      <td>0</td>\n",
              "      <td>Transient</td>\n",
              "      <td>115.50</td>\n",
              "      <td>0</td>\n",
              "      <td>1</td>\n",
              "      <td>7aa4cc6b-b92c-4061-b21d-4f9e0cac4689</td>\n",
              "      <td>1</td>\n",
              "      <td>False</td>\n",
              "      <td>True</td>\n",
              "      <td>Reserva con\\nambos casos</td>\n",
              "    </tr>\n",
              "    <tr>\n",
              "      <th>1</th>\n",
              "      <td>Resort Hotel</td>\n",
              "      <td>4</td>\n",
              "      <td>2015</td>\n",
              "      <td>October</td>\n",
              "      <td>44</td>\n",
              "      <td>31</td>\n",
              "      <td>0</td>\n",
              "      <td>1</td>\n",
              "      <td>2</td>\n",
              "      <td>0.0</td>\n",
              "      <td>...</td>\n",
              "      <td>0</td>\n",
              "      <td>Transient</td>\n",
              "      <td>42.00</td>\n",
              "      <td>1</td>\n",
              "      <td>0</td>\n",
              "      <td>b1428f80-c56c-4ae4-91a9-6962edae08b1</td>\n",
              "      <td>0</td>\n",
              "      <td>False</td>\n",
              "      <td>True</td>\n",
              "      <td>Reservas entre\\nsemana</td>\n",
              "    </tr>\n",
              "    <tr>\n",
              "      <th>2</th>\n",
              "      <td>City Hotel</td>\n",
              "      <td>25</td>\n",
              "      <td>2016</td>\n",
              "      <td>October</td>\n",
              "      <td>42</td>\n",
              "      <td>13</td>\n",
              "      <td>0</td>\n",
              "      <td>1</td>\n",
              "      <td>2</td>\n",
              "      <td>2.0</td>\n",
              "      <td>...</td>\n",
              "      <td>0</td>\n",
              "      <td>Transient</td>\n",
              "      <td>229.00</td>\n",
              "      <td>0</td>\n",
              "      <td>2</td>\n",
              "      <td>2226c018-ea20-4c4e-8f71-ea66aee70d7c</td>\n",
              "      <td>0</td>\n",
              "      <td>False</td>\n",
              "      <td>True</td>\n",
              "      <td>Reservas entre\\nsemana</td>\n",
              "    </tr>\n",
              "    <tr>\n",
              "      <th>3</th>\n",
              "      <td>City Hotel</td>\n",
              "      <td>26</td>\n",
              "      <td>2016</td>\n",
              "      <td>December</td>\n",
              "      <td>51</td>\n",
              "      <td>12</td>\n",
              "      <td>2</td>\n",
              "      <td>5</td>\n",
              "      <td>2</td>\n",
              "      <td>0.0</td>\n",
              "      <td>...</td>\n",
              "      <td>0</td>\n",
              "      <td>Transient</td>\n",
              "      <td>75.00</td>\n",
              "      <td>0</td>\n",
              "      <td>0</td>\n",
              "      <td>314f56dc-2e4d-4298-9bdd-27bb008bffff</td>\n",
              "      <td>1</td>\n",
              "      <td>True</td>\n",
              "      <td>True</td>\n",
              "      <td>Reserva con\\nambos casos</td>\n",
              "    </tr>\n",
              "    <tr>\n",
              "      <th>4</th>\n",
              "      <td>City Hotel</td>\n",
              "      <td>104</td>\n",
              "      <td>2017</td>\n",
              "      <td>March</td>\n",
              "      <td>12</td>\n",
              "      <td>19</td>\n",
              "      <td>2</td>\n",
              "      <td>5</td>\n",
              "      <td>2</td>\n",
              "      <td>0.0</td>\n",
              "      <td>...</td>\n",
              "      <td>0</td>\n",
              "      <td>Transient-Party</td>\n",
              "      <td>75.00</td>\n",
              "      <td>0</td>\n",
              "      <td>1</td>\n",
              "      <td>28c75445-c603-413a-babf-ad377018b592</td>\n",
              "      <td>0</td>\n",
              "      <td>True</td>\n",
              "      <td>True</td>\n",
              "      <td>Reserva con\\nambos casos</td>\n",
              "    </tr>\n",
              "    <tr>\n",
              "      <th>...</th>\n",
              "      <td>...</td>\n",
              "      <td>...</td>\n",
              "      <td>...</td>\n",
              "      <td>...</td>\n",
              "      <td>...</td>\n",
              "      <td>...</td>\n",
              "      <td>...</td>\n",
              "      <td>...</td>\n",
              "      <td>...</td>\n",
              "      <td>...</td>\n",
              "      <td>...</td>\n",
              "      <td>...</td>\n",
              "      <td>...</td>\n",
              "      <td>...</td>\n",
              "      <td>...</td>\n",
              "      <td>...</td>\n",
              "      <td>...</td>\n",
              "      <td>...</td>\n",
              "      <td>...</td>\n",
              "      <td>...</td>\n",
              "      <td>...</td>\n",
              "    </tr>\n",
              "    <tr>\n",
              "      <th>60627</th>\n",
              "      <td>Resort Hotel</td>\n",
              "      <td>24</td>\n",
              "      <td>2017</td>\n",
              "      <td>January</td>\n",
              "      <td>4</td>\n",
              "      <td>27</td>\n",
              "      <td>0</td>\n",
              "      <td>2</td>\n",
              "      <td>2</td>\n",
              "      <td>0.0</td>\n",
              "      <td>...</td>\n",
              "      <td>0</td>\n",
              "      <td>Transient</td>\n",
              "      <td>48.00</td>\n",
              "      <td>0</td>\n",
              "      <td>1</td>\n",
              "      <td>32bffef5-5404-4e86-9f39-fd2282e1ad7f</td>\n",
              "      <td>1</td>\n",
              "      <td>False</td>\n",
              "      <td>False</td>\n",
              "      <td>Reservas entre\\nsemana</td>\n",
              "    </tr>\n",
              "    <tr>\n",
              "      <th>60628</th>\n",
              "      <td>City Hotel</td>\n",
              "      <td>0</td>\n",
              "      <td>2016</td>\n",
              "      <td>September</td>\n",
              "      <td>36</td>\n",
              "      <td>2</td>\n",
              "      <td>0</td>\n",
              "      <td>1</td>\n",
              "      <td>1</td>\n",
              "      <td>0.0</td>\n",
              "      <td>...</td>\n",
              "      <td>0</td>\n",
              "      <td>Transient</td>\n",
              "      <td>149.00</td>\n",
              "      <td>0</td>\n",
              "      <td>0</td>\n",
              "      <td>cc922a1c-356e-42a5-a984-0b1af03c2f5c</td>\n",
              "      <td>0</td>\n",
              "      <td>False</td>\n",
              "      <td>True</td>\n",
              "      <td>Reservas entre\\nsemana</td>\n",
              "    </tr>\n",
              "    <tr>\n",
              "      <th>60629</th>\n",
              "      <td>City Hotel</td>\n",
              "      <td>10</td>\n",
              "      <td>2017</td>\n",
              "      <td>May</td>\n",
              "      <td>19</td>\n",
              "      <td>8</td>\n",
              "      <td>1</td>\n",
              "      <td>2</td>\n",
              "      <td>1</td>\n",
              "      <td>0.0</td>\n",
              "      <td>...</td>\n",
              "      <td>0</td>\n",
              "      <td>Transient</td>\n",
              "      <td>95.00</td>\n",
              "      <td>0</td>\n",
              "      <td>0</td>\n",
              "      <td>76fb0e83-59df-43ee-9c33-aec51030ed45</td>\n",
              "      <td>0</td>\n",
              "      <td>False</td>\n",
              "      <td>True</td>\n",
              "      <td>Reserva con\\nambos casos</td>\n",
              "    </tr>\n",
              "    <tr>\n",
              "      <th>60630</th>\n",
              "      <td>Resort Hotel</td>\n",
              "      <td>143</td>\n",
              "      <td>2015</td>\n",
              "      <td>October</td>\n",
              "      <td>41</td>\n",
              "      <td>10</td>\n",
              "      <td>2</td>\n",
              "      <td>5</td>\n",
              "      <td>2</td>\n",
              "      <td>0.0</td>\n",
              "      <td>...</td>\n",
              "      <td>0</td>\n",
              "      <td>Transient</td>\n",
              "      <td>36.05</td>\n",
              "      <td>0</td>\n",
              "      <td>0</td>\n",
              "      <td>01906859-1094-4e37-b13e-b015b594d159</td>\n",
              "      <td>1</td>\n",
              "      <td>False</td>\n",
              "      <td>True</td>\n",
              "      <td>Reserva con\\nambos casos</td>\n",
              "    </tr>\n",
              "    <tr>\n",
              "      <th>60631</th>\n",
              "      <td>City Hotel</td>\n",
              "      <td>57</td>\n",
              "      <td>2016</td>\n",
              "      <td>April</td>\n",
              "      <td>17</td>\n",
              "      <td>17</td>\n",
              "      <td>2</td>\n",
              "      <td>5</td>\n",
              "      <td>2</td>\n",
              "      <td>0.0</td>\n",
              "      <td>...</td>\n",
              "      <td>0</td>\n",
              "      <td>Transient</td>\n",
              "      <td>143.29</td>\n",
              "      <td>0</td>\n",
              "      <td>0</td>\n",
              "      <td>7137e599-4442-41fb-b147-4aba9f344e38</td>\n",
              "      <td>1</td>\n",
              "      <td>False</td>\n",
              "      <td>True</td>\n",
              "      <td>Reserva con\\nambos casos</td>\n",
              "    </tr>\n",
              "  </tbody>\n",
              "</table>\n",
              "<p>60632 rows × 33 columns</p>\n",
              "</div>\n",
              "      <button class=\"colab-df-convert\" onclick=\"convertToInteractive('df-a07ecdce-88ec-4c6b-88c9-95e579ac2273')\"\n",
              "              title=\"Convert this dataframe to an interactive table.\"\n",
              "              style=\"display:none;\">\n",
              "        \n",
              "  <svg xmlns=\"http://www.w3.org/2000/svg\" height=\"24px\"viewBox=\"0 0 24 24\"\n",
              "       width=\"24px\">\n",
              "    <path d=\"M0 0h24v24H0V0z\" fill=\"none\"/>\n",
              "    <path d=\"M18.56 5.44l.94 2.06.94-2.06 2.06-.94-2.06-.94-.94-2.06-.94 2.06-2.06.94zm-11 1L8.5 8.5l.94-2.06 2.06-.94-2.06-.94L8.5 2.5l-.94 2.06-2.06.94zm10 10l.94 2.06.94-2.06 2.06-.94-2.06-.94-.94-2.06-.94 2.06-2.06.94z\"/><path d=\"M17.41 7.96l-1.37-1.37c-.4-.4-.92-.59-1.43-.59-.52 0-1.04.2-1.43.59L10.3 9.45l-7.72 7.72c-.78.78-.78 2.05 0 2.83L4 21.41c.39.39.9.59 1.41.59.51 0 1.02-.2 1.41-.59l7.78-7.78 2.81-2.81c.8-.78.8-2.07 0-2.86zM5.41 20L4 18.59l7.72-7.72 1.47 1.35L5.41 20z\"/>\n",
              "  </svg>\n",
              "      </button>\n",
              "      \n",
              "  <style>\n",
              "    .colab-df-container {\n",
              "      display:flex;\n",
              "      flex-wrap:wrap;\n",
              "      gap: 12px;\n",
              "    }\n",
              "\n",
              "    .colab-df-convert {\n",
              "      background-color: #E8F0FE;\n",
              "      border: none;\n",
              "      border-radius: 50%;\n",
              "      cursor: pointer;\n",
              "      display: none;\n",
              "      fill: #1967D2;\n",
              "      height: 32px;\n",
              "      padding: 0 0 0 0;\n",
              "      width: 32px;\n",
              "    }\n",
              "\n",
              "    .colab-df-convert:hover {\n",
              "      background-color: #E2EBFA;\n",
              "      box-shadow: 0px 1px 2px rgba(60, 64, 67, 0.3), 0px 1px 3px 1px rgba(60, 64, 67, 0.15);\n",
              "      fill: #174EA6;\n",
              "    }\n",
              "\n",
              "    [theme=dark] .colab-df-convert {\n",
              "      background-color: #3B4455;\n",
              "      fill: #D2E3FC;\n",
              "    }\n",
              "\n",
              "    [theme=dark] .colab-df-convert:hover {\n",
              "      background-color: #434B5C;\n",
              "      box-shadow: 0px 1px 3px 1px rgba(0, 0, 0, 0.15);\n",
              "      filter: drop-shadow(0px 1px 2px rgba(0, 0, 0, 0.3));\n",
              "      fill: #FFFFFF;\n",
              "    }\n",
              "  </style>\n",
              "\n",
              "      <script>\n",
              "        const buttonEl =\n",
              "          document.querySelector('#df-a07ecdce-88ec-4c6b-88c9-95e579ac2273 button.colab-df-convert');\n",
              "        buttonEl.style.display =\n",
              "          google.colab.kernel.accessAllowed ? 'block' : 'none';\n",
              "\n",
              "        async function convertToInteractive(key) {\n",
              "          const element = document.querySelector('#df-a07ecdce-88ec-4c6b-88c9-95e579ac2273');\n",
              "          const dataTable =\n",
              "            await google.colab.kernel.invokeFunction('convertToInteractive',\n",
              "                                                     [key], {});\n",
              "          if (!dataTable) return;\n",
              "\n",
              "          const docLinkHtml = 'Like what you see? Visit the ' +\n",
              "            '<a target=\"_blank\" href=https://colab.research.google.com/notebooks/data_table.ipynb>data table notebook</a>'\n",
              "            + ' to learn more about interactive tables.';\n",
              "          element.innerHTML = '';\n",
              "          dataTable['output_type'] = 'display_data';\n",
              "          await google.colab.output.renderOutput(dataTable, element);\n",
              "          const docLink = document.createElement('div');\n",
              "          docLink.innerHTML = docLinkHtml;\n",
              "          element.appendChild(docLink);\n",
              "        }\n",
              "      </script>\n",
              "    </div>\n",
              "  </div>\n",
              "  "
            ]
          },
          "metadata": {},
          "execution_count": 1
        }
      ],
      "source": [
        "import pandas as pd\n",
        "import random\n",
        "import numpy as np\n",
        "from google.colab import drive\n",
        "import joblib  \n",
        "import matplotlib.pyplot as plt\n",
        "import seaborn as sns\n",
        "\n",
        "#modelos y métricas\n",
        "import sklearn as sk\n",
        "from sklearn import tree\n",
        "from sklearn.model_selection import train_test_split, StratifiedKFold, KFold,RandomizedSearchCV\n",
        "from sklearn.metrics import precision_score, recall_score, accuracy_score,f1_score, make_scorer#, precision_recall_curve, roc_curve,\n",
        "from sklearn.metrics import confusion_matrix, classification_report\n",
        "#preprocesamiento\n",
        "from sklearn.preprocessing import MinMaxScaler\n",
        "from sklearn.preprocessing import LabelEncoder\n",
        "from sklearn.tree import DecisionTreeClassifier\n",
        "from sklearn.ensemble import RandomForestClassifier\n",
        "from sklearn.tree import export_text\n",
        "\n",
        "#Modelado\n",
        "from sklearn.neighbors import KNeighborsClassifier\n",
        "from sklearn.neighbors import KNeighborsRegressor\n",
        "from sklearn.linear_model import LinearRegression\n",
        "\n",
        "from sklearn.datasets import load_iris\n",
        "from sklearn import preprocessing\n",
        "from sklearn.svm import SVC\n",
        "from sklearn.datasets import make_classification\n",
        "from sklearn.model_selection import GridSearchCV\n",
        "from xgboost import XGBClassifier\n",
        "import xgboost as xgb\n",
        "\n",
        "import plotly.graph_objects as go\n",
        "%matplotlib inline\n",
        "\n",
        "from sklearn.linear_model import LogisticRegression \n",
        "from sklearn.neural_network import MLPClassifier\n",
        "from sklearn.linear_model import LogisticRegressionCV\n",
        "from sklearn.model_selection import cross_val_score, RepeatedStratifiedKFold\n",
        "\n",
        "from sklearn.ensemble import VotingClassifier\n",
        "from collections import defaultdict\n",
        "\n",
        "import tensorflow as tf\n",
        "from tensorflow import keras\n",
        "from keras.utils.vis_utils import plot_model\n",
        "from sklearn.preprocessing import StandardScaler\n",
        "\n",
        "\n",
        "drive.mount('/content/drive', force_remount=True)\n",
        "df_trabajo = pd.read_csv(\"/content/drive/My Drive/OrgaDeDatosRodriguez/TP_1/Datasets/hotels_train_filtered.csv\")\n",
        "df_test = pd.read_csv(\"/content/drive/My Drive/OrgaDeDatosRodriguez/TP_1/Datasets/hotels_test.csv\")\n",
        "\n",
        "df_trabajo"
      ]
    },
    {
      "cell_type": "code",
      "source": [
        "df_trabajo_x = df_trabajo.drop(['is_canceled','id'], axis='columns')\n",
        "df_trabajo_y = df_trabajo['is_canceled'].copy()"
      ],
      "metadata": {
        "id": "GQo13gzGWuKN"
      },
      "execution_count": null,
      "outputs": []
    },
    {
      "cell_type": "code",
      "source": [
        "df_trabajo_x = pd.get_dummies(df_trabajo_x, columns=['hotel','country','market_segment','distribution_channel','reserved_room_type','assigned_room_type','deposit_type','customer_type'], drop_first=True)\n",
        "#df_trabajo_x_OHE = pd.get_dummies(df_trabajo_x_OHE, columns=['country','market_segment','distribution_channel','reserved_room_type','assigned_room_type','deposit_type','customer_type'], drop_first=True)\n",
        "\n",
        "# Hay un par de variables que no consideramos que sea mejor con OHE como los mese que ya tienen un orden o meal que solo creemos que va agregar ruido\n",
        "le = LabelEncoder()\n",
        "# Convertimos nulos a string 'nan', es decir un valor posible mas\n",
        "for column in df_trabajo_x.columns:\n",
        "    if df_trabajo_x[column].dtype == 'object':\n",
        "        df_trabajo_x[column] = le.fit_transform(df_trabajo_x[column])"
      ],
      "metadata": {
        "id": "u0s16gODWy6O"
      },
      "execution_count": null,
      "outputs": []
    },
    {
      "cell_type": "code",
      "source": [
        "x_train, x_test, y_train, y_test = train_test_split(df_trabajo_x, \n",
        "                                                    df_trabajo_y, \n",
        "                                                    test_size=0.2,    #20% al conjunto de test\n",
        "                                                    random_state=13,  #para poder reproducir el experimento\n",
        "                                                    stratify=df_trabajo_y) #estratificado para mantener proporcion\n",
        "\n",
        "#Verifico Cantidad de Datos en cada set\n",
        "print('# Datos Entrenamiento: {}'.format(len(x_train)))\n",
        "print('# Datos Prueba: {}'.format(len(x_test)))\n",
        "\n",
        "#Verifico como quedaron balanceados\n",
        "for split_name, split in zip(['% Positivos Entrenamiento','% Positivos Prueba'],[y_train,y_test]):\n",
        "  print('{}: {:.3f}'.format(split_name,pd.Series(split).value_counts(normalize=True)[1]*100))"
      ],
      "metadata": {
        "colab": {
          "base_uri": "https://localhost:8080/"
        },
        "id": "Rsvus9h-W06v",
        "outputId": "3a74df8c-450e-4867-ed90-de4b2ebba8ec"
      },
      "execution_count": null,
      "outputs": [
        {
          "output_type": "stream",
          "name": "stdout",
          "text": [
            "# Datos Entrenamiento: 48505\n",
            "# Datos Prueba: 12127\n",
            "% Positivos Entrenamiento: 50.215\n",
            "% Positivos Prueba: 50.219\n"
          ]
        }
      ]
    },
    {
      "cell_type": "code",
      "source": [
        "#Armo una version escalada con minmax (media=0 , var=1  )\n",
        "scaler=preprocessing.StandardScaler()\n",
        "x_train_transform = scaler.fit_transform(x_train) \n",
        "x_test_transform  = scaler.transform(x_test) "
      ],
      "metadata": {
        "id": "nVQ4XQZAW3CR"
      },
      "execution_count": null,
      "outputs": []
    },
    {
      "cell_type": "markdown",
      "source": [
        "# Redes Neuronales"
      ],
      "metadata": {
        "id": "0m5WRRWjXdFD"
      }
    },
    {
      "cell_type": "markdown",
      "source": [
        "## Red Generica"
      ],
      "metadata": {
        "id": "_wOSqWgltFwQ"
      }
    },
    {
      "cell_type": "code",
      "source": [
        "def metricas(y_pred,y_test):\n",
        "\n",
        "  print(classification_report(y_test,y_pred))"
      ],
      "metadata": {
        "id": "GISv9KuMblWa"
      },
      "execution_count": null,
      "outputs": []
    },
    {
      "cell_type": "code",
      "source": [
        "# calcula la cantidad de clases\n",
        "cant_clases=len(np.unique(y_train))\n",
        "d_in=len(x_train.columns)\n",
        "\n",
        "modelo = keras.Sequential([\n",
        "    keras.layers.Dense(1,input_shape=(d_in,)),\n",
        "    keras.layers.Dense(1, activation='sigmoid')])\n",
        "\n",
        "modelo.summary()"
      ],
      "metadata": {
        "colab": {
          "base_uri": "https://localhost:8080/"
        },
        "id": "wyBnQqwTXj9M",
        "outputId": "c7029da2-d5ce-4a4c-af02-7561599ae743"
      },
      "execution_count": null,
      "outputs": [
        {
          "output_type": "stream",
          "name": "stdout",
          "text": [
            "Model: \"sequential\"\n",
            "_________________________________________________________________\n",
            " Layer (type)                Output Shape              Param #   \n",
            "=================================================================\n",
            " dense (Dense)               (None, 1)                 64        \n",
            "                                                                 \n",
            " dense_1 (Dense)             (None, 1)                 2         \n",
            "                                                                 \n",
            "=================================================================\n",
            "Total params: 66\n",
            "Trainable params: 66\n",
            "Non-trainable params: 0\n",
            "_________________________________________________________________\n"
          ]
        }
      ]
    },
    {
      "cell_type": "code",
      "source": [
        "modelo.compile(\n",
        "  optimizer=keras.optimizers.SGD(learning_rate=0.01), \n",
        "  loss='binary_crossentropy', \n",
        "  # metricas para ir calculando en cada iteracion o batch \n",
        "  metrics=['AUC'], \n",
        ")\n",
        "\n",
        "cant_epochs=100\n",
        "modelo_reserva = modelo.fit(x_train_transform,y_train,epochs=cant_epochs,batch_size=50,verbose=False)"
      ],
      "metadata": {
        "id": "S1i0FF11XmH_"
      },
      "execution_count": null,
      "outputs": []
    },
    {
      "cell_type": "code",
      "source": [
        "y_predic_ej1 = modelo.predict(x_test_transform)\n",
        "y_predic_cat_ej1 = np.where(y_predic_ej1>0.4,1,0)\n",
        "\n",
        "ds_validacion=pd.DataFrame(y_predic_cat_ej1,y_test).reset_index()\n",
        "ds_validacion.columns=['y_pred','y_real']\n",
        "\n",
        "tabla=pd.crosstab(ds_validacion.y_pred, ds_validacion.y_real)\n",
        "grf=sns.heatmap(tabla,annot=True, cmap = 'Blues')\n",
        "metricas(y_predic_cat_ej1,y_test)\n",
        "plt.show()"
      ],
      "metadata": {
        "colab": {
          "base_uri": "https://localhost:8080/",
          "height": 624
        },
        "id": "B8nlBSnnXn1D",
        "outputId": "d34e20a3-51e6-4bc6-ff1e-1cdabf5a9a08"
      },
      "execution_count": null,
      "outputs": [
        {
          "output_type": "stream",
          "name": "stdout",
          "text": [
            "379/379 [==============================] - 1s 1ms/step\n",
            "              precision    recall  f1-score   support\n",
            "\n",
            "           0       0.85      0.73      0.79      6037\n",
            "           1       0.77      0.87      0.82      6090\n",
            "\n",
            "    accuracy                           0.80     12127\n",
            "   macro avg       0.81      0.80      0.80     12127\n",
            "weighted avg       0.81      0.80      0.80     12127\n",
            "\n"
          ]
        },
        {
          "output_type": "display_data",
          "data": {
            "text/plain": [
              "<Figure size 640x480 with 2 Axes>"
            ],
            "image/png": "[encoded data removed]"
          },
          "metadata": {}
        }
      ]
    },
    {
      "cell_type": "code",
      "source": [
        "joblib.dump(modelo, \"/content/drive/My Drive/OrgaDeDatosRodriguez/TP_1/Modelos/red_neuronal_generica.joblib\")"
      ],
      "metadata": {
        "colab": {
          "base_uri": "https://localhost:8080/"
        },
        "id": "tC-Gyo-xt5Yt",
        "outputId": "35421882-fe5d-48b1-a168-9b46efabf479"
      },
      "execution_count": null,
      "outputs": [
        {
          "output_type": "execute_result",
          "data": {
            "text/plain": [
              "['/content/drive/My Drive/OrgaDeDatosRodriguez/TP_1/Modelos/red_neuronal_generica.joblib']"
            ]
          },
          "metadata": {},
          "execution_count": 10
        }
      ]
    },
    {
      "cell_type": "markdown",
      "source": [
        "## Red Mejorada"
      ],
      "metadata": {
        "id": "TeNtwQZTtJnN"
      }
    },
    {
      "cell_type": "code",
      "source": [
        "from sklearn.datasets import load_iris\n",
        "from sklearn.preprocessing import OneHotEncoder, StandardScaler\n",
        "# One hot encoding\n",
        "enc = OneHotEncoder()\n",
        "y_train_encoder = enc.fit_transform(y_train[:, np.newaxis]).toarray()\n",
        "y_test_encoder = enc.transform(y_test[:, np.newaxis]).toarray()"
      ],
      "metadata": {
        "colab": {
          "base_uri": "https://localhost:8080/"
        },
        "id": "a3DcBV9VxwsD",
        "outputId": "c1fd8911-6ae0-4432-bc6a-f2cc6f27cd94"
      },
      "execution_count": null,
      "outputs": [
        {
          "output_type": "stream",
          "name": "stderr",
          "text": [
            "<ipython-input-26-3660c14f065e>:5: FutureWarning: Support for multi-dimensional indexing (e.g. `obj[:, None]`) is deprecated and will be removed in a future version.  Convert to a numpy array before indexing instead.\n",
            "  y_train_encoder = enc.fit_transform(y_train[:, np.newaxis]).toarray()\n",
            "<ipython-input-26-3660c14f065e>:6: FutureWarning: Support for multi-dimensional indexing (e.g. `obj[:, None]`) is deprecated and will be removed in a future version.  Convert to a numpy array before indexing instead.\n",
            "  y_test_encoder = enc.transform(y_test[:, np.newaxis]).toarray()\n"
          ]
        }
      ]
    },
    {
      "cell_type": "code",
      "source": [
        "# calcula la cantidad de clases\n",
        "cant_clases=len(np.unique(y_train))\n",
        "\n",
        "d_in=len(x_train.columns)\n",
        "modelo_2 = keras.Sequential([\n",
        "    # input_shape solo en la primer capa\n",
        "    # Capa con 3 salidas, activación relu\n",
        "    keras.layers.Dense(2,input_shape=(d_in,), activation='relu',kernel_initializer='uniform'),\n",
        "    keras.layers.Dense(cant_clases, activation='softmax')])\n",
        "\n",
        "modelo_2.summary()"
      ],
      "metadata": {
        "colab": {
          "base_uri": "https://localhost:8080/"
        },
        "id": "PnBm3ecDtMKD",
        "outputId": "1d7b8f3d-dca7-46f9-9045-70b3fb3c1eb6"
      },
      "execution_count": null,
      "outputs": [
        {
          "output_type": "stream",
          "name": "stdout",
          "text": [
            "Model: \"sequential_8\"\n",
            "_________________________________________________________________\n",
            " Layer (type)                Output Shape              Param #   \n",
            "=================================================================\n",
            " dense_17 (Dense)            (None, 2)                 128       \n",
            "                                                                 \n",
            " dense_18 (Dense)            (None, 2)                 6         \n",
            "                                                                 \n",
            "=================================================================\n",
            "Total params: 134\n",
            "Trainable params: 134\n",
            "Non-trainable params: 0\n",
            "_________________________________________________________________\n"
          ]
        }
      ]
    },
    {
      "cell_type": "code",
      "source": [
        "modelo_2.compile(\n",
        "  optimizer=keras.optimizers.SGD(learning_rate=0.001), \n",
        "  loss='categorical_crossentropy', \n",
        "  # metricas para ir calculando en cada iteracion o batch \n",
        "  metrics=['AUC'], \n",
        ")\n",
        "\n",
        "cant_epochs=100\n",
        "\n",
        "historia_modelo=modelo_2.fit(x_train_transform,y_train_encoder,epochs=cant_epochs,batch_size=16,verbose=False)"
      ],
      "metadata": {
        "id": "8GqIvWeSu_FY"
      },
      "execution_count": null,
      "outputs": []
    },
    {
      "cell_type": "code",
      "source": [
        "y_pred = modelo_2.predict(x_test_transform)"
      ],
      "metadata": {
        "colab": {
          "base_uri": "https://localhost:8080/"
        },
        "id": "6d6edLpfwBy2",
        "outputId": "0225339b-c150-451c-9710-fb258455acff"
      },
      "execution_count": null,
      "outputs": [
        {
          "output_type": "stream",
          "name": "stdout",
          "text": [
            "379/379 [==============================] - 1s 2ms/step\n"
          ]
        }
      ]
    },
    {
      "cell_type": "code",
      "source": [
        "y_pred_classes=np.argmax(y_pred,axis=1).tolist()\n",
        "y_real_classes=np.argmax(y_test_encoder,axis=1).tolist()"
      ],
      "metadata": {
        "id": "5Qx_mvmkvFcM"
      },
      "execution_count": null,
      "outputs": []
    },
    {
      "cell_type": "code",
      "source": [
        "ds_validacion_iris=pd.DataFrame(y_pred_classes,y_real_classes).reset_index()\n",
        "ds_validacion_iris.columns=['y_pred','y_real']\n",
        "\n",
        "y_pred_cat = np.where(y_pred>0.4,1,0)\n",
        "\n",
        "tabla_iris=pd.crosstab(ds_validacion_iris.y_pred, ds_validacion_iris.y_real)\n",
        "grf=sns.heatmap(tabla_iris,annot=True, cmap = 'Blues')\n",
        "metricas(y_pred_cat,y_test_encoder)\n",
        "plt.show()"
      ],
      "metadata": {
        "colab": {
          "base_uri": "https://localhost:8080/",
          "height": 624
        },
        "id": "NDd2qfcTvGo6",
        "outputId": "52dbd8af-bcc0-4169-aad2-ec1b714c46c0"
      },
      "execution_count": null,
      "outputs": [
        {
          "output_type": "stream",
          "name": "stdout",
          "text": [
            "              precision    recall  f1-score   support\n",
            "\n",
            "           0       0.78      0.88      0.83      6037\n",
            "           1       0.76      0.90      0.82      6090\n",
            "\n",
            "   micro avg       0.77      0.89      0.83     12127\n",
            "   macro avg       0.77      0.89      0.83     12127\n",
            "weighted avg       0.77      0.89      0.83     12127\n",
            " samples avg       0.81      0.89      0.84     12127\n",
            "\n"
          ]
        },
        {
          "output_type": "display_data",
          "data": {
            "text/plain": [
              "<Figure size 640x480 with 2 Axes>"
            ],
            "image/png": "[encoded data removed]"
          },
          "metadata": {}
        }
      ]
    },
    {
      "cell_type": "code",
      "source": [
        "epochs = range(cant_epochs)\n",
        "\n",
        "plt.plot(epochs, historia_modelo.history['auc'], color='orange', label='AUC')\n",
        "plt.xlabel(\"epochs\")\n",
        "plt.ylabel(\"AUC\")\n",
        "plt.legend()"
      ],
      "metadata": {
        "colab": {
          "base_uri": "https://localhost:8080/",
          "height": 466
        },
        "id": "Ow0CYRdB0Ygf",
        "outputId": "efd2bccd-bc1d-4086-a6fa-eeb0bfbd8ba1"
      },
      "execution_count": null,
      "outputs": [
        {
          "output_type": "execute_result",
          "data": {
            "text/plain": [
              "<matplotlib.legend.Legend at 0x7f885d5562f0>"
            ]
          },
          "metadata": {},
          "execution_count": 38
        },
        {
          "output_type": "display_data",
          "data": {
            "text/plain": [
              "<Figure size 640x480 with 1 Axes>"
            ],
            "image/png": "[encoded data removed]"
          },
          "metadata": {}
        }
      ]
    },
    {
      "cell_type": "markdown",
      "source": [
        "## Otra Red"
      ],
      "metadata": {
        "id": "w9W6E_iX0piR"
      }
    },
    {
      "cell_type": "code",
      "source": [
        "from keras.wrappers.scikit_learn import KerasClassifier"
      ],
      "metadata": {
        "id": "33-Q8gYF0otC"
      },
      "execution_count": null,
      "outputs": []
    },
    {
      "cell_type": "code",
      "source": [
        "# Create the sklearn model for the network\n",
        "\n",
        "def create_model():\n",
        "    modelo= keras.Sequential([\n",
        "    keras.layers.Dense(2,input_shape=(d_in,), activation='relu',kernel_initializer='uniform'),\n",
        "    keras.layers.Dense(cant_clases, activation='softmax')])\n",
        "    \n",
        "    modelo.compile(\n",
        "      optimizer=keras.optimizers.SGD(learning_rate=0.01), \n",
        "      loss='categorical_crossentropy', \n",
        "      # metricas para ir calculando en cada iteracion o batch \n",
        "      metrics=['AUC'], \n",
        "    )\n",
        "    \n",
        "    return modelo"
      ],
      "metadata": {
        "id": "Ye9pGRX_01g7"
      },
      "execution_count": null,
      "outputs": []
    },
    {
      "cell_type": "code",
      "source": [
        "modelo_cv = KerasClassifier(build_fn=create_model)"
      ],
      "metadata": {
        "colab": {
          "base_uri": "https://localhost:8080/"
        },
        "id": "s-Y6S3eI05CA",
        "outputId": "ca03d6ca-b5c7-4ec5-8814-e8b644429cce"
      },
      "execution_count": null,
      "outputs": [
        {
          "output_type": "stream",
          "name": "stderr",
          "text": [
            "<ipython-input-43-916b8eeeda14>:1: DeprecationWarning: KerasClassifier is deprecated, use Sci-Keras (https://github.com/adriangb/scikeras) instead. See https://www.adriangb.com/scikeras/stable/migration.html for help migrating.\n",
            "  modelo_cv = KerasClassifier(build_fn=create_model)\n"
          ]
        }
      ]
    },
    {
      "cell_type": "code",
      "source": [
        "from sklearn.model_selection import GridSearchCV\n",
        "\n",
        "param_grid = {\n",
        "    'epochs': [50, 100, 150],\n",
        "    'batch_size' : [5, 10, 20]\n",
        "}\n",
        "\n",
        "print(param_grid)\n",
        "\n",
        "grid = GridSearchCV(estimator=modelo_cv, param_grid=param_grid)\n",
        "grid_result = grid.fit(x_train_transform, y_train_encoder)"
      ],
      "metadata": {
        "colab": {
          "base_uri": "https://localhost:8080/"
        },
        "id": "g3urhED508Ec",
        "outputId": "df08042a-ca9e-479f-e7f5-371dc9356d6e"
      },
      "execution_count": null,
      "outputs": [
        {
          "output_type": "stream",
          "name": "stdout",
          "text": [
            "{'epochs': [50, 100, 150], 'batch_size': [5, 10, 20]}\n",
            "Epoch 1/50\n",
            "7761/7761 [==============================] - 18s 2ms/step - loss: 0.4413 - auc: 0.8772\n",
            "Epoch 2/50\n",
            "7761/7761 [==============================] - 14s 2ms/step - loss: 0.3939 - auc: 0.9004\n",
            "Epoch 3/50\n",
            "7761/7761 [==============================] - 14s 2ms/step - loss: 0.3848 - auc: 0.9037\n",
            "Epoch 4/50\n",
            "7761/7761 [==============================] - 16s 2ms/step - loss: 0.3810 - auc: 0.9055\n",
            "Epoch 5/50\n",
            "7761/7761 [==============================] - 14s 2ms/step - loss: 0.3790 - auc: 0.9057\n",
            "Epoch 6/50\n",
            "7761/7761 [==============================] - 15s 2ms/step - loss: 0.3773 - auc: 0.9063\n",
            "Epoch 7/50\n",
            "7761/7761 [==============================] - 14s 2ms/step - loss: 0.3761 - auc: 0.9070\n",
            "Epoch 8/50\n",
            "7761/7761 [==============================] - 14s 2ms/step - loss: 0.3761 - auc: 0.9066\n",
            "Epoch 9/50\n",
            "7761/7761 [==============================] - 14s 2ms/step - loss: 0.3753 - auc: 0.9069\n",
            "Epoch 10/50\n",
            "7761/7761 [==============================] - 14s 2ms/step - loss: 0.3755 - auc: 0.9068\n",
            "Epoch 11/50\n",
            "7761/7761 [==============================] - 14s 2ms/step - loss: 0.3744 - auc: 0.9076\n",
            "Epoch 12/50\n",
            "7761/7761 [==============================] - 17s 2ms/step - loss: 0.3744 - auc: 0.9072\n",
            "Epoch 13/50\n",
            "7761/7761 [==============================] - 14s 2ms/step - loss: 0.3748 - auc: 0.9072\n",
            "Epoch 14/50\n",
            "7761/7761 [==============================] - 14s 2ms/step - loss: 0.3741 - auc: 0.9075\n",
            "Epoch 15/50\n",
            "7761/7761 [==============================] - 14s 2ms/step - loss: 0.3741 - auc: 0.9075\n",
            "Epoch 16/50\n",
            "7761/7761 [==============================] - 14s 2ms/step - loss: 0.3741 - auc: 0.9073\n",
            "Epoch 17/50\n",
            "7761/7761 [==============================] - 14s 2ms/step - loss: 0.3735 - auc: 0.9076\n",
            "Epoch 18/50\n",
            "7761/7761 [==============================] - 14s 2ms/step - loss: 0.3731 - auc: 0.9080\n",
            "Epoch 19/50\n",
            "7761/7761 [==============================] - 14s 2ms/step - loss: 0.3735 - auc: 0.9076\n",
            "Epoch 20/50\n",
            "7761/7761 [==============================] - 13s 2ms/step - loss: 0.3726 - auc: 0.9081\n",
            "Epoch 21/50\n",
            "7761/7761 [==============================] - 13s 2ms/step - loss: 0.3735 - auc: 0.9076\n",
            "Epoch 22/50\n",
            "7761/7761 [==============================] - 13s 2ms/step - loss: 0.3729 - auc: 0.9078\n",
            "Epoch 23/50\n",
            "7761/7761 [==============================] - 13s 2ms/step - loss: 0.3731 - auc: 0.9077\n",
            "Epoch 24/50\n",
            "7761/7761 [==============================] - 14s 2ms/step - loss: 0.3727 - auc: 0.9080\n",
            "Epoch 25/50\n",
            "7761/7761 [==============================] - 14s 2ms/step - loss: 0.3725 - auc: 0.9078\n",
            "Epoch 26/50\n",
            "7761/7761 [==============================] - 14s 2ms/step - loss: 0.3727 - auc: 0.9078\n",
            "Epoch 27/50\n",
            "7761/7761 [==============================] - 14s 2ms/step - loss: 0.3725 - auc: 0.9079\n",
            "Epoch 28/50\n",
            "7761/7761 [==============================] - 14s 2ms/step - loss: 0.3727 - auc: 0.9080\n",
            "Epoch 29/50\n",
            "7761/7761 [==============================] - 15s 2ms/step - loss: 0.3724 - auc: 0.9080\n",
            "Epoch 30/50\n",
            "7761/7761 [==============================] - 14s 2ms/step - loss: 0.3725 - auc: 0.9080\n",
            "Epoch 31/50\n",
            "7761/7761 [==============================] - 14s 2ms/step - loss: 0.3723 - auc: 0.9083\n",
            "Epoch 32/50\n",
            "7761/7761 [==============================] - 14s 2ms/step - loss: 0.3725 - auc: 0.9083\n",
            "Epoch 33/50\n",
            "7761/7761 [==============================] - 14s 2ms/step - loss: 0.3725 - auc: 0.9079\n",
            "Epoch 34/50\n",
            "7761/7761 [==============================] - 14s 2ms/step - loss: 0.3724 - auc: 0.9083\n",
            "Epoch 35/50\n",
            "7761/7761 [==============================] - 14s 2ms/step - loss: 0.3726 - auc: 0.9081\n",
            "Epoch 36/50\n",
            "7761/7761 [==============================] - 14s 2ms/step - loss: 0.3723 - auc: 0.9083\n",
            "Epoch 37/50\n",
            "7761/7761 [==============================] - 14s 2ms/step - loss: 0.3720 - auc: 0.9085\n",
            "Epoch 38/50\n",
            "7761/7761 [==============================] - 14s 2ms/step - loss: 0.3719 - auc: 0.9084\n",
            "Epoch 39/50\n",
            "7761/7761 [==============================] - 14s 2ms/step - loss: 0.3720 - auc: 0.9084\n",
            "Epoch 40/50\n",
            "7761/7761 [==============================] - 14s 2ms/step - loss: 0.3724 - auc: 0.9081\n",
            "Epoch 41/50\n",
            "7761/7761 [==============================] - 14s 2ms/step - loss: 0.3723 - auc: 0.9084\n",
            "Epoch 42/50\n",
            "7761/7761 [==============================] - 14s 2ms/step - loss: 0.3715 - auc: 0.9088\n",
            "Epoch 43/50\n",
            "7761/7761 [==============================] - 14s 2ms/step - loss: 0.3722 - auc: 0.9081\n",
            "Epoch 44/50\n",
            "7761/7761 [==============================] - 14s 2ms/step - loss: 0.3727 - auc: 0.9077\n",
            "Epoch 45/50\n",
            "7761/7761 [==============================] - 14s 2ms/step - loss: 0.3721 - auc: 0.9085\n",
            "Epoch 46/50\n",
            "7761/7761 [==============================] - 15s 2ms/step - loss: 0.3720 - auc: 0.9085\n",
            "Epoch 47/50\n",
            "7761/7761 [==============================] - 14s 2ms/step - loss: 0.3722 - auc: 0.9081\n",
            "Epoch 48/50\n",
            "7761/7761 [==============================] - 14s 2ms/step - loss: 0.3723 - auc: 0.9082\n",
            "Epoch 49/50\n",
            "7761/7761 [==============================] - 14s 2ms/step - loss: 0.3723 - auc: 0.9081\n",
            "Epoch 50/50\n",
            "7761/7761 [==============================] - 14s 2ms/step - loss: 0.3725 - auc: 0.9082\n",
            "1941/1941 [==============================] - 4s 2ms/step - loss: 0.3700 - auc: 0.9099\n",
            "Epoch 1/50\n"
          ]
        },
        {
          "output_type": "stream",
          "name": "stderr",
          "text": [
            "/usr/local/lib/python3.10/dist-packages/sklearn/model_selection/_validation.py:778: UserWarning: Scoring failed. The score on this train-test partition for these parameters will be set to nan. Details: \n",
            "Traceback (most recent call last):\n",
            "  File \"/usr/local/lib/python3.10/dist-packages/sklearn/model_selection/_validation.py\", line 767, in _score\n",
            "    scores = scorer(estimator, X_test, y_test)\n",
            "  File \"/usr/local/lib/python3.10/dist-packages/sklearn/metrics/_scorer.py\", line 444, in _passthrough_scorer\n",
            "    return estimator.score(*args, **kwargs)\n",
            "  File \"/usr/local/lib/python3.10/dist-packages/keras/wrappers/scikit_learn.py\", line 335, in score\n",
            "    raise ValueError(\n",
            "ValueError: The model is not configured to compute accuracy. You should pass `metrics=[\"accuracy\"]` to the `model.compile()` method.\n",
            "\n",
            "  warnings.warn(\n"
          ]
        },
        {
          "output_type": "stream",
          "name": "stdout",
          "text": [
            "7761/7761 [==============================] - 15s 2ms/step - loss: 0.4314 - auc: 0.8826\n",
            "Epoch 2/50\n",
            "7761/7761 [==============================] - 14s 2ms/step - loss: 0.3856 - auc: 0.9039\n",
            "Epoch 3/50\n",
            "7761/7761 [==============================] - 14s 2ms/step - loss: 0.3802 - auc: 0.9050\n",
            "Epoch 4/50\n",
            "7761/7761 [==============================] - 14s 2ms/step - loss: 0.3765 - auc: 0.9070\n",
            "Epoch 5/50\n",
            "7761/7761 [==============================] - 14s 2ms/step - loss: 0.3757 - auc: 0.9070\n",
            "Epoch 6/50\n",
            "7761/7761 [==============================] - 13s 2ms/step - loss: 0.3737 - auc: 0.9078\n",
            "Epoch 7/50\n",
            "7761/7761 [==============================] - 14s 2ms/step - loss: 0.3734 - auc: 0.9077\n",
            "Epoch 8/50\n",
            "7761/7761 [==============================] - 14s 2ms/step - loss: 0.3718 - auc: 0.9087\n",
            "Epoch 9/50\n",
            "7761/7761 [==============================] - 14s 2ms/step - loss: 0.3715 - auc: 0.9086\n",
            "Epoch 10/50\n",
            "7761/7761 [==============================] - 14s 2ms/step - loss: 0.3710 - auc: 0.9087\n",
            "Epoch 11/50\n",
            "7761/7761 [==============================] - 15s 2ms/step - loss: 0.3706 - auc: 0.9090\n",
            "Epoch 12/50\n",
            "7761/7761 [==============================] - 15s 2ms/step - loss: 0.3701 - auc: 0.9090\n",
            "Epoch 13/50\n",
            "7761/7761 [==============================] - 15s 2ms/step - loss: 0.3704 - auc: 0.9087\n",
            "Epoch 14/50\n",
            "7761/7761 [==============================] - 14s 2ms/step - loss: 0.3699 - auc: 0.9091\n",
            "Epoch 15/50\n",
            "7761/7761 [==============================] - 15s 2ms/step - loss: 0.3700 - auc: 0.9090\n",
            "Epoch 16/50\n",
            "7761/7761 [==============================] - 15s 2ms/step - loss: 0.3692 - auc: 0.9097\n",
            "Epoch 17/50\n",
            "7761/7761 [==============================] - 15s 2ms/step - loss: 0.3690 - auc: 0.9095\n",
            "Epoch 18/50\n",
            "7761/7761 [==============================] - 15s 2ms/step - loss: 0.3690 - auc: 0.9094\n",
            "Epoch 19/50\n",
            "7761/7761 [==============================] - 15s 2ms/step - loss: 0.3689 - auc: 0.9096\n",
            "Epoch 20/50\n",
            "7761/7761 [==============================] - 15s 2ms/step - loss: 0.3691 - auc: 0.9094\n",
            "Epoch 21/50\n",
            "7761/7761 [==============================] - 15s 2ms/step - loss: 0.3681 - auc: 0.9099\n",
            "Epoch 22/50\n",
            "7761/7761 [==============================] - 14s 2ms/step - loss: 0.3685 - auc: 0.9099\n",
            "Epoch 23/50\n",
            "7761/7761 [==============================] - 14s 2ms/step - loss: 0.3680 - auc: 0.9101\n",
            "Epoch 24/50\n",
            "7761/7761 [==============================] - 14s 2ms/step - loss: 0.3682 - auc: 0.9099\n",
            "Epoch 25/50\n",
            "7761/7761 [==============================] - 14s 2ms/step - loss: 0.3684 - auc: 0.9098\n",
            "Epoch 26/50\n",
            "7761/7761 [==============================] - 14s 2ms/step - loss: 0.3678 - auc: 0.9100\n",
            "Epoch 27/50\n",
            "7761/7761 [==============================] - 14s 2ms/step - loss: 0.3684 - auc: 0.9097\n",
            "Epoch 28/50\n",
            "7761/7761 [==============================] - 15s 2ms/step - loss: 0.3673 - auc: 0.9104\n",
            "Epoch 29/50\n",
            "7761/7761 [==============================] - 14s 2ms/step - loss: 0.3671 - auc: 0.9107\n",
            "Epoch 30/50\n",
            "7761/7761 [==============================] - 14s 2ms/step - loss: 0.3677 - auc: 0.9103\n",
            "Epoch 31/50\n",
            "7761/7761 [==============================] - 14s 2ms/step - loss: 0.3679 - auc: 0.9099\n",
            "Epoch 32/50\n",
            "7761/7761 [==============================] - 14s 2ms/step - loss: 0.3678 - auc: 0.9103\n",
            "Epoch 33/50\n",
            "7761/7761 [==============================] - 14s 2ms/step - loss: 0.3673 - auc: 0.9103\n",
            "Epoch 34/50\n",
            "7761/7761 [==============================] - 14s 2ms/step - loss: 0.3673 - auc: 0.9102\n",
            "Epoch 35/50\n",
            "7761/7761 [==============================] - 14s 2ms/step - loss: 0.3677 - auc: 0.9100\n",
            "Epoch 36/50\n",
            "7761/7761 [==============================] - 14s 2ms/step - loss: 0.3669 - auc: 0.9107\n",
            "Epoch 37/50\n",
            "7761/7761 [==============================] - 14s 2ms/step - loss: 0.3674 - auc: 0.9104\n",
            "Epoch 38/50\n",
            "7761/7761 [==============================] - 14s 2ms/step - loss: 0.3672 - auc: 0.9103\n",
            "Epoch 39/50\n",
            "7761/7761 [==============================] - 14s 2ms/step - loss: 0.3669 - auc: 0.9107\n",
            "Epoch 40/50\n",
            "7761/7761 [==============================] - 14s 2ms/step - loss: 0.3675 - auc: 0.9102\n",
            "Epoch 41/50\n",
            "7761/7761 [==============================] - 14s 2ms/step - loss: 0.3671 - auc: 0.9102\n",
            "Epoch 42/50\n",
            "7761/7761 [==============================] - 15s 2ms/step - loss: 0.3666 - auc: 0.9110\n",
            "Epoch 43/50\n",
            "7761/7761 [==============================] - 14s 2ms/step - loss: 0.3662 - auc: 0.9106\n",
            "Epoch 44/50\n",
            "7761/7761 [==============================] - 14s 2ms/step - loss: 0.3668 - auc: 0.9107\n",
            "Epoch 45/50\n",
            "7761/7761 [==============================] - 14s 2ms/step - loss: 0.3672 - auc: 0.9107\n",
            "Epoch 46/50\n",
            "7761/7761 [==============================] - 14s 2ms/step - loss: 0.3670 - auc: 0.9104\n",
            "Epoch 47/50\n",
            "7761/7761 [==============================] - 14s 2ms/step - loss: 0.3664 - auc: 0.9111\n",
            "Epoch 48/50\n",
            "7761/7761 [==============================] - 14s 2ms/step - loss: 0.3668 - auc: 0.9106\n",
            "Epoch 49/50\n",
            "7761/7761 [==============================] - 18s 2ms/step - loss: 0.3664 - auc: 0.9108\n",
            "Epoch 50/50\n",
            "7761/7761 [==============================] - 15s 2ms/step - loss: 0.3668 - auc: 0.9109\n",
            "1941/1941 [==============================] - 5s 2ms/step - loss: 0.3640 - auc: 0.9116\n",
            "Epoch 1/50\n",
            "7761/7761 [==============================] - 15s 2ms/step - loss: 0.4353 - auc: 0.8810\n",
            "Epoch 2/50\n",
            "7761/7761 [==============================] - 19s 2ms/step - loss: 0.3916 - auc: 0.9013\n",
            "Epoch 3/50\n",
            "7761/7761 [==============================] - 15s 2ms/step - loss: 0.3831 - auc: 0.9045\n",
            "Epoch 4/50\n",
            "7761/7761 [==============================] - 16s 2ms/step - loss: 0.3803 - auc: 0.9053\n",
            "Epoch 5/50\n",
            "7761/7761 [==============================] - 14s 2ms/step - loss: 0.3784 - auc: 0.9059\n",
            "Epoch 6/50\n",
            "7761/7761 [==============================] - 15s 2ms/step - loss: 0.3751 - auc: 0.9074\n",
            "Epoch 7/50\n",
            "7761/7761 [==============================] - 15s 2ms/step - loss: 0.3753 - auc: 0.9069\n",
            "Epoch 8/50\n",
            "7761/7761 [==============================] - 17s 2ms/step - loss: 0.3744 - auc: 0.9074\n",
            "Epoch 9/50\n",
            "7761/7761 [==============================] - 15s 2ms/step - loss: 0.3742 - auc: 0.9073\n",
            "Epoch 10/50\n",
            "7761/7761 [==============================] - 15s 2ms/step - loss: 0.3742 - auc: 0.9071\n",
            "Epoch 11/50\n",
            "7761/7761 [==============================] - 15s 2ms/step - loss: 0.3735 - auc: 0.9074\n",
            "Epoch 12/50\n",
            "7761/7761 [==============================] - 14s 2ms/step - loss: 0.3725 - auc: 0.9078\n",
            "Epoch 13/50\n",
            "7761/7761 [==============================] - 14s 2ms/step - loss: 0.3729 - auc: 0.9076\n",
            "Epoch 14/50\n",
            "7761/7761 [==============================] - 14s 2ms/step - loss: 0.3722 - auc: 0.9082\n",
            "Epoch 15/50\n",
            "7761/7761 [==============================] - 14s 2ms/step - loss: 0.3720 - auc: 0.9078\n",
            "Epoch 16/50\n",
            "7761/7761 [==============================] - 14s 2ms/step - loss: 0.3721 - auc: 0.9080\n",
            "Epoch 17/50\n",
            "7761/7761 [==============================] - 14s 2ms/step - loss: 0.3718 - auc: 0.9080\n",
            "Epoch 18/50\n",
            "7761/7761 [==============================] - 14s 2ms/step - loss: 0.3717 - auc: 0.9082\n",
            "Epoch 19/50\n",
            "7761/7761 [==============================] - 15s 2ms/step - loss: 0.3713 - auc: 0.9082\n",
            "Epoch 20/50\n",
            "7761/7761 [==============================] - 14s 2ms/step - loss: 0.3721 - auc: 0.9077\n",
            "Epoch 21/50\n",
            "7761/7761 [==============================] - 15s 2ms/step - loss: 0.3707 - auc: 0.9085\n",
            "Epoch 22/50\n",
            "7761/7761 [==============================] - 14s 2ms/step - loss: 0.3716 - auc: 0.9079\n",
            "Epoch 23/50\n",
            "7761/7761 [==============================] - 15s 2ms/step - loss: 0.3712 - auc: 0.9085\n",
            "Epoch 24/50\n",
            "7761/7761 [==============================] - 14s 2ms/step - loss: 0.3713 - auc: 0.9081\n",
            "Epoch 25/50\n",
            "7761/7761 [==============================] - 14s 2ms/step - loss: 0.3710 - auc: 0.9081\n",
            "Epoch 26/50\n",
            "7761/7761 [==============================] - 14s 2ms/step - loss: 0.3707 - auc: 0.9083\n",
            "Epoch 27/50\n",
            "7761/7761 [==============================] - 14s 2ms/step - loss: 0.3707 - auc: 0.9086\n",
            "Epoch 28/50\n",
            "7761/7761 [==============================] - 14s 2ms/step - loss: 0.3713 - auc: 0.9082\n",
            "Epoch 29/50\n",
            "7761/7761 [==============================] - 14s 2ms/step - loss: 0.3712 - auc: 0.9082\n",
            "Epoch 30/50\n",
            "7761/7761 [==============================] - 14s 2ms/step - loss: 0.3713 - auc: 0.9081\n",
            "Epoch 31/50\n",
            "7761/7761 [==============================] - 14s 2ms/step - loss: 0.3709 - auc: 0.9082\n",
            "Epoch 32/50\n",
            "7761/7761 [==============================] - 14s 2ms/step - loss: 0.3713 - auc: 0.9079\n",
            "Epoch 33/50\n",
            "7761/7761 [==============================] - 16s 2ms/step - loss: 0.3709 - auc: 0.9083\n",
            "Epoch 34/50\n",
            "7761/7761 [==============================] - 15s 2ms/step - loss: 0.3709 - auc: 0.9082\n",
            "Epoch 35/50\n",
            "7761/7761 [==============================] - 15s 2ms/step - loss: 0.3709 - auc: 0.9083\n",
            "Epoch 36/50\n",
            "7761/7761 [==============================] - 14s 2ms/step - loss: 0.3714 - auc: 0.9079\n",
            "Epoch 37/50\n",
            "7761/7761 [==============================] - 14s 2ms/step - loss: 0.3709 - auc: 0.9082\n",
            "Epoch 38/50\n",
            "7761/7761 [==============================] - 14s 2ms/step - loss: 0.3709 - auc: 0.9082\n",
            "Epoch 39/50\n",
            "7761/7761 [==============================] - 14s 2ms/step - loss: 0.3698 - auc: 0.9086\n",
            "Epoch 40/50\n",
            "7761/7761 [==============================] - 14s 2ms/step - loss: 0.3712 - auc: 0.9079\n",
            "Epoch 41/50\n",
            "7761/7761 [==============================] - 14s 2ms/step - loss: 0.3708 - auc: 0.9084\n",
            "Epoch 42/50\n",
            "7761/7761 [==============================] - 14s 2ms/step - loss: 0.3706 - auc: 0.9083\n",
            "Epoch 43/50\n",
            "7761/7761 [==============================] - 14s 2ms/step - loss: 0.3705 - auc: 0.9084\n",
            "Epoch 44/50\n",
            "7761/7761 [==============================] - 14s 2ms/step - loss: 0.3706 - auc: 0.9083\n",
            "Epoch 45/50\n",
            "7761/7761 [==============================] - 14s 2ms/step - loss: 0.3710 - auc: 0.9083\n",
            "Epoch 46/50\n",
            "7761/7761 [==============================] - 14s 2ms/step - loss: 0.3709 - auc: 0.9081\n",
            "Epoch 47/50\n",
            "7761/7761 [==============================] - 14s 2ms/step - loss: 0.3712 - auc: 0.9077\n",
            "Epoch 48/50\n",
            "7761/7761 [==============================] - 14s 2ms/step - loss: 0.3703 - auc: 0.9084\n",
            "Epoch 49/50\n",
            "7761/7761 [==============================] - 14s 2ms/step - loss: 0.3702 - auc: 0.9086\n",
            "Epoch 50/50\n",
            "7761/7761 [==============================] - 15s 2ms/step - loss: 0.3705 - auc: 0.9083\n",
            "1941/1941 [==============================] - 3s 2ms/step - loss: 0.3764 - auc: 0.9083\n",
            "Epoch 1/50\n",
            "7761/7761 [==============================] - 15s 2ms/step - loss: 0.4067 - auc: 0.8936\n",
            "Epoch 2/50\n",
            "7761/7761 [==============================] - 15s 2ms/step - loss: 0.3736 - auc: 0.9098\n",
            "Epoch 3/50\n",
            "7761/7761 [==============================] - 15s 2ms/step - loss: 0.3706 - auc: 0.9108\n",
            "Epoch 4/50\n",
            "7761/7761 [==============================] - 14s 2ms/step - loss: 0.3682 - auc: 0.9117\n",
            "Epoch 5/50\n",
            "7761/7761 [==============================] - 14s 2ms/step - loss: 0.3672 - auc: 0.9123\n",
            "Epoch 6/50\n",
            "7761/7761 [==============================] - 15s 2ms/step - loss: 0.3669 - auc: 0.9123\n",
            "Epoch 7/50\n",
            "7761/7761 [==============================] - 15s 2ms/step - loss: 0.3664 - auc: 0.9126\n",
            "Epoch 8/50\n",
            "7761/7761 [==============================] - 15s 2ms/step - loss: 0.3656 - auc: 0.9129\n",
            "Epoch 9/50\n",
            "7761/7761 [==============================] - 14s 2ms/step - loss: 0.3651 - auc: 0.9131\n",
            "Epoch 10/50\n",
            "7761/7761 [==============================] - 14s 2ms/step - loss: 0.3644 - auc: 0.9136\n",
            "Epoch 11/50\n",
            "7761/7761 [==============================] - 15s 2ms/step - loss: 0.3644 - auc: 0.9134\n",
            "Epoch 12/50\n",
            "7761/7761 [==============================] - 14s 2ms/step - loss: 0.3638 - auc: 0.9139\n",
            "Epoch 13/50\n",
            "7761/7761 [==============================] - 14s 2ms/step - loss: 0.3638 - auc: 0.9137\n",
            "Epoch 14/50\n",
            "7761/7761 [==============================] - 14s 2ms/step - loss: 0.3640 - auc: 0.9134\n",
            "Epoch 15/50\n",
            "7761/7761 [==============================] - 14s 2ms/step - loss: 0.3637 - auc: 0.9136\n",
            "Epoch 16/50\n",
            "7761/7761 [==============================] - 14s 2ms/step - loss: 0.3636 - auc: 0.9138\n",
            "Epoch 17/50\n",
            "7761/7761 [==============================] - 15s 2ms/step - loss: 0.3635 - auc: 0.9135\n",
            "Epoch 18/50\n",
            "7761/7761 [==============================] - 16s 2ms/step - loss: 0.3635 - auc: 0.9137\n",
            "Epoch 19/50\n",
            "7761/7761 [==============================] - 14s 2ms/step - loss: 0.3636 - auc: 0.9136\n",
            "Epoch 20/50\n",
            "7761/7761 [==============================] - 14s 2ms/step - loss: 0.3635 - auc: 0.9137\n",
            "Epoch 21/50\n",
            "7761/7761 [==============================] - 14s 2ms/step - loss: 0.3630 - auc: 0.9139\n",
            "Epoch 22/50\n",
            "7761/7761 [==============================] - 14s 2ms/step - loss: 0.3627 - auc: 0.9143\n",
            "Epoch 23/50\n",
            "7761/7761 [==============================] - 14s 2ms/step - loss: 0.3631 - auc: 0.9139\n",
            "Epoch 24/50\n",
            "7761/7761 [==============================] - 14s 2ms/step - loss: 0.3631 - auc: 0.9139\n",
            "Epoch 25/50\n",
            "7761/7761 [==============================] - 14s 2ms/step - loss: 0.3632 - auc: 0.9140\n",
            "Epoch 26/50\n",
            "7761/7761 [==============================] - 14s 2ms/step - loss: 0.3633 - auc: 0.9137\n",
            "Epoch 27/50\n",
            "7761/7761 [==============================] - 14s 2ms/step - loss: 0.3633 - auc: 0.9136\n",
            "Epoch 28/50\n",
            "7761/7761 [==============================] - 14s 2ms/step - loss: 0.3629 - auc: 0.9140\n",
            "Epoch 29/50\n",
            "7761/7761 [==============================] - 14s 2ms/step - loss: 0.3628 - auc: 0.9140\n",
            "Epoch 30/50\n",
            "7761/7761 [==============================] - 14s 2ms/step - loss: 0.3626 - auc: 0.9141\n",
            "Epoch 31/50\n",
            "7761/7761 [==============================] - 14s 2ms/step - loss: 0.3628 - auc: 0.9139\n",
            "Epoch 32/50\n",
            "7761/7761 [==============================] - 14s 2ms/step - loss: 0.3631 - auc: 0.9137\n",
            "Epoch 33/50\n",
            "7761/7761 [==============================] - 14s 2ms/step - loss: 0.3628 - auc: 0.9141\n",
            "Epoch 34/50\n",
            "7761/7761 [==============================] - 14s 2ms/step - loss: 0.3626 - auc: 0.9141\n",
            "Epoch 35/50\n",
            "7761/7761 [==============================] - 14s 2ms/step - loss: 0.3626 - auc: 0.9141\n",
            "Epoch 36/50\n",
            "7761/7761 [==============================] - 14s 2ms/step - loss: 0.3629 - auc: 0.9140\n",
            "Epoch 37/50\n",
            "7761/7761 [==============================] - 14s 2ms/step - loss: 0.3625 - auc: 0.9142\n",
            "Epoch 38/50\n",
            "7761/7761 [==============================] - 14s 2ms/step - loss: 0.3624 - auc: 0.9141\n",
            "Epoch 39/50\n",
            "7761/7761 [==============================] - 14s 2ms/step - loss: 0.3624 - auc: 0.9141\n",
            "Epoch 40/50\n",
            "2570/7761 [========>.....................] - ETA: 8s - loss: 0.3644 - auc: 0.9129"
          ]
        }
      ]
    },
    {
      "cell_type": "code",
      "source": [
        "print(\"Mejor modelo: %f %s\" % (grid_result.best_score_, grid_result.best_params_))"
      ],
      "metadata": {
        "id": "m3VJo2NV1IeS"
      },
      "execution_count": null,
      "outputs": []
    },
    {
      "cell_type": "code",
      "source": [
        "y_predic_iris_cv =grid.predict(x_test_transform)"
      ],
      "metadata": {
        "id": "h83D3R7S1NXS"
      },
      "execution_count": null,
      "outputs": []
    },
    {
      "cell_type": "code",
      "source": [
        "ds_validacion_iris=pd.DataFrame(y_predic_iris_cv,y_test).reset_index()\n",
        "ds_validacion_iris.columns=['y_pred','y_real']\n",
        "\n",
        "tabla_iris=pd.crosstab(ds_validacion_iris.y_pred, ds_validacion_iris.y_real)\n",
        "grf=sns.heatmap(tabla_iris,annot=True, cmap = 'Blues')\n",
        "metricas()\n",
        "plt.show()"
      ],
      "metadata": {
        "id": "9Z-vyf-n1Out"
      },
      "execution_count": null,
      "outputs": []
    },
    {
      "cell_type": "markdown",
      "source": [
        "# Submit\n"
      ],
      "metadata": {
        "id": "vWnowldVRXDa"
      }
    },
    {
      "cell_type": "code",
      "source": [
        "#AGent\n",
        "pivot_table = pd.pivot_table(df_trabajo, index=\"agent\", columns=\"is_canceled\", values=\"id\", aggfunc=\"count\", fill_value=0) \n",
        "pivot_table.columns = [\"No Cancelado\", \"Cancelado\"]\n",
        "pivot_table[\"Total\"] = pivot_table[\"No Cancelado\"] + pivot_table[\"Cancelado\"]\n",
        "pivot_table[\"Porcentaje de Cancelados\"] = np.rint(pivot_table[\"Cancelado\"]/pivot_table[\"Total\"]*100)\n",
        "\n",
        "agents = pivot_table[(pivot_table[\"Porcentaje de Cancelados\"] > 65) & (pivot_table[\"Total\"] > 100)].index.to_list()\n",
        "\n",
        "df_test[\"agent_cancela_seguido\"] = df_test[\"agent\"].isin(agents)\n",
        "\n",
        "#Habitacion correcta\n",
        "df_test['habitacion_correcta'] = (df_test['reserved_room_type'] == df_test['assigned_room_type'])\n",
        "\n",
        "#Estadia\n",
        "stay_mapping = {\n",
        "    0: \"Reservas sin\\nnoches\",\n",
        "    1: \"Reservas entre\\nsemana\",\n",
        "    2: \"Reservas en fin\\nde semana\",\n",
        "    3: \"Reserva con\\nambos casos\"\n",
        "}\n",
        "\n",
        "df_test['estadia'] = (\n",
        "    df_test['stays_in_weekend_nights'].apply(lambda x: 2 if x > 0 else 0) + \n",
        "    df_test['stays_in_week_nights'].apply(lambda x: 1 if x > 0 else 0)\n",
        ")\n",
        "\n",
        "\n",
        "df_test['estadia'] = df_test['estadia'].map(stay_mapping)\n",
        "\n",
        "df_test['country'].fillna(\"Otros\")\n",
        "\n",
        "df_test.loc[df_test[\"assigned_room_type\"].isin([\"B\", \"C\", \"H\",\"I\",\"K\",\"P\",\"L\"]), \"assigned_room_type\"] = \"Otros\"\n",
        "df_test.loc[df_test[\"reserved_room_type\"].isin([\"B\", \"C\", \"H\",\"I\",\"K\",\"P\",\"L\"]), \"reserved_room_type\"] = \"Otros\"\n",
        "\n",
        "lista_paises = df_trabajo[\"country\"].value_counts().index.to_list()\n",
        "lista_paises.remove(\"Otros\")\n",
        "\n",
        "df_test.loc[~df_test[\"country\"].isin(lista_paises), \"country\"] = \"Otros\""
      ],
      "metadata": {
        "id": "YgjNWdXMRZLL"
      },
      "execution_count": null,
      "outputs": []
    },
    {
      "cell_type": "code",
      "source": [
        "X_submission = pd.get_dummies(df_test, columns=['hotel','country','market_segment','distribution_channel','reserved_room_type','assigned_room_type','deposit_type','customer_type'], drop_first=True)\n",
        "\n",
        "from sklearn.preprocessing import (\n",
        "    LabelEncoder\n",
        ")\n",
        "\n",
        "le = LabelEncoder()\n",
        "# Convertimos nulos a string 'nan', es decir un valor posible mas\n",
        "for column in X_submission.columns:\n",
        "    if X_submission[column].dtype == 'object':\n",
        "        X_submission[column] = le.fit_transform(X_submission[column])"
      ],
      "metadata": {
        "id": "3HtsKbGTSC_o"
      },
      "execution_count": null,
      "outputs": []
    },
    {
      "cell_type": "code",
      "source": [
        "X_submission.drop(['id','company','reservation_status_date'], axis='columns',inplace=True)\n",
        "X_submission.fillna(0, inplace=True)\n",
        "\n",
        "X_submission_scaler = scaler.transform(X_submission) "
      ],
      "metadata": {
        "id": "dc-YXPVWSET0"
      },
      "execution_count": null,
      "outputs": []
    },
    {
      "cell_type": "code",
      "source": [
        "y_pred_1 = modelo.predict(X_submission_scaler)\n",
        "y_pred_modelo = np.where(y_pred_1 >0.4, 1,0)\n",
        "y_pred = y_pred_modelo.flatten()"
      ],
      "metadata": {
        "colab": {
          "base_uri": "https://localhost:8080/"
        },
        "id": "kjpG7ycfSFoe",
        "outputId": "497dc68b-4ccb-4bdd-bb3d-a9f8b75aa178"
      },
      "execution_count": null,
      "outputs": [
        {
          "output_type": "stream",
          "name": "stdout",
          "text": [
            "830/830 [==============================] - 2s 2ms/step\n"
          ]
        }
      ]
    },
    {
      "cell_type": "code",
      "source": [
        "df_submission = pd.DataFrame({'id': df_test['id'], 'is_canceled': y_pred})\n",
        "df_submission.head()"
      ],
      "metadata": {
        "colab": {
          "base_uri": "https://localhost:8080/",
          "height": 206
        },
        "id": "qrSr9thkSHOh",
        "outputId": "0ebc1967-0d1b-4be0-8da3-8c2b72c96f5d"
      },
      "execution_count": null,
      "outputs": [
        {
          "output_type": "execute_result",
          "data": {
            "text/plain": [
              "                                     id  is_canceled\n",
              "0  e6d0d58a-ab96-44d3-b28f-85df1cc15f1e            1\n",
              "1  aba9aac2-4495-4645-a60e-90328713c999            1\n",
              "2  b345b5dc-c804-4d77-a39f-1f4e65d1f1ad            0\n",
              "3  ce1b400e-afa1-4946-bdff-004b859eb61c            1\n",
              "4  c4fbec0d-8e2e-4db2-9d4f-a6ccb9f51214            1"
            ],
            "text/html": [
              "\n",
              "  <div id=\"df-07d6cb97-1539-4298-8ca0-0d36987b9ff4\">\n",
              "    <div class=\"colab-df-container\">\n",
              "      <div>\n",
              "<style scoped>\n",
              "    .dataframe tbody tr th:only-of-type {\n",
              "        vertical-align: middle;\n",
              "    }\n",
              "\n",
              "    .dataframe tbody tr th {\n",
              "        vertical-align: top;\n",
              "    }\n",
              "\n",
              "    .dataframe thead th {\n",
              "        text-align: right;\n",
              "    }\n",
              "</style>\n",
              "<table border=\"1\" class=\"dataframe\">\n",
              "  <thead>\n",
              "    <tr style=\"text-align: right;\">\n",
              "      <th></th>\n",
              "      <th>id</th>\n",
              "      <th>is_canceled</th>\n",
              "    </tr>\n",
              "  </thead>\n",
              "  <tbody>\n",
              "    <tr>\n",
              "      <th>0</th>\n",
              "      <td>e6d0d58a-ab96-44d3-b28f-85df1cc15f1e</td>\n",
              "      <td>1</td>\n",
              "    </tr>\n",
              "    <tr>\n",
              "      <th>1</th>\n",
              "      <td>aba9aac2-4495-4645-a60e-90328713c999</td>\n",
              "      <td>1</td>\n",
              "    </tr>\n",
              "    <tr>\n",
              "      <th>2</th>\n",
              "      <td>b345b5dc-c804-4d77-a39f-1f4e65d1f1ad</td>\n",
              "      <td>0</td>\n",
              "    </tr>\n",
              "    <tr>\n",
              "      <th>3</th>\n",
              "      <td>ce1b400e-afa1-4946-bdff-004b859eb61c</td>\n",
              "      <td>1</td>\n",
              "    </tr>\n",
              "    <tr>\n",
              "      <th>4</th>\n",
              "      <td>c4fbec0d-8e2e-4db2-9d4f-a6ccb9f51214</td>\n",
              "      <td>1</td>\n",
              "    </tr>\n",
              "  </tbody>\n",
              "</table>\n",
              "</div>\n",
              "      <button class=\"colab-df-convert\" onclick=\"convertToInteractive('df-07d6cb97-1539-4298-8ca0-0d36987b9ff4')\"\n",
              "              title=\"Convert this dataframe to an interactive table.\"\n",
              "              style=\"display:none;\">\n",
              "        \n",
              "  <svg xmlns=\"http://www.w3.org/2000/svg\" height=\"24px\"viewBox=\"0 0 24 24\"\n",
              "       width=\"24px\">\n",
              "    <path d=\"M0 0h24v24H0V0z\" fill=\"none\"/>\n",
              "    <path d=\"M18.56 5.44l.94 2.06.94-2.06 2.06-.94-2.06-.94-.94-2.06-.94 2.06-2.06.94zm-11 1L8.5 8.5l.94-2.06 2.06-.94-2.06-.94L8.5 2.5l-.94 2.06-2.06.94zm10 10l.94 2.06.94-2.06 2.06-.94-2.06-.94-.94-2.06-.94 2.06-2.06.94z\"/><path d=\"M17.41 7.96l-1.37-1.37c-.4-.4-.92-.59-1.43-.59-.52 0-1.04.2-1.43.59L10.3 9.45l-7.72 7.72c-.78.78-.78 2.05 0 2.83L4 21.41c.39.39.9.59 1.41.59.51 0 1.02-.2 1.41-.59l7.78-7.78 2.81-2.81c.8-.78.8-2.07 0-2.86zM5.41 20L4 18.59l7.72-7.72 1.47 1.35L5.41 20z\"/>\n",
              "  </svg>\n",
              "      </button>\n",
              "      \n",
              "  <style>\n",
              "    .colab-df-container {\n",
              "      display:flex;\n",
              "      flex-wrap:wrap;\n",
              "      gap: 12px;\n",
              "    }\n",
              "\n",
              "    .colab-df-convert {\n",
              "      background-color: #E8F0FE;\n",
              "      border: none;\n",
              "      border-radius: 50%;\n",
              "      cursor: pointer;\n",
              "      display: none;\n",
              "      fill: #1967D2;\n",
              "      height: 32px;\n",
              "      padding: 0 0 0 0;\n",
              "      width: 32px;\n",
              "    }\n",
              "\n",
              "    .colab-df-convert:hover {\n",
              "      background-color: #E2EBFA;\n",
              "      box-shadow: 0px 1px 2px rgba(60, 64, 67, 0.3), 0px 1px 3px 1px rgba(60, 64, 67, 0.15);\n",
              "      fill: #174EA6;\n",
              "    }\n",
              "\n",
              "    [theme=dark] .colab-df-convert {\n",
              "      background-color: #3B4455;\n",
              "      fill: #D2E3FC;\n",
              "    }\n",
              "\n",
              "    [theme=dark] .colab-df-convert:hover {\n",
              "      background-color: #434B5C;\n",
              "      box-shadow: 0px 1px 3px 1px rgba(0, 0, 0, 0.15);\n",
              "      filter: drop-shadow(0px 1px 2px rgba(0, 0, 0, 0.3));\n",
              "      fill: #FFFFFF;\n",
              "    }\n",
              "  </style>\n",
              "\n",
              "      <script>\n",
              "        const buttonEl =\n",
              "          document.querySelector('#df-07d6cb97-1539-4298-8ca0-0d36987b9ff4 button.colab-df-convert');\n",
              "        buttonEl.style.display =\n",
              "          google.colab.kernel.accessAllowed ? 'block' : 'none';\n",
              "\n",
              "        async function convertToInteractive(key) {\n",
              "          const element = document.querySelector('#df-07d6cb97-1539-4298-8ca0-0d36987b9ff4');\n",
              "          const dataTable =\n",
              "            await google.colab.kernel.invokeFunction('convertToInteractive',\n",
              "                                                     [key], {});\n",
              "          if (!dataTable) return;\n",
              "\n",
              "          const docLinkHtml = 'Like what you see? Visit the ' +\n",
              "            '<a target=\"_blank\" href=https://colab.research.google.com/notebooks/data_table.ipynb>data table notebook</a>'\n",
              "            + ' to learn more about interactive tables.';\n",
              "          element.innerHTML = '';\n",
              "          dataTable['output_type'] = 'display_data';\n",
              "          await google.colab.output.renderOutput(dataTable, element);\n",
              "          const docLink = document.createElement('div');\n",
              "          docLink.innerHTML = docLinkHtml;\n",
              "          element.appendChild(docLink);\n",
              "        }\n",
              "      </script>\n",
              "    </div>\n",
              "  </div>\n",
              "  "
            ]
          },
          "metadata": {},
          "execution_count": 53
        }
      ]
    },
    {
      "cell_type": "code",
      "source": [
        "df_submission.to_csv('/content/drive/My Drive/OrgaDeDatosRodriguez/TP_1/Submission/chp4_redes.csv', index=False)"
      ],
      "metadata": {
        "id": "5ogesJmLSITh"
      },
      "execution_count": null,
      "outputs": []
    }
  ]
}