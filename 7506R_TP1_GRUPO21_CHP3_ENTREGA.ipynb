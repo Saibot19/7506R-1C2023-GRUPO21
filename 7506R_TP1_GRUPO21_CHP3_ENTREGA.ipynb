{
  "nbformat": 4,
  "nbformat_minor": 0,
  "metadata": {
    "colab": {
      "provenance": [],
      "collapsed_sections": [
        "0b_DjfQFmUkg"
      ],
      "gpuType": "T4",
      "toc_visible": true,
      "include_colab_link": true
    },
    "kernelspec": {
      "name": "python3",
      "display_name": "Python 3"
    },
    "language_info": {
      "name": "python"
    },
    "gpuClass": "standard"
  },
  "cells": [
    {
      "cell_type": "markdown",
      "metadata": {
        "id": "view-in-github",
        "colab_type": "text"
      },
      "source": [
        "<a href=\"https://colab.research.google.com/github/Saibot19/7506R-1C2023-GRUPO21/blob/main/7506R_TP1_GRUPO21_CHP3_ENTREGA.ipynb\" target=\"_parent\"><img src=\"https://colab.research.google.com/assets/colab-badge.svg\" alt=\"Open In Colab\"/></a>"
      ]
    },
    {
      "cell_type": "markdown",
      "source": [
        "## Importaciones"
      ],
      "metadata": {
        "id": "jmMoeRa64qRc"
      }
    },
    {
      "cell_type": "code",
      "source": [
        "!pip install 'dtreeviz'"
      ],
      "metadata": {
        "colab": {
          "base_uri": "https://localhost:8080/"
        },
        "id": "cKTrfJneni7H",
        "outputId": "9582c218-80a7-488c-b395-d757d2f1aba7"
      },
      "execution_count": 1,
      "outputs": [
        {
          "output_type": "stream",
          "name": "stdout",
          "text": [
            "Looking in indexes: https://pypi.org/simple, https://us-python.pkg.dev/colab-wheels/public/simple/\n",
            "Collecting dtreeviz\n",
            "  Downloading dtreeviz-2.2.1-py3-none-any.whl (91 kB)\n",
            "\u001b[2K     \u001b[90m━━━━━━━━━━━━━━━━━━━━━━━━━━━━━━━━━━━━━━━━\u001b[0m \u001b[32m91.5/91.5 kB\u001b[0m \u001b[31m2.2 MB/s\u001b[0m eta \u001b[36m0:00:00\u001b[0m\n",
            "\u001b[?25hRequirement already satisfied: graphviz>=0.9 in /usr/local/lib/python3.10/dist-packages (from dtreeviz) (0.20.1)\n",
            "Requirement already satisfied: pandas in /usr/local/lib/python3.10/dist-packages (from dtreeviz) (1.5.3)\n",
            "Requirement already satisfied: numpy in /usr/local/lib/python3.10/dist-packages (from dtreeviz) (1.22.4)\n",
            "Requirement already satisfied: scikit-learn in /usr/local/lib/python3.10/dist-packages (from dtreeviz) (1.2.2)\n",
            "Requirement already satisfied: matplotlib in /usr/local/lib/python3.10/dist-packages (from dtreeviz) (3.7.1)\n",
            "Collecting colour (from dtreeviz)\n",
            "  Downloading colour-0.1.5-py2.py3-none-any.whl (23 kB)\n",
            "Requirement already satisfied: pytest in /usr/local/lib/python3.10/dist-packages (from dtreeviz) (7.2.2)\n",
            "Requirement already satisfied: contourpy>=1.0.1 in /usr/local/lib/python3.10/dist-packages (from matplotlib->dtreeviz) (1.0.7)\n",
            "Requirement already satisfied: cycler>=0.10 in /usr/local/lib/python3.10/dist-packages (from matplotlib->dtreeviz) (0.11.0)\n",
            "Requirement already satisfied: fonttools>=4.22.0 in /usr/local/lib/python3.10/dist-packages (from matplotlib->dtreeviz) (4.39.3)\n",
            "Requirement already satisfied: kiwisolver>=1.0.1 in /usr/local/lib/python3.10/dist-packages (from matplotlib->dtreeviz) (1.4.4)\n",
            "Requirement already satisfied: packaging>=20.0 in /usr/local/lib/python3.10/dist-packages (from matplotlib->dtreeviz) (23.1)\n",
            "Requirement already satisfied: pillow>=6.2.0 in /usr/local/lib/python3.10/dist-packages (from matplotlib->dtreeviz) (8.4.0)\n",
            "Requirement already satisfied: pyparsing>=2.3.1 in /usr/local/lib/python3.10/dist-packages (from matplotlib->dtreeviz) (3.0.9)\n",
            "Requirement already satisfied: python-dateutil>=2.7 in /usr/local/lib/python3.10/dist-packages (from matplotlib->dtreeviz) (2.8.2)\n",
            "Requirement already satisfied: pytz>=2020.1 in /usr/local/lib/python3.10/dist-packages (from pandas->dtreeviz) (2022.7.1)\n",
            "Requirement already satisfied: attrs>=19.2.0 in /usr/local/lib/python3.10/dist-packages (from pytest->dtreeviz) (23.1.0)\n",
            "Requirement already satisfied: iniconfig in /usr/local/lib/python3.10/dist-packages (from pytest->dtreeviz) (2.0.0)\n",
            "Requirement already satisfied: pluggy<2.0,>=0.12 in /usr/local/lib/python3.10/dist-packages (from pytest->dtreeviz) (1.0.0)\n",
            "Requirement already satisfied: exceptiongroup>=1.0.0rc8 in /usr/local/lib/python3.10/dist-packages (from pytest->dtreeviz) (1.1.1)\n",
            "Requirement already satisfied: tomli>=1.0.0 in /usr/local/lib/python3.10/dist-packages (from pytest->dtreeviz) (2.0.1)\n",
            "Requirement already satisfied: scipy>=1.3.2 in /usr/local/lib/python3.10/dist-packages (from scikit-learn->dtreeviz) (1.10.1)\n",
            "Requirement already satisfied: joblib>=1.1.1 in /usr/local/lib/python3.10/dist-packages (from scikit-learn->dtreeviz) (1.2.0)\n",
            "Requirement already satisfied: threadpoolctl>=2.0.0 in /usr/local/lib/python3.10/dist-packages (from scikit-learn->dtreeviz) (3.1.0)\n",
            "Requirement already satisfied: six>=1.5 in /usr/local/lib/python3.10/dist-packages (from python-dateutil>=2.7->matplotlib->dtreeviz) (1.16.0)\n",
            "Installing collected packages: colour, dtreeviz\n",
            "Successfully installed colour-0.1.5 dtreeviz-2.2.1\n"
          ]
        }
      ]
    },
    {
      "cell_type": "code",
      "execution_count": 12,
      "metadata": {
        "id": "OH8PWzZA1MSg",
        "colab": {
          "base_uri": "https://localhost:8080/",
          "height": 1000
        },
        "outputId": "f85756f9-a88b-4673-dbc2-fd0d0ccd7973"
      },
      "outputs": [
        {
          "output_type": "stream",
          "name": "stdout",
          "text": [
            "Mounted at /content/drive\n"
          ]
        },
        {
          "output_type": "execute_result",
          "data": {
            "text/plain": [
              "              hotel  lead_time  arrival_date_year arrival_date_month  \\\n",
              "0        City Hotel         49               2016          September   \n",
              "1      Resort Hotel          4               2015            October   \n",
              "2        City Hotel         25               2016            October   \n",
              "3        City Hotel         26               2016           December   \n",
              "4        City Hotel        104               2017              March   \n",
              "...             ...        ...                ...                ...   \n",
              "60627  Resort Hotel         24               2017            January   \n",
              "60628    City Hotel          0               2016          September   \n",
              "60629    City Hotel         10               2017                May   \n",
              "60630  Resort Hotel        143               2015            October   \n",
              "60631    City Hotel         57               2016              April   \n",
              "\n",
              "       arrival_date_week_number  arrival_date_day_of_month  \\\n",
              "0                            37                          5   \n",
              "1                            44                         31   \n",
              "2                            42                         13   \n",
              "3                            51                         12   \n",
              "4                            12                         19   \n",
              "...                         ...                        ...   \n",
              "60627                         4                         27   \n",
              "60628                        36                          2   \n",
              "60629                        19                          8   \n",
              "60630                        41                         10   \n",
              "60631                        17                         17   \n",
              "\n",
              "       stays_in_weekend_nights  stays_in_week_nights  adults  children  ...  \\\n",
              "0                            1                     2       1       0.0  ...   \n",
              "1                            0                     1       2       0.0  ...   \n",
              "2                            0                     1       2       2.0  ...   \n",
              "3                            2                     5       2       0.0  ...   \n",
              "4                            2                     5       2       0.0  ...   \n",
              "...                        ...                   ...     ...       ...  ...   \n",
              "60627                        0                     2       2       0.0  ...   \n",
              "60628                        0                     1       1       0.0  ...   \n",
              "60629                        1                     2       1       0.0  ...   \n",
              "60630                        2                     5       2       0.0  ...   \n",
              "60631                        2                     5       2       0.0  ...   \n",
              "\n",
              "       days_in_waiting_list    customer_type     adr  \\\n",
              "0                         0        Transient  115.50   \n",
              "1                         0        Transient   42.00   \n",
              "2                         0        Transient  229.00   \n",
              "3                         0        Transient   75.00   \n",
              "4                         0  Transient-Party   75.00   \n",
              "...                     ...              ...     ...   \n",
              "60627                     0        Transient   48.00   \n",
              "60628                     0        Transient  149.00   \n",
              "60629                     0        Transient   95.00   \n",
              "60630                     0        Transient   36.05   \n",
              "60631                     0        Transient  143.29   \n",
              "\n",
              "      required_car_parking_spaces total_of_special_requests  \\\n",
              "0                               0                         1   \n",
              "1                               1                         0   \n",
              "2                               0                         2   \n",
              "3                               0                         0   \n",
              "4                               0                         1   \n",
              "...                           ...                       ...   \n",
              "60627                           0                         1   \n",
              "60628                           0                         0   \n",
              "60629                           0                         0   \n",
              "60630                           0                         0   \n",
              "60631                           0                         0   \n",
              "\n",
              "                                         id  is_canceled  \\\n",
              "0      7aa4cc6b-b92c-4061-b21d-4f9e0cac4689            1   \n",
              "1      b1428f80-c56c-4ae4-91a9-6962edae08b1            0   \n",
              "2      2226c018-ea20-4c4e-8f71-ea66aee70d7c            0   \n",
              "3      314f56dc-2e4d-4298-9bdd-27bb008bffff            1   \n",
              "4      28c75445-c603-413a-babf-ad377018b592            0   \n",
              "...                                     ...          ...   \n",
              "60627  32bffef5-5404-4e86-9f39-fd2282e1ad7f            1   \n",
              "60628  cc922a1c-356e-42a5-a984-0b1af03c2f5c            0   \n",
              "60629  76fb0e83-59df-43ee-9c33-aec51030ed45            0   \n",
              "60630  01906859-1094-4e37-b13e-b015b594d159            1   \n",
              "60631  7137e599-4442-41fb-b147-4aba9f344e38            1   \n",
              "\n",
              "       agent_cancela_seguido habitacion_correcta                   estadia  \n",
              "0                      False                True  Reserva con\\nambos casos  \n",
              "1                      False                True    Reservas entre\\nsemana  \n",
              "2                      False                True    Reservas entre\\nsemana  \n",
              "3                       True                True  Reserva con\\nambos casos  \n",
              "4                       True                True  Reserva con\\nambos casos  \n",
              "...                      ...                 ...                       ...  \n",
              "60627                  False               False    Reservas entre\\nsemana  \n",
              "60628                  False                True    Reservas entre\\nsemana  \n",
              "60629                  False                True  Reserva con\\nambos casos  \n",
              "60630                  False                True  Reserva con\\nambos casos  \n",
              "60631                  False                True  Reserva con\\nambos casos  \n",
              "\n",
              "[60632 rows x 33 columns]"
            ],
            "text/html": [
              "\n",
              "  <div id=\"df-6fdce5cc-b314-46b6-b46f-ecc8bbb0d22e\">\n",
              "    <div class=\"colab-df-container\">\n",
              "      <div>\n",
              "<style scoped>\n",
              "    .dataframe tbody tr th:only-of-type {\n",
              "        vertical-align: middle;\n",
              "    }\n",
              "\n",
              "    .dataframe tbody tr th {\n",
              "        vertical-align: top;\n",
              "    }\n",
              "\n",
              "    .dataframe thead th {\n",
              "        text-align: right;\n",
              "    }\n",
              "</style>\n",
              "<table border=\"1\" class=\"dataframe\">\n",
              "  <thead>\n",
              "    <tr style=\"text-align: right;\">\n",
              "      <th></th>\n",
              "      <th>hotel</th>\n",
              "      <th>lead_time</th>\n",
              "      <th>arrival_date_year</th>\n",
              "      <th>arrival_date_month</th>\n",
              "      <th>arrival_date_week_number</th>\n",
              "      <th>arrival_date_day_of_month</th>\n",
              "      <th>stays_in_weekend_nights</th>\n",
              "      <th>stays_in_week_nights</th>\n",
              "      <th>adults</th>\n",
              "      <th>children</th>\n",
              "      <th>...</th>\n",
              "      <th>days_in_waiting_list</th>\n",
              "      <th>customer_type</th>\n",
              "      <th>adr</th>\n",
              "      <th>required_car_parking_spaces</th>\n",
              "      <th>total_of_special_requests</th>\n",
              "      <th>id</th>\n",
              "      <th>is_canceled</th>\n",
              "      <th>agent_cancela_seguido</th>\n",
              "      <th>habitacion_correcta</th>\n",
              "      <th>estadia</th>\n",
              "    </tr>\n",
              "  </thead>\n",
              "  <tbody>\n",
              "    <tr>\n",
              "      <th>0</th>\n",
              "      <td>City Hotel</td>\n",
              "      <td>49</td>\n",
              "      <td>2016</td>\n",
              "      <td>September</td>\n",
              "      <td>37</td>\n",
              "      <td>5</td>\n",
              "      <td>1</td>\n",
              "      <td>2</td>\n",
              "      <td>1</td>\n",
              "      <td>0.0</td>\n",
              "      <td>...</td>\n",
              "      <td>0</td>\n",
              "      <td>Transient</td>\n",
              "      <td>115.50</td>\n",
              "      <td>0</td>\n",
              "      <td>1</td>\n",
              "      <td>7aa4cc6b-b92c-4061-b21d-4f9e0cac4689</td>\n",
              "      <td>1</td>\n",
              "      <td>False</td>\n",
              "      <td>True</td>\n",
              "      <td>Reserva con\\nambos casos</td>\n",
              "    </tr>\n",
              "    <tr>\n",
              "      <th>1</th>\n",
              "      <td>Resort Hotel</td>\n",
              "      <td>4</td>\n",
              "      <td>2015</td>\n",
              "      <td>October</td>\n",
              "      <td>44</td>\n",
              "      <td>31</td>\n",
              "      <td>0</td>\n",
              "      <td>1</td>\n",
              "      <td>2</td>\n",
              "      <td>0.0</td>\n",
              "      <td>...</td>\n",
              "      <td>0</td>\n",
              "      <td>Transient</td>\n",
              "      <td>42.00</td>\n",
              "      <td>1</td>\n",
              "      <td>0</td>\n",
              "      <td>b1428f80-c56c-4ae4-91a9-6962edae08b1</td>\n",
              "      <td>0</td>\n",
              "      <td>False</td>\n",
              "      <td>True</td>\n",
              "      <td>Reservas entre\\nsemana</td>\n",
              "    </tr>\n",
              "    <tr>\n",
              "      <th>2</th>\n",
              "      <td>City Hotel</td>\n",
              "      <td>25</td>\n",
              "      <td>2016</td>\n",
              "      <td>October</td>\n",
              "      <td>42</td>\n",
              "      <td>13</td>\n",
              "      <td>0</td>\n",
              "      <td>1</td>\n",
              "      <td>2</td>\n",
              "      <td>2.0</td>\n",
              "      <td>...</td>\n",
              "      <td>0</td>\n",
              "      <td>Transient</td>\n",
              "      <td>229.00</td>\n",
              "      <td>0</td>\n",
              "      <td>2</td>\n",
              "      <td>2226c018-ea20-4c4e-8f71-ea66aee70d7c</td>\n",
              "      <td>0</td>\n",
              "      <td>False</td>\n",
              "      <td>True</td>\n",
              "      <td>Reservas entre\\nsemana</td>\n",
              "    </tr>\n",
              "    <tr>\n",
              "      <th>3</th>\n",
              "      <td>City Hotel</td>\n",
              "      <td>26</td>\n",
              "      <td>2016</td>\n",
              "      <td>December</td>\n",
              "      <td>51</td>\n",
              "      <td>12</td>\n",
              "      <td>2</td>\n",
              "      <td>5</td>\n",
              "      <td>2</td>\n",
              "      <td>0.0</td>\n",
              "      <td>...</td>\n",
              "      <td>0</td>\n",
              "      <td>Transient</td>\n",
              "      <td>75.00</td>\n",
              "      <td>0</td>\n",
              "      <td>0</td>\n",
              "      <td>314f56dc-2e4d-4298-9bdd-27bb008bffff</td>\n",
              "      <td>1</td>\n",
              "      <td>True</td>\n",
              "      <td>True</td>\n",
              "      <td>Reserva con\\nambos casos</td>\n",
              "    </tr>\n",
              "    <tr>\n",
              "      <th>4</th>\n",
              "      <td>City Hotel</td>\n",
              "      <td>104</td>\n",
              "      <td>2017</td>\n",
              "      <td>March</td>\n",
              "      <td>12</td>\n",
              "      <td>19</td>\n",
              "      <td>2</td>\n",
              "      <td>5</td>\n",
              "      <td>2</td>\n",
              "      <td>0.0</td>\n",
              "      <td>...</td>\n",
              "      <td>0</td>\n",
              "      <td>Transient-Party</td>\n",
              "      <td>75.00</td>\n",
              "      <td>0</td>\n",
              "      <td>1</td>\n",
              "      <td>28c75445-c603-413a-babf-ad377018b592</td>\n",
              "      <td>0</td>\n",
              "      <td>True</td>\n",
              "      <td>True</td>\n",
              "      <td>Reserva con\\nambos casos</td>\n",
              "    </tr>\n",
              "    <tr>\n",
              "      <th>...</th>\n",
              "      <td>...</td>\n",
              "      <td>...</td>\n",
              "      <td>...</td>\n",
              "      <td>...</td>\n",
              "      <td>...</td>\n",
              "      <td>...</td>\n",
              "      <td>...</td>\n",
              "      <td>...</td>\n",
              "      <td>...</td>\n",
              "      <td>...</td>\n",
              "      <td>...</td>\n",
              "      <td>...</td>\n",
              "      <td>...</td>\n",
              "      <td>...</td>\n",
              "      <td>...</td>\n",
              "      <td>...</td>\n",
              "      <td>...</td>\n",
              "      <td>...</td>\n",
              "      <td>...</td>\n",
              "      <td>...</td>\n",
              "      <td>...</td>\n",
              "    </tr>\n",
              "    <tr>\n",
              "      <th>60627</th>\n",
              "      <td>Resort Hotel</td>\n",
              "      <td>24</td>\n",
              "      <td>2017</td>\n",
              "      <td>January</td>\n",
              "      <td>4</td>\n",
              "      <td>27</td>\n",
              "      <td>0</td>\n",
              "      <td>2</td>\n",
              "      <td>2</td>\n",
              "      <td>0.0</td>\n",
              "      <td>...</td>\n",
              "      <td>0</td>\n",
              "      <td>Transient</td>\n",
              "      <td>48.00</td>\n",
              "      <td>0</td>\n",
              "      <td>1</td>\n",
              "      <td>32bffef5-5404-4e86-9f39-fd2282e1ad7f</td>\n",
              "      <td>1</td>\n",
              "      <td>False</td>\n",
              "      <td>False</td>\n",
              "      <td>Reservas entre\\nsemana</td>\n",
              "    </tr>\n",
              "    <tr>\n",
              "      <th>60628</th>\n",
              "      <td>City Hotel</td>\n",
              "      <td>0</td>\n",
              "      <td>2016</td>\n",
              "      <td>September</td>\n",
              "      <td>36</td>\n",
              "      <td>2</td>\n",
              "      <td>0</td>\n",
              "      <td>1</td>\n",
              "      <td>1</td>\n",
              "      <td>0.0</td>\n",
              "      <td>...</td>\n",
              "      <td>0</td>\n",
              "      <td>Transient</td>\n",
              "      <td>149.00</td>\n",
              "      <td>0</td>\n",
              "      <td>0</td>\n",
              "      <td>cc922a1c-356e-42a5-a984-0b1af03c2f5c</td>\n",
              "      <td>0</td>\n",
              "      <td>False</td>\n",
              "      <td>True</td>\n",
              "      <td>Reservas entre\\nsemana</td>\n",
              "    </tr>\n",
              "    <tr>\n",
              "      <th>60629</th>\n",
              "      <td>City Hotel</td>\n",
              "      <td>10</td>\n",
              "      <td>2017</td>\n",
              "      <td>May</td>\n",
              "      <td>19</td>\n",
              "      <td>8</td>\n",
              "      <td>1</td>\n",
              "      <td>2</td>\n",
              "      <td>1</td>\n",
              "      <td>0.0</td>\n",
              "      <td>...</td>\n",
              "      <td>0</td>\n",
              "      <td>Transient</td>\n",
              "      <td>95.00</td>\n",
              "      <td>0</td>\n",
              "      <td>0</td>\n",
              "      <td>76fb0e83-59df-43ee-9c33-aec51030ed45</td>\n",
              "      <td>0</td>\n",
              "      <td>False</td>\n",
              "      <td>True</td>\n",
              "      <td>Reserva con\\nambos casos</td>\n",
              "    </tr>\n",
              "    <tr>\n",
              "      <th>60630</th>\n",
              "      <td>Resort Hotel</td>\n",
              "      <td>143</td>\n",
              "      <td>2015</td>\n",
              "      <td>October</td>\n",
              "      <td>41</td>\n",
              "      <td>10</td>\n",
              "      <td>2</td>\n",
              "      <td>5</td>\n",
              "      <td>2</td>\n",
              "      <td>0.0</td>\n",
              "      <td>...</td>\n",
              "      <td>0</td>\n",
              "      <td>Transient</td>\n",
              "      <td>36.05</td>\n",
              "      <td>0</td>\n",
              "      <td>0</td>\n",
              "      <td>01906859-1094-4e37-b13e-b015b594d159</td>\n",
              "      <td>1</td>\n",
              "      <td>False</td>\n",
              "      <td>True</td>\n",
              "      <td>Reserva con\\nambos casos</td>\n",
              "    </tr>\n",
              "    <tr>\n",
              "      <th>60631</th>\n",
              "      <td>City Hotel</td>\n",
              "      <td>57</td>\n",
              "      <td>2016</td>\n",
              "      <td>April</td>\n",
              "      <td>17</td>\n",
              "      <td>17</td>\n",
              "      <td>2</td>\n",
              "      <td>5</td>\n",
              "      <td>2</td>\n",
              "      <td>0.0</td>\n",
              "      <td>...</td>\n",
              "      <td>0</td>\n",
              "      <td>Transient</td>\n",
              "      <td>143.29</td>\n",
              "      <td>0</td>\n",
              "      <td>0</td>\n",
              "      <td>7137e599-4442-41fb-b147-4aba9f344e38</td>\n",
              "      <td>1</td>\n",
              "      <td>False</td>\n",
              "      <td>True</td>\n",
              "      <td>Reserva con\\nambos casos</td>\n",
              "    </tr>\n",
              "  </tbody>\n",
              "</table>\n",
              "<p>60632 rows × 33 columns</p>\n",
              "</div>\n",
              "      <button class=\"colab-df-convert\" onclick=\"convertToInteractive('df-6fdce5cc-b314-46b6-b46f-ecc8bbb0d22e')\"\n",
              "              title=\"Convert this dataframe to an interactive table.\"\n",
              "              style=\"display:none;\">\n",
              "        \n",
              "  <svg xmlns=\"http://www.w3.org/2000/svg\" height=\"24px\"viewBox=\"0 0 24 24\"\n",
              "       width=\"24px\">\n",
              "    <path d=\"M0 0h24v24H0V0z\" fill=\"none\"/>\n",
              "    <path d=\"M18.56 5.44l.94 2.06.94-2.06 2.06-.94-2.06-.94-.94-2.06-.94 2.06-2.06.94zm-11 1L8.5 8.5l.94-2.06 2.06-.94-2.06-.94L8.5 2.5l-.94 2.06-2.06.94zm10 10l.94 2.06.94-2.06 2.06-.94-2.06-.94-.94-2.06-.94 2.06-2.06.94z\"/><path d=\"M17.41 7.96l-1.37-1.37c-.4-.4-.92-.59-1.43-.59-.52 0-1.04.2-1.43.59L10.3 9.45l-7.72 7.72c-.78.78-.78 2.05 0 2.83L4 21.41c.39.39.9.59 1.41.59.51 0 1.02-.2 1.41-.59l7.78-7.78 2.81-2.81c.8-.78.8-2.07 0-2.86zM5.41 20L4 18.59l7.72-7.72 1.47 1.35L5.41 20z\"/>\n",
              "  </svg>\n",
              "      </button>\n",
              "      \n",
              "  <style>\n",
              "    .colab-df-container {\n",
              "      display:flex;\n",
              "      flex-wrap:wrap;\n",
              "      gap: 12px;\n",
              "    }\n",
              "\n",
              "    .colab-df-convert {\n",
              "      background-color: #E8F0FE;\n",
              "      border: none;\n",
              "      border-radius: 50%;\n",
              "      cursor: pointer;\n",
              "      display: none;\n",
              "      fill: #1967D2;\n",
              "      height: 32px;\n",
              "      padding: 0 0 0 0;\n",
              "      width: 32px;\n",
              "    }\n",
              "\n",
              "    .colab-df-convert:hover {\n",
              "      background-color: #E2EBFA;\n",
              "      box-shadow: 0px 1px 2px rgba(60, 64, 67, 0.3), 0px 1px 3px 1px rgba(60, 64, 67, 0.15);\n",
              "      fill: #174EA6;\n",
              "    }\n",
              "\n",
              "    [theme=dark] .colab-df-convert {\n",
              "      background-color: #3B4455;\n",
              "      fill: #D2E3FC;\n",
              "    }\n",
              "\n",
              "    [theme=dark] .colab-df-convert:hover {\n",
              "      background-color: #434B5C;\n",
              "      box-shadow: 0px 1px 3px 1px rgba(0, 0, 0, 0.15);\n",
              "      filter: drop-shadow(0px 1px 2px rgba(0, 0, 0, 0.3));\n",
              "      fill: #FFFFFF;\n",
              "    }\n",
              "  </style>\n",
              "\n",
              "      <script>\n",
              "        const buttonEl =\n",
              "          document.querySelector('#df-6fdce5cc-b314-46b6-b46f-ecc8bbb0d22e button.colab-df-convert');\n",
              "        buttonEl.style.display =\n",
              "          google.colab.kernel.accessAllowed ? 'block' : 'none';\n",
              "\n",
              "        async function convertToInteractive(key) {\n",
              "          const element = document.querySelector('#df-6fdce5cc-b314-46b6-b46f-ecc8bbb0d22e');\n",
              "          const dataTable =\n",
              "            await google.colab.kernel.invokeFunction('convertToInteractive',\n",
              "                                                     [key], {});\n",
              "          if (!dataTable) return;\n",
              "\n",
              "          const docLinkHtml = 'Like what you see? Visit the ' +\n",
              "            '<a target=\"_blank\" href=https://colab.research.google.com/notebooks/data_table.ipynb>data table notebook</a>'\n",
              "            + ' to learn more about interactive tables.';\n",
              "          element.innerHTML = '';\n",
              "          dataTable['output_type'] = 'display_data';\n",
              "          await google.colab.output.renderOutput(dataTable, element);\n",
              "          const docLink = document.createElement('div');\n",
              "          docLink.innerHTML = docLinkHtml;\n",
              "          element.appendChild(docLink);\n",
              "        }\n",
              "      </script>\n",
              "    </div>\n",
              "  </div>\n",
              "  "
            ]
          },
          "metadata": {},
          "execution_count": 12
        }
      ],
      "source": [
        "import pandas as pd\n",
        "import random\n",
        "import numpy as np\n",
        "from google.colab import drive\n",
        "import joblib  \n",
        "import matplotlib.pyplot as plt\n",
        "import seaborn as sns\n",
        "\n",
        "#modelos y métricas\n",
        "import sklearn as sk\n",
        "from sklearn import tree\n",
        "from sklearn.model_selection import train_test_split, StratifiedKFold, KFold,RandomizedSearchCV\n",
        "from sklearn.metrics import precision_score, recall_score, accuracy_score,f1_score, make_scorer#, precision_recall_curve, roc_curve,\n",
        "from sklearn.metrics import confusion_matrix, classification_report\n",
        "#preprocesamiento\n",
        "from sklearn.preprocessing import MinMaxScaler\n",
        "from sklearn.preprocessing import LabelEncoder\n",
        "from sklearn.tree import DecisionTreeClassifier\n",
        "from sklearn.ensemble import RandomForestClassifier\n",
        "from sklearn.tree import export_text\n",
        "\n",
        "#Modelado\n",
        "from sklearn.neighbors import KNeighborsClassifier\n",
        "from sklearn.neighbors import KNeighborsRegressor\n",
        "from sklearn.linear_model import LinearRegression\n",
        "\n",
        "from sklearn.datasets import load_iris\n",
        "from sklearn import preprocessing\n",
        "from sklearn.svm import SVC\n",
        "from sklearn.datasets import make_classification\n",
        "from sklearn.model_selection import GridSearchCV\n",
        "from xgboost import XGBClassifier\n",
        "import xgboost as xgb\n",
        "\n",
        "import plotly.graph_objects as go\n",
        "%matplotlib inline\n",
        "\n",
        "from sklearn.linear_model import LogisticRegression \n",
        "from sklearn.neural_network import MLPClassifier\n",
        "from sklearn.linear_model import LogisticRegressionCV\n",
        "from sklearn.model_selection import cross_val_score, RepeatedStratifiedKFold\n",
        "\n",
        "from sklearn.ensemble import VotingClassifier\n",
        "from collections import defaultdict\n",
        "\n",
        "\n",
        "drive.mount('/content/drive', force_remount=True)\n",
        "df_trabajo = pd.read_csv(\"/content/drive/My Drive/OrgaDeDatosRodriguez/TP_1/Datasets/hotels_train_filtered.csv\")\n",
        "df_test = pd.read_csv(\"/content/drive/My Drive/OrgaDeDatosRodriguez/TP_1/Datasets/hotels_test.csv\")\n",
        "\n",
        "df_trabajo"
      ]
    },
    {
      "cell_type": "markdown",
      "source": [
        "1. Construir un clasificador KNN optimizar sus hiperparámetros mediante k-fold\n",
        "Cross Validation\n",
        "2. Construir un clasificador SVM variando el kernel y los parámetros.\n",
        "3. Construir un clasificador RF y optimizar sus hiperparámetros mediante k-fold Cross Validation\n",
        "4. Construir un clasificador XGBoost y optimizar sus hiperparámetros.\n",
        "5. Construir un ensamble híbrido tipo Voting y otro tipo Stacking.\n",
        "6. Evaluar la performance de todos los modelos en entrenamiento y validación ,explicar todas las métricas y mostrar la matriz de confusión.\n",
        "7. Generar predicciones con el set de test y realizar los submits correspondientes en la competencia de Kaggle."
      ],
      "metadata": {
        "id": "qABCgNAU4x_T"
      }
    },
    {
      "cell_type": "code",
      "source": [
        "df_trabajo_x = df_trabajo.drop(['is_canceled','id'], axis='columns')\n",
        "df_trabajo_y = df_trabajo['is_canceled'].copy()"
      ],
      "metadata": {
        "id": "aps0i7y77Wrb"
      },
      "execution_count": 3,
      "outputs": []
    },
    {
      "cell_type": "code",
      "source": [
        "df_trabajo_x = pd.get_dummies(df_trabajo_x, columns=['hotel','country','market_segment','distribution_channel','reserved_room_type','assigned_room_type','deposit_type','customer_type'], drop_first=True)\n",
        "#df_trabajo_x_OHE = pd.get_dummies(df_trabajo_x_OHE, columns=['country','market_segment','distribution_channel','reserved_room_type','assigned_room_type','deposit_type','customer_type'], drop_first=True)\n",
        "\n",
        "# Hay un par de variables que no consideramos que sea mejor con OHE como los mese que ya tienen un orden o meal que solo creemos que va agregar ruido\n",
        "le = LabelEncoder()\n",
        "# Convertimos nulos a string 'nan', es decir un valor posible mas\n",
        "for column in df_trabajo_x.columns:\n",
        "    if df_trabajo_x[column].dtype == 'object':\n",
        "        df_trabajo_x[column] = le.fit_transform(df_trabajo_x[column])"
      ],
      "metadata": {
        "id": "PwxfTWP67dx5"
      },
      "execution_count": 4,
      "outputs": []
    },
    {
      "cell_type": "code",
      "source": [
        "x_train, x_test, y_train, y_test = train_test_split(df_trabajo_x, \n",
        "                                                    df_trabajo_y, \n",
        "                                                    test_size=0.2,    #20% al conjunto de test\n",
        "                                                    random_state=13,  #para poder reproducir el experimento\n",
        "                                                    stratify=df_trabajo_y) #estratificado para mantener proporcion\n",
        "\n",
        "#Verifico Cantidad de Datos en cada set\n",
        "print('# Datos Entrenamiento: {}'.format(len(x_train)))\n",
        "print('# Datos Prueba: {}'.format(len(x_test)))\n",
        "\n",
        "#Verifico como quedaron balanceados\n",
        "for split_name, split in zip(['% Positivos Entrenamiento','% Positivos Prueba'],[y_train,y_test]):\n",
        "  print('{}: {:.3f}'.format(split_name,pd.Series(split).value_counts(normalize=True)[1]*100))"
      ],
      "metadata": {
        "id": "sBMDfw6l7h-X",
        "colab": {
          "base_uri": "https://localhost:8080/"
        },
        "outputId": "0c370a97-465b-440f-b1f1-bb4e95d91934"
      },
      "execution_count": 5,
      "outputs": [
        {
          "output_type": "stream",
          "name": "stdout",
          "text": [
            "# Datos Entrenamiento: 48505\n",
            "# Datos Prueba: 12127\n",
            "% Positivos Entrenamiento: 50.215\n",
            "% Positivos Prueba: 50.219\n"
          ]
        }
      ]
    },
    {
      "cell_type": "code",
      "source": [
        "#Armo una version escalada con minmax (media=0 , var=1  )\n",
        "min_max_scaler = preprocessing.MinMaxScaler()\n",
        "x_train_minmax = min_max_scaler.fit_transform(x_train) \n",
        "x_test_minmax  = min_max_scaler.transform(x_test) "
      ],
      "metadata": {
        "id": "mgiVDTne8lzz"
      },
      "execution_count": 6,
      "outputs": []
    },
    {
      "cell_type": "code",
      "source": [
        "def metricas(y_pred,y_test):\n",
        "\n",
        "  print(classification_report(y_test,y_pred))\n",
        "  \n",
        "  cm = confusion_matrix(y_test,y_pred)\n",
        "  sns.heatmap(cm, cmap='Blues',annot=True,fmt='g')\n",
        "  plt.xlabel('Predicted')\n",
        "  plt.ylabel('True')"
      ],
      "metadata": {
        "id": "zDmf366j65eD"
      },
      "execution_count": 15,
      "outputs": []
    },
    {
      "cell_type": "markdown",
      "source": [
        "## KNN"
      ],
      "metadata": {
        "id": "G-d6DXqvHF3j"
      }
    },
    {
      "cell_type": "markdown",
      "source": [
        "### Ball Tree"
      ],
      "metadata": {
        "id": "x6qDf31P5xv1"
      }
    },
    {
      "cell_type": "code",
      "source": [
        "knn_1 = joblib.load(\"/content/drive/My Drive/OrgaDeDatosRodriguez/TP_1/Modelos/knn_ball_tree.joblib\")"
      ],
      "metadata": {
        "id": "3fEBaYTJwRcT"
      },
      "execution_count": null,
      "outputs": []
    },
    {
      "cell_type": "code",
      "source": [
        "#Grilla de Parámetros\n",
        "params_grid={ 'n_neighbors':range(1,40), \n",
        "              'weights':['distance','uniform'],\n",
        "              'algorithm':['ball_tree'],\n",
        "              'metric':[\n",
        "                        'euclidean', 'l2', 'minkowski', 'p', 'manhattan', 'cityblock', 'l1', 'chebyshev',\n",
        "                        'infinity', 'seuclidean', 'mahalanobis', 'wminkowski', 'hamming', 'canberra', 'braycurtis',\n",
        "                        'matching', 'jaccard', 'dice', 'kulsinski', 'rogerstanimoto', 'russellrao', 'sokalmichener',\n",
        "                        'sokalsneath', 'haversine', 'pyfunc'\n",
        "                        ]\n",
        "             }\n",
        "\n",
        "##Clasificador KNN\n",
        "knn=KNeighborsClassifier()\n",
        "\n",
        "#Random Search con 10 Folds y 10 iteraciones\n",
        "knn_1 = RandomizedSearchCV(knn, params_grid, cv=5, scoring='accuracy', n_iter=30, random_state=5,n_jobs=-1)\n",
        "\n",
        "knn_1.fit(x_train_minmax, y_train)"
      ],
      "metadata": {
        "id": "gmVCn67M8NzN"
      },
      "execution_count": null,
      "outputs": []
    },
    {
      "cell_type": "code",
      "source": [
        "#Mejores hiperparametros\n",
        "print(knn_1.best_params_)\n",
        "#Mejor métrica\n",
        "print(knn_1.best_score_)"
      ],
      "metadata": {
        "id": "kDDVEdQY8eVe",
        "colab": {
          "base_uri": "https://localhost:8080/"
        },
        "outputId": "76400ef9-b4c2-41a9-969b-451f972a6825"
      },
      "execution_count": null,
      "outputs": [
        {
          "output_type": "stream",
          "name": "stdout",
          "text": [
            "{'weights': 'distance', 'n_neighbors': 14, 'metric': 'canberra', 'algorithm': 'ball_tree'}\n",
            "0.8358519740232966\n"
          ]
        }
      ]
    },
    {
      "cell_type": "markdown",
      "source": [
        "### KD Tree"
      ],
      "metadata": {
        "id": "upmFq4-M5sgt"
      }
    },
    {
      "cell_type": "code",
      "source": [
        "knn_2 = joblib.load(\"/content/drive/My Drive/OrgaDeDatosRodriguez/TP_1/Modelos/knn_kd_tree.joblib\")"
      ],
      "metadata": {
        "id": "qWRJSGDQ5-m9"
      },
      "execution_count": null,
      "outputs": []
    },
    {
      "cell_type": "code",
      "source": [
        "from sklearn.model_selection import RandomizedSearchCV\n",
        "\n",
        "#Grilla de Parámetros\n",
        "params_grid={ 'n_neighbors':range(1,40), \n",
        "              'weights':['distance','uniform'],\n",
        "              'algorithm':['kd_tree'],\n",
        "              'metric':['euclidean', 'l2', 'minkowski', 'p', 'manhattan', 'cityblock', 'l1', 'chebyshev', 'infinity']\n",
        "             }\n",
        "\n",
        "##Clasificador KNN\n",
        "knn=KNeighborsClassifier()\n",
        "\n",
        "#Random Search con 10 Folds y 10 iteraciones\n",
        "knn_2 = RandomizedSearchCV(knn, params_grid, cv=5, scoring='accuracy', n_iter=40, random_state=5,n_jobs=-1)\n",
        "\n",
        "knn_2.fit(x_train_minmax, y_train)"
      ],
      "metadata": {
        "id": "PjXzq-a8eVAs",
        "colab": {
          "base_uri": "https://localhost:8080/",
          "height": 118
        },
        "outputId": "d422d625-9d6e-42fa-f313-af11435ad254"
      },
      "execution_count": null,
      "outputs": [
        {
          "output_type": "execute_result",
          "data": {
            "text/plain": [
              "RandomizedSearchCV(cv=5, estimator=KNeighborsClassifier(), n_iter=40, n_jobs=-1,\n",
              "                   param_distributions={'algorithm': ['kd_tree'],\n",
              "                                        'metric': ['euclidean', 'l2',\n",
              "                                                   'minkowski', 'p',\n",
              "                                                   'manhattan', 'cityblock',\n",
              "                                                   'l1', 'chebyshev',\n",
              "                                                   'infinity'],\n",
              "                                        'n_neighbors': range(1, 40),\n",
              "                                        'weights': ['distance', 'uniform']},\n",
              "                   random_state=5, scoring='accuracy')"
            ],
            "text/html": [
              "<style>#sk-container-id-1 {color: black;background-color: white;}#sk-container-id-1 pre{padding: 0;}#sk-container-id-1 div.sk-toggleable {background-color: white;}#sk-container-id-1 label.sk-toggleable__label {cursor: pointer;display: block;width: 100%;margin-bottom: 0;padding: 0.3em;box-sizing: border-box;text-align: center;}#sk-container-id-1 label.sk-toggleable__label-arrow:before {content: \"▸\";float: left;margin-right: 0.25em;color: #696969;}#sk-container-id-1 label.sk-toggleable__label-arrow:hover:before {color: black;}#sk-container-id-1 div.sk-estimator:hover label.sk-toggleable__label-arrow:before {color: black;}#sk-container-id-1 div.sk-toggleable__content {max-height: 0;max-width: 0;overflow: hidden;text-align: left;background-color: #f0f8ff;}#sk-container-id-1 div.sk-toggleable__content pre {margin: 0.2em;color: black;border-radius: 0.25em;background-color: #f0f8ff;}#sk-container-id-1 input.sk-toggleable__control:checked~div.sk-toggleable__content {max-height: 200px;max-width: 100%;overflow: auto;}#sk-container-id-1 input.sk-toggleable__control:checked~label.sk-toggleable__label-arrow:before {content: \"▾\";}#sk-container-id-1 div.sk-estimator input.sk-toggleable__control:checked~label.sk-toggleable__label {background-color: #d4ebff;}#sk-container-id-1 div.sk-label input.sk-toggleable__control:checked~label.sk-toggleable__label {background-color: #d4ebff;}#sk-container-id-1 input.sk-hidden--visually {border: 0;clip: rect(1px 1px 1px 1px);clip: rect(1px, 1px, 1px, 1px);height: 1px;margin: -1px;overflow: hidden;padding: 0;position: absolute;width: 1px;}#sk-container-id-1 div.sk-estimator {font-family: monospace;background-color: #f0f8ff;border: 1px dotted black;border-radius: 0.25em;box-sizing: border-box;margin-bottom: 0.5em;}#sk-container-id-1 div.sk-estimator:hover {background-color: #d4ebff;}#sk-container-id-1 div.sk-parallel-item::after {content: \"\";width: 100%;border-bottom: 1px solid gray;flex-grow: 1;}#sk-container-id-1 div.sk-label:hover label.sk-toggleable__label {background-color: #d4ebff;}#sk-container-id-1 div.sk-serial::before {content: \"\";position: absolute;border-left: 1px solid gray;box-sizing: border-box;top: 0;bottom: 0;left: 50%;z-index: 0;}#sk-container-id-1 div.sk-serial {display: flex;flex-direction: column;align-items: center;background-color: white;padding-right: 0.2em;padding-left: 0.2em;position: relative;}#sk-container-id-1 div.sk-item {position: relative;z-index: 1;}#sk-container-id-1 div.sk-parallel {display: flex;align-items: stretch;justify-content: center;background-color: white;position: relative;}#sk-container-id-1 div.sk-item::before, #sk-container-id-1 div.sk-parallel-item::before {content: \"\";position: absolute;border-left: 1px solid gray;box-sizing: border-box;top: 0;bottom: 0;left: 50%;z-index: -1;}#sk-container-id-1 div.sk-parallel-item {display: flex;flex-direction: column;z-index: 1;position: relative;background-color: white;}#sk-container-id-1 div.sk-parallel-item:first-child::after {align-self: flex-end;width: 50%;}#sk-container-id-1 div.sk-parallel-item:last-child::after {align-self: flex-start;width: 50%;}#sk-container-id-1 div.sk-parallel-item:only-child::after {width: 0;}#sk-container-id-1 div.sk-dashed-wrapped {border: 1px dashed gray;margin: 0 0.4em 0.5em 0.4em;box-sizing: border-box;padding-bottom: 0.4em;background-color: white;}#sk-container-id-1 div.sk-label label {font-family: monospace;font-weight: bold;display: inline-block;line-height: 1.2em;}#sk-container-id-1 div.sk-label-container {text-align: center;}#sk-container-id-1 div.sk-container {/* jupyter's `normalize.less` sets `[hidden] { display: none; }` but bootstrap.min.css set `[hidden] { display: none !important; }` so we also need the `!important` here to be able to override the default hidden behavior on the sphinx rendered scikit-learn.org. See: https://github.com/scikit-learn/scikit-learn/issues/21755 */display: inline-block !important;position: relative;}#sk-container-id-1 div.sk-text-repr-fallback {display: none;}</style><div id=\"sk-container-id-1\" class=\"sk-top-container\"><div class=\"sk-text-repr-fallback\"><pre>RandomizedSearchCV(cv=5, estimator=KNeighborsClassifier(), n_iter=40, n_jobs=-1,\n",
              "                   param_distributions={&#x27;algorithm&#x27;: [&#x27;kd_tree&#x27;],\n",
              "                                        &#x27;metric&#x27;: [&#x27;euclidean&#x27;, &#x27;l2&#x27;,\n",
              "                                                   &#x27;minkowski&#x27;, &#x27;p&#x27;,\n",
              "                                                   &#x27;manhattan&#x27;, &#x27;cityblock&#x27;,\n",
              "                                                   &#x27;l1&#x27;, &#x27;chebyshev&#x27;,\n",
              "                                                   &#x27;infinity&#x27;],\n",
              "                                        &#x27;n_neighbors&#x27;: range(1, 40),\n",
              "                                        &#x27;weights&#x27;: [&#x27;distance&#x27;, &#x27;uniform&#x27;]},\n",
              "                   random_state=5, scoring=&#x27;accuracy&#x27;)</pre><b>In a Jupyter environment, please rerun this cell to show the HTML representation or trust the notebook. <br />On GitHub, the HTML representation is unable to render, please try loading this page with nbviewer.org.</b></div><div class=\"sk-container\" hidden><div class=\"sk-item sk-dashed-wrapped\"><div class=\"sk-label-container\"><div class=\"sk-label sk-toggleable\"><input class=\"sk-toggleable__control sk-hidden--visually\" id=\"sk-estimator-id-1\" type=\"checkbox\" ><label for=\"sk-estimator-id-1\" class=\"sk-toggleable__label sk-toggleable__label-arrow\">RandomizedSearchCV</label><div class=\"sk-toggleable__content\"><pre>RandomizedSearchCV(cv=5, estimator=KNeighborsClassifier(), n_iter=40, n_jobs=-1,\n",
              "                   param_distributions={&#x27;algorithm&#x27;: [&#x27;kd_tree&#x27;],\n",
              "                                        &#x27;metric&#x27;: [&#x27;euclidean&#x27;, &#x27;l2&#x27;,\n",
              "                                                   &#x27;minkowski&#x27;, &#x27;p&#x27;,\n",
              "                                                   &#x27;manhattan&#x27;, &#x27;cityblock&#x27;,\n",
              "                                                   &#x27;l1&#x27;, &#x27;chebyshev&#x27;,\n",
              "                                                   &#x27;infinity&#x27;],\n",
              "                                        &#x27;n_neighbors&#x27;: range(1, 40),\n",
              "                                        &#x27;weights&#x27;: [&#x27;distance&#x27;, &#x27;uniform&#x27;]},\n",
              "                   random_state=5, scoring=&#x27;accuracy&#x27;)</pre></div></div></div><div class=\"sk-parallel\"><div class=\"sk-parallel-item\"><div class=\"sk-item\"><div class=\"sk-label-container\"><div class=\"sk-label sk-toggleable\"><input class=\"sk-toggleable__control sk-hidden--visually\" id=\"sk-estimator-id-2\" type=\"checkbox\" ><label for=\"sk-estimator-id-2\" class=\"sk-toggleable__label sk-toggleable__label-arrow\">estimator: KNeighborsClassifier</label><div class=\"sk-toggleable__content\"><pre>KNeighborsClassifier()</pre></div></div></div><div class=\"sk-serial\"><div class=\"sk-item\"><div class=\"sk-estimator sk-toggleable\"><input class=\"sk-toggleable__control sk-hidden--visually\" id=\"sk-estimator-id-3\" type=\"checkbox\" ><label for=\"sk-estimator-id-3\" class=\"sk-toggleable__label sk-toggleable__label-arrow\">KNeighborsClassifier</label><div class=\"sk-toggleable__content\"><pre>KNeighborsClassifier()</pre></div></div></div></div></div></div></div></div></div></div>"
            ]
          },
          "metadata": {},
          "execution_count": 7
        }
      ]
    },
    {
      "cell_type": "code",
      "source": [
        "#Mejores hiperparametros\n",
        "print(knn_2.best_params_)\n",
        "#Mejor métrica\n",
        "print(knn_2.best_score_)"
      ],
      "metadata": {
        "id": "j4bviJb6e8Hj",
        "colab": {
          "base_uri": "https://localhost:8080/"
        },
        "outputId": "6606e0d6-e508-4526-b826-8c4b817ba0a6"
      },
      "execution_count": null,
      "outputs": [
        {
          "output_type": "stream",
          "name": "stdout",
          "text": [
            "{'weights': 'distance', 'n_neighbors': 19, 'metric': 'manhattan', 'algorithm': 'kd_tree'}\n",
            "0.8313988248634161\n"
          ]
        }
      ]
    },
    {
      "cell_type": "markdown",
      "source": [
        "### Brute"
      ],
      "metadata": {
        "id": "EYAe3PS3537e"
      }
    },
    {
      "cell_type": "code",
      "source": [
        "knn_3 = joblib.load(\"/content/drive/My Drive/OrgaDeDatosRodriguez/TP_1/Modelos/knn_brute.joblib\")"
      ],
      "metadata": {
        "id": "fUcuL3Qw5_Wc"
      },
      "execution_count": null,
      "outputs": []
    },
    {
      "cell_type": "code",
      "source": [
        "#Grilla de Parámetros\n",
        "params_grid={ 'n_neighbors':range(1,40), \n",
        "              'weights':['distance','uniform'],\n",
        "              'algorithm':['brute'],\n",
        "              'metric':['cityblock', 'cosine', 'euclidean', 'haversine', 'l2', 'l1', 'manhattan', 'precomputed',\n",
        "                        'nan_euclidean', 'braycurtis', 'canberra', 'chebyshev', 'correlation', 'cosine', 'dice',\n",
        "                        'hamming', 'jaccard', 'kulsinski', 'mahalanobis', 'matching', 'minkowski', 'rogerstanimoto',\n",
        "                        'russellrao', 'seuclidean', 'sokalmichener', 'sokalsneath', 'sqeuclidean', 'yule', 'wminkowski']\n",
        "             }\n",
        "\n",
        "##Clasificador KNN\n",
        "knn=KNeighborsClassifier()\n",
        "\n",
        "#Random Search con 10 Folds y 10 iteraciones\n",
        "knn_3 = RandomizedSearchCV(knn, params_grid, cv=5, scoring='accuracy', n_iter=40, random_state=5,n_jobs=-1)\n",
        "\n",
        "knn_3.fit(x_train_minmax, y_train)"
      ],
      "metadata": {
        "id": "ys55zS6LejMe"
      },
      "execution_count": null,
      "outputs": []
    },
    {
      "cell_type": "code",
      "source": [
        "#Mejores hiperparametros\n",
        "print(knn_3.best_params_)\n",
        "#Mejor métrica\n",
        "print(knn_3.best_score_)"
      ],
      "metadata": {
        "id": "MvTrt7sDfE-o",
        "colab": {
          "base_uri": "https://localhost:8080/"
        },
        "outputId": "ceac09eb-94ce-4898-f73d-ca0c17df76fa"
      },
      "execution_count": null,
      "outputs": [
        {
          "output_type": "stream",
          "name": "stdout",
          "text": [
            "{'weights': 'distance', 'n_neighbors': 15, 'metric': 'canberra', 'algorithm': 'brute'}\n",
            "0.8344706731264818\n"
          ]
        }
      ]
    },
    {
      "cell_type": "markdown",
      "source": [
        "## Random Forest"
      ],
      "metadata": {
        "id": "0b_DjfQFmUkg"
      }
    },
    {
      "cell_type": "code",
      "source": [
        "def metricas(y_pred,y_test):\n",
        "\n",
        "  print(classification_report(y_test,y_pred))\n",
        "  \n",
        "  cm = confusion_matrix(y_test,y_pred)\n",
        "  sns.heatmap(cm, cmap='Blues',annot=True,fmt='g')\n",
        "  plt.xlabel('Predicted')\n",
        "  plt.ylabel('True')"
      ],
      "metadata": {
        "id": "T3YBfRBN3O8L"
      },
      "execution_count": null,
      "outputs": []
    },
    {
      "cell_type": "code",
      "source": [
        "rfc_search = joblib.load(\"/content/drive/My Drive/OrgaDeDatosRodriguez/TP_1/Modelos/rfc_final.joblib\")"
      ],
      "metadata": {
        "id": "mEAEOw5JuUQL"
      },
      "execution_count": null,
      "outputs": []
    },
    {
      "cell_type": "code",
      "source": [
        "# Define los parámetros que deseas probar en RandomizedSearchCV\n",
        "param_grid = {\n",
        "    'n_estimators': [400, 500, 600, 800],\n",
        "    'criterion': ['gini', 'entropy'],\n",
        "    'min_samples_split': [2, 5, 10],\n",
        "    'min_samples_leaf': [1, 2, 4],\n",
        "    'max_features': ['sqrt', None],\n",
        "}\n",
        "\n",
        "# Crea una instancia del RandomForestClassifier\n",
        "rfc = RandomForestClassifier(random_state=404, oob_score=True)\n",
        "\n",
        "# Crea una instancia de RandomizedSearchCV y especifica el modelo, los parámetros y la métrica de evaluación\n",
        "rfc_search = RandomizedSearchCV(estimator=rfc, param_distributions=param_grid, scoring='accuracy', n_iter=25, cv=10, n_jobs=-1)\n",
        "\n",
        "# Ajusta el modelo utilizando RandomizedSearchCV en lugar de fit\n",
        "rfc_search.fit(x_train, y_train)"
      ],
      "metadata": {
        "id": "xaRWyKcSl-mS"
      },
      "execution_count": null,
      "outputs": []
    },
    {
      "cell_type": "code",
      "source": [
        "# Mostrar los mejores hiperparámetros encontrados por GridSearchCV\n",
        "best_params = rfc_search.best_params_\n",
        "print(\"Mejores hiperparámetros: \", best_params)\n",
        "\n",
        "# Mostrar la puntuación media de la validación cruzada para los mejores hiperparámetros\n",
        "best_score = rfc_search.best_score_\n",
        "print(\"Puntuación media de la validación cruzada: \", best_score)\n",
        "\n",
        "# Calcular la precisión en el conjunto de prueba utilizando los mejores hiperparámetros\n",
        "accuracy = rfc_search.score(x_test_minmax, y_test)\n",
        "print(\"Precisión en el conjunto de prueba: \", accuracy)"
      ],
      "metadata": {
        "colab": {
          "base_uri": "https://localhost:8080/"
        },
        "id": "U6AdYbFDoGzP",
        "outputId": "ea59b547-27fe-4288-a42d-086fba8569c0"
      },
      "execution_count": null,
      "outputs": [
        {
          "output_type": "stream",
          "name": "stdout",
          "text": [
            "Mejores hiperparámetros:  {'n_estimators': 400, 'min_samples_split': 5, 'min_samples_leaf': 1, 'max_features': None, 'criterion': 'entropy'}\n",
            "Puntuación media de la validación cruzada:  0.8848983459675654\n",
            "Precisión en el conjunto de prueba:  0.8852148099282593\n"
          ]
        }
      ]
    },
    {
      "cell_type": "code",
      "source": [
        "#Hago la prediccion y calculo las métricas\n",
        "y_pred_norm=rfc_search.predict(x_test_minmax)\n",
        "metricas(y_pred_norm,y_test)"
      ],
      "metadata": {
        "colab": {
          "base_uri": "https://localhost:8080/",
          "height": 605
        },
        "id": "-OdRz9Vx2-ER",
        "outputId": "3564165c-cb48-40bd-f107-e7613479acf4"
      },
      "execution_count": null,
      "outputs": [
        {
          "output_type": "stream",
          "name": "stdout",
          "text": [
            "              precision    recall  f1-score   support\n",
            "\n",
            "           0       0.89      0.88      0.88      6037\n",
            "           1       0.88      0.89      0.89      6090\n",
            "\n",
            "    accuracy                           0.89     12127\n",
            "   macro avg       0.89      0.89      0.89     12127\n",
            "weighted avg       0.89      0.89      0.89     12127\n",
            "\n"
          ]
        },
        {
          "output_type": "display_data",
          "data": {
            "text/plain": [
              "<Figure size 640x480 with 2 Axes>"
            ],
            "image/png": "[encoded data removed]"
          },
          "metadata": {}
        }
      ]
    },
    {
      "cell_type": "markdown",
      "source": [
        "## SVM"
      ],
      "metadata": {
        "id": "KCEOig-O3eRa"
      }
    },
    {
      "cell_type": "markdown",
      "source": [
        "### Estandarizado"
      ],
      "metadata": {
        "id": "1SSBh6zw57Ct"
      }
    },
    {
      "cell_type": "code",
      "source": [
        "#Armo una version estandarizada\n",
        "stand_scaler = preprocessing.StandardScaler()\n",
        "x_train_norm = stand_scaler.fit_transform(x_train)\n",
        "x_test_norm=stand_scaler.transform(x_test)"
      ],
      "metadata": {
        "id": "0DSAu8ZX4uuV"
      },
      "execution_count": null,
      "outputs": []
    },
    {
      "cell_type": "code",
      "source": [
        "#Construyo un modelo SVM  \n",
        "svm_norm= SVC()\n",
        "\n",
        "#Lo entreno con los datos escalados con normalizacion\n",
        "svm_norm.fit(x_train_norm, y_train)\n",
        "\n",
        "#Hago la prediccion y calculo las métricas\n",
        "y_pred_norm=svm_norm.predict(x_test_norm)\n",
        "metricas(y_pred_norm,y_test)"
      ],
      "metadata": {
        "colab": {
          "base_uri": "https://localhost:8080/",
          "height": 605
        },
        "id": "mYPF8fBA5NYC",
        "outputId": "0f467af2-341f-439c-e4bd-db18f4f62b95"
      },
      "execution_count": null,
      "outputs": [
        {
          "output_type": "stream",
          "name": "stdout",
          "text": [
            "              precision    recall  f1-score   support\n",
            "\n",
            "           0       0.85      0.84      0.84      6037\n",
            "           1       0.84      0.85      0.85      6090\n",
            "\n",
            "    accuracy                           0.85     12127\n",
            "   macro avg       0.85      0.85      0.85     12127\n",
            "weighted avg       0.85      0.85      0.85     12127\n",
            "\n"
          ]
        },
        {
          "output_type": "display_data",
          "data": {
            "text/plain": [
              "<Figure size 640x480 with 2 Axes>"
            ],
            "image/png": "[encoded data removed]"
          },
          "metadata": {}
        }
      ]
    },
    {
      "cell_type": "markdown",
      "source": [
        "### Kernels Lineal"
      ],
      "metadata": {
        "id": "BdI5HiQV6DbY"
      }
    },
    {
      "cell_type": "code",
      "source": [
        "svm_l = joblib.load(\"/content/drive/My Drive/OrgaDeDatosRodriguez/TP_1/Modelos/svm_kernel_lineal.joblib\")"
      ],
      "metadata": {
        "id": "BeCbYXEy6Xt5"
      },
      "execution_count": null,
      "outputs": []
    },
    {
      "cell_type": "code",
      "source": [
        "param_grid = {'C': [0.1, 1, 10, 100],\n",
        "              'gamma': [0.1, 1, 10, 100],\n",
        "              'kernel': ['linear']}\n",
        "\n",
        "svm = SVC(kernel='linear')\n",
        "\n",
        "svm_l = GridSearchCV(svm, param_grid, cv=5, scoring='accuracy')\n",
        "svm_l.fit(x_train_minmax, y_train)"
      ],
      "metadata": {
        "id": "Fp8uHWtA-K4P"
      },
      "execution_count": null,
      "outputs": []
    },
    {
      "cell_type": "code",
      "source": [
        "best_params = svm_l.best_params_\n",
        "print(best_params)\n",
        "\n",
        "best_score = svm_l.best_score_\n",
        "print(best_score)\n",
        "\n",
        "accuracy = svm_l.score(x_test_minmax, y_test)\n",
        "print(accuracy)\n",
        "\n",
        "#Hago la predicción y calculo las métricas\n",
        "y_pred_pol=svm_l.predict(x_test_minmax)\n",
        "metricas(y_pred_pol,y_test)"
      ],
      "metadata": {
        "id": "-6ySaicw7DdZ",
        "colab": {
          "base_uri": "https://localhost:8080/",
          "height": 657
        },
        "outputId": "851e4b3d-b775-4cd8-83d2-97e970b432c2"
      },
      "execution_count": null,
      "outputs": [
        {
          "output_type": "stream",
          "name": "stdout",
          "text": [
            "{'C': 10, 'gamma': 0.1, 'kernel': 'linear'}\n",
            "0.8076693124420162\n",
            "0.8095159561309475\n",
            "              precision    recall  f1-score   support\n",
            "\n",
            "           0       0.81      0.81      0.81      6037\n",
            "           1       0.81      0.81      0.81      6090\n",
            "\n",
            "    accuracy                           0.81     12127\n",
            "   macro avg       0.81      0.81      0.81     12127\n",
            "weighted avg       0.81      0.81      0.81     12127\n",
            "\n"
          ]
        },
        {
          "output_type": "display_data",
          "data": {
            "text/plain": [
              "<Figure size 640x480 with 2 Axes>"
            ],
            "image/png": "[encoded data removed]"
          },
          "metadata": {}
        }
      ]
    },
    {
      "cell_type": "markdown",
      "source": [
        "### Kernel Polinomico"
      ],
      "metadata": {
        "id": "v7ol1vkV7ZG6"
      }
    },
    {
      "cell_type": "code",
      "source": [
        "svm_p = joblib.load(\"/content/drive/My Drive/OrgaDeDatosRodriguez/TP_1/Modelos/svm_kernel_poly.joblib\")"
      ],
      "metadata": {
        "id": "3Bkh30yfA-Jo"
      },
      "execution_count": null,
      "outputs": []
    },
    {
      "cell_type": "code",
      "source": [
        "param_grid = {'C': [0.1, 1, 10, 100],\n",
        "              'gamma': [0.1, 1, 10, 100],\n",
        "              'degree': [2, 3, 4],\n",
        "              'coef0': [0.0, 0.5, 1.0],\n",
        "              'kernel': ['poly']}\n",
        "\n",
        "svm = SVC(kernel='poly')\n",
        "\n",
        "svm_p = GridSearchCV(svm, param_grid, cv=5, scoring='accuracy')\n",
        "svm_p.fit(x_train_minmax, y_train)"
      ],
      "metadata": {
        "id": "CnMHL4kM9kLz"
      },
      "execution_count": null,
      "outputs": []
    },
    {
      "cell_type": "code",
      "source": [
        "best_params = svm_p.best_params_\n",
        "print(best_params)\n",
        "\n",
        "best_score = svm_p.best_score_\n",
        "print(best_score)\n",
        "\n",
        "accuracy = svm_p.score(x_test_minmax, y_test)\n",
        "print(accuracy)\n",
        "\n",
        "#Hago la predicción y calculo las métricas\n",
        "y_pred_pol=svm_p.predict(x_test_minmax)\n",
        "metricas(y_pred_pol,y_test)"
      ],
      "metadata": {
        "id": "hFGMPjaj7JBs",
        "colab": {
          "base_uri": "https://localhost:8080/",
          "height": 657
        },
        "outputId": "ddcb9ec8-ff5c-4183-e29c-460384869050"
      },
      "execution_count": null,
      "outputs": [
        {
          "output_type": "stream",
          "name": "stdout",
          "text": [
            "{'C': 5, 'degree': 3, 'gamma': 0.1, 'kernel': 'poly'}\n",
            "0.8423461498814555\n",
            "0.8451389461532118\n",
            "              precision    recall  f1-score   support\n",
            "\n",
            "           0       0.85      0.84      0.84      6037\n",
            "           1       0.84      0.85      0.85      6090\n",
            "\n",
            "    accuracy                           0.85     12127\n",
            "   macro avg       0.85      0.85      0.85     12127\n",
            "weighted avg       0.85      0.85      0.85     12127\n",
            "\n"
          ]
        },
        {
          "output_type": "display_data",
          "data": {
            "text/plain": [
              "<Figure size 640x480 with 2 Axes>"
            ],
            "image/png": "[encoded data removed]"
          },
          "metadata": {}
        }
      ]
    },
    {
      "cell_type": "markdown",
      "source": [
        "### Kernel Radial"
      ],
      "metadata": {
        "id": "XQbL2_Uc7UHh"
      }
    },
    {
      "cell_type": "code",
      "source": [
        "svm_r = joblib.load(\"/content/drive/My Drive/OrgaDeDatosRodriguez/TP_1/Modelos/svm_kernel_radial.joblib\")"
      ],
      "metadata": {
        "id": "TRlKG9XWrw-R"
      },
      "execution_count": null,
      "outputs": []
    },
    {
      "cell_type": "code",
      "source": [
        "param_grid = {'C': [0.1, 1, 10, 100],\n",
        "              'gamma': [0.1, 1, 10, 100],\n",
        "              'kernel': ['rbf']}\n",
        "\n",
        "svm = SVC(kernel='rbf')\n",
        "\n",
        "svm_r = GridSearchCV(svm, param_grid, cv=5, scoring='accuracy')\n",
        "svm_r.fit(x_train_minmax, y_train)"
      ],
      "metadata": {
        "id": "aYHcm88l-U4k"
      },
      "execution_count": null,
      "outputs": []
    },
    {
      "cell_type": "code",
      "source": [
        "best_params = svm_r.best_params_\n",
        "print(best_params)\n",
        "\n",
        "best_score = svm_r.best_score_\n",
        "print(best_score)\n",
        "\n",
        "accuracy = svm_r.score(x_test_minmax, y_test)\n",
        "print(accuracy)\n",
        "\n",
        "#Hago la predicción y calculo las métricas\n",
        "y_pred_pol=svm_r.predict(x_test_minmax)\n",
        "metricas(y_pred_pol,y_test)"
      ],
      "metadata": {
        "id": "KwXlg_om7Klm",
        "colab": {
          "base_uri": "https://localhost:8080/",
          "height": 657
        },
        "outputId": "e40b3d8f-2557-4e19-d09d-7e8a5a831a9d"
      },
      "execution_count": null,
      "outputs": [
        {
          "output_type": "stream",
          "name": "stdout",
          "text": [
            "{'C': 100, 'gamma': 0.1, 'kernel': 'rbf'}\n",
            "0.8496855994227399\n",
            "0.8522305599076441\n",
            "              precision    recall  f1-score   support\n",
            "\n",
            "           0       0.86      0.84      0.85      6037\n",
            "           1       0.84      0.87      0.85      6090\n",
            "\n",
            "    accuracy                           0.85     12127\n",
            "   macro avg       0.85      0.85      0.85     12127\n",
            "weighted avg       0.85      0.85      0.85     12127\n",
            "\n"
          ]
        },
        {
          "output_type": "display_data",
          "data": {
            "text/plain": [
              "<Figure size 640x480 with 2 Axes>"
            ],
            "image/png": "[encoded data removed]"
          },
          "metadata": {}
        }
      ]
    },
    {
      "cell_type": "markdown",
      "source": [
        "## XGBoost"
      ],
      "metadata": {
        "id": "HiESes6mOY0X"
      }
    },
    {
      "cell_type": "code",
      "source": [
        "xgb_grid = joblib.load(\"/content/drive/My Drive/OrgaDeDatosRodriguez/TP_1/Modelos/XGBoost_4.joblib\")"
      ],
      "metadata": {
        "id": "HoqI3DSIJdcc"
      },
      "execution_count": null,
      "outputs": []
    },
    {
      "cell_type": "code",
      "source": [
        "# Definir los hiperparámetros que se probarán con GridSearchCV\n",
        "param_grid = {'learning_rate': np.linspace(0.01,0.8,5),#[0.01, 0.1, 0.5],\n",
        "              'n_estimators': [400,500,600],\n",
        "              'subsample': [0.3,0.5, 0.8],\n",
        "              'colsample_bytree': [0.3,0.5, 0.8],\n",
        "              \"max_depth\": [9,12,15]\n",
        "              #'gamma': [0, 1, 5]\n",
        "              }\n",
        "\n",
        "# Crear un clasificador XGBoost con los hiperparámetros por defecto\n",
        "xgb = XGBClassifier()\n",
        "\n",
        "# Definir la estrategia de validación cruzada para GridSearchCV\n",
        "cv_strategy = 5\n",
        "\n",
        "# Crear un objeto GridSearchCV para optimizar los hiperparámetros\n",
        "xgb_grid = GridSearchCV(estimator=xgb,param_grid=param_grid, cv=cv_strategy, scoring='accuracy', n_jobs=-1)\n",
        "\n",
        "# Entrenar el modelo en el conjunto de entrenamiento\n",
        "xgb_grid.fit(x_train, y_train)"
      ],
      "metadata": {
        "id": "P_l5pqydOcXD"
      },
      "execution_count": null,
      "outputs": []
    },
    {
      "cell_type": "code",
      "source": [
        "# Mostrar los mejores hiperparámetros encontrados por GridSearchCV\n",
        "best_params = xgb_grid.best_params_\n",
        "print(\"Mejores hiperparámetros: \", best_params)\n",
        "\n",
        "# Mostrar la puntuación media de la validación cruzada para los mejores hiperparámetros\n",
        "best_score = xgb_grid.best_score_\n",
        "print(\"Puntuación media de la validación cruzada: \", best_score)\n",
        "\n",
        "# Calcular la precisión en el conjunto de prueba utilizando los mejores hiperparámetros\n",
        "accuracy = xgb_grid.score(x_test, y_test)\n",
        "print(\"Precisión en el conjunto de prueba: \", accuracy)"
      ],
      "metadata": {
        "id": "lfrFvzzXJcSk",
        "colab": {
          "base_uri": "https://localhost:8080/"
        },
        "outputId": "cde10d2d-03b5-4e43-d47f-bda1ad153645"
      },
      "execution_count": null,
      "outputs": [
        {
          "output_type": "stream",
          "name": "stdout",
          "text": [
            "Mejores hiperparámetros:  {'colsample_bytree': 0.5, 'learning_rate': 0.01, 'max_depth': 15, 'n_estimators': 600, 'subsample': 0.8}\n",
            "Puntuación media de la validación cruzada:  0.885022162663643\n",
            "Precisión en el conjunto de prueba:  0.8851323493032077\n"
          ]
        }
      ]
    },
    {
      "cell_type": "markdown",
      "source": [
        "A partir de esto corrimos otro gridSearch mas corto pero con los datos normalizados"
      ],
      "metadata": {
        "id": "KbjVx3WS44CY"
      }
    },
    {
      "cell_type": "code",
      "source": [
        "xgb_norm = joblib.load(\"/content/drive/My Drive/OrgaDeDatosRodriguez/TP_1/Modelos/XGBoost_final.joblib\")"
      ],
      "metadata": {
        "id": "Xj1V0mJW5N7L"
      },
      "execution_count": null,
      "outputs": []
    },
    {
      "cell_type": "code",
      "source": [
        "# Definir los hiperparámetros que se probarán con GridSearchCV\n",
        "param_grid = {'learning_rate': [0.01, 0.1, 0.2],\n",
        "              'n_estimators': [600],\n",
        "              'subsample': [0.5, 0.8,1],\n",
        "              'colsample_bytree': [0.5, 0.8,1],\n",
        "              \"max_depth\": [15,20]\n",
        "              #'gamma': [0, 1, 5]\n",
        "              }\n",
        "\n",
        "# Crear un clasificador XGBoost con los hiperparámetros por defecto\n",
        "xgb = XGBClassifier()\n",
        "\n",
        "# Definir la estrategia de validación cruzada para GridSearchCV\n",
        "cv_strategy = 5\n",
        "\n",
        "# Crear un objeto GridSearchCV para optimizar los hiperparámetros\n",
        "xgb_norm = GridSearchCV(estimator=xgb,param_grid=param_grid, cv=cv_strategy, scoring='accuracy', n_jobs=-1)\n",
        "\n",
        "# Entrenar el modelo en el conjunto de entrenamiento\n",
        "xgb_norm.fit(x_train_minmax, y_train)"
      ],
      "metadata": {
        "id": "rW-xDFDf5FIG"
      },
      "execution_count": null,
      "outputs": []
    },
    {
      "cell_type": "code",
      "source": [
        "# Mostrar los mejores hiperparámetros encontrados por GridSearchCV\n",
        "best_params = xgb_norm.best_params_\n",
        "print(\"Mejores hiperparámetros: \", best_params)\n",
        "\n",
        "# Mostrar la puntuación media de la validación cruzada para los mejores hiperparámetros\n",
        "best_score = xgb_norm.best_score_\n",
        "print(\"Puntuación media de la validación cruzada: \", best_score)\n",
        "\n",
        "# Calcular la precisión en el conjunto de prueba utilizando los mejores hiperparámetros\n",
        "accuracy = xgb_norm.score(x_test_minmax, y_test)\n",
        "print(\"Precisión en el conjunto de prueba: \", accuracy)"
      ],
      "metadata": {
        "id": "uNOJJReD5jOr",
        "colab": {
          "base_uri": "https://localhost:8080/"
        },
        "outputId": "b7a354a9-b136-4224-f647-089ed942a3fc"
      },
      "execution_count": null,
      "outputs": [
        {
          "output_type": "stream",
          "name": "stdout",
          "text": [
            "Mejores hiperparámetros:  {'colsample_bytree': 0.8, 'learning_rate': 0.01, 'max_depth': 20, 'n_estimators': 600, 'subsample': 0.8}\n",
            "Puntuación media de la validación cruzada:  0.8858468199154726\n",
            "Precisión en el conjunto de prueba:  0.8861218768038261\n"
          ]
        }
      ]
    },
    {
      "cell_type": "code",
      "source": [
        "from sklearn.metrics import roc_auc_score\n",
        "#Evaluo en el set de test\n",
        "\n",
        "y_pred_proba= xgb_norm.predict_proba(x_test)[:, 1]\n",
        "print('AUC:',roc_auc_score(y_test, y_pred_proba))\n",
        "\n",
        "#Matriz de Confusion\n",
        "y_pred=xgb_norm.predict(x_test_minmax)\n",
        "\n",
        "cm = confusion_matrix(y_test,y_pred)\n",
        "sns.heatmap(cm, cmap='Blues',annot=True,fmt='g')\n",
        "plt.xlabel('Predicted')\n",
        "plt.ylabel('True')\n",
        "\n",
        "#Reporte\n",
        "print(classification_report(y_test,y_pred))"
      ],
      "metadata": {
        "colab": {
          "base_uri": "https://localhost:8080/",
          "height": 623
        },
        "id": "lnQ1sdTcPbTn",
        "outputId": "59190c5c-eabd-4c94-ae16-321194b0e0c0"
      },
      "execution_count": null,
      "outputs": [
        {
          "output_type": "stream",
          "name": "stdout",
          "text": [
            "AUC: 0.8588199126731625\n",
            "              precision    recall  f1-score   support\n",
            "\n",
            "           0       0.89      0.88      0.89      6037\n",
            "           1       0.89      0.89      0.89      6090\n",
            "\n",
            "    accuracy                           0.89     12127\n",
            "   macro avg       0.89      0.89      0.89     12127\n",
            "weighted avg       0.89      0.89      0.89     12127\n",
            "\n"
          ]
        },
        {
          "output_type": "display_data",
          "data": {
            "text/plain": [
              "<Figure size 640x480 with 2 Axes>"
            ],
            "image/png": "[encoded data removed]"
          },
          "metadata": {}
        }
      ]
    },
    {
      "cell_type": "markdown",
      "source": [
        "## Ensambles Hibridos"
      ],
      "metadata": {
        "id": "xz6x3-13ad_l"
      }
    },
    {
      "cell_type": "markdown",
      "source": [
        "### Voting"
      ],
      "metadata": {
        "id": "8nemkFMbagkr"
      }
    },
    {
      "cell_type": "markdown",
      "source": [
        "##### Voting modelos base"
      ],
      "metadata": {
        "id": "tCRPf1nack1b"
      }
    },
    {
      "cell_type": "code",
      "source": [
        "vot_clf = joblib.load(\"/content/drive/My Drive/OrgaDeDatosRodriguez/TP_1/Modelos/vot_base.joblib\")"
      ],
      "metadata": {
        "id": "Fo6PYDQ_4ErP"
      },
      "execution_count": null,
      "outputs": []
    },
    {
      "cell_type": "code",
      "source": [
        "#Creo clasificadores\n",
        "\n",
        "log_clf = LogisticRegression()\n",
        "rnd_clf = RandomForestClassifier()\n",
        "knn_clf = KNeighborsClassifier()\n",
        "xgb_clf = XGBClassifier()\n",
        "\n",
        "#Creo ensemble de Votación\n",
        "vot_clf_base = VotingClassifier(estimators = [('lr', log_clf), ('rnd', rnd_clf), ('knn', knn_clf), ('xgb', xgb_clf)], voting = 'hard')"
      ],
      "metadata": {
        "id": "b_Pee6iKaiJD"
      },
      "execution_count": null,
      "outputs": []
    },
    {
      "cell_type": "code",
      "source": [
        "#Entreno el ensemble\n",
        "vot_clf_base.fit(x_train, y_train)\n",
        "\n",
        "#Evaluo en conjunto de test\n",
        "pred = vot_clf_base.predict(x_test)\n",
        "accuracy_score(y_test, pred)"
      ],
      "metadata": {
        "id": "Il8MCx-gbi5p",
        "colab": {
          "base_uri": "https://localhost:8080/"
        },
        "outputId": "9141d9a7-edb0-4e51-b1d4-f95a81002d2a"
      },
      "execution_count": null,
      "outputs": [
        {
          "output_type": "stream",
          "name": "stderr",
          "text": [
            "/usr/local/lib/python3.10/dist-packages/sklearn/linear_model/_logistic.py:458: ConvergenceWarning: lbfgs failed to converge (status=1):\n",
            "STOP: TOTAL NO. of ITERATIONS REACHED LIMIT.\n",
            "\n",
            "Increase the number of iterations (max_iter) or scale the data as shown in:\n",
            "    https://scikit-learn.org/stable/modules/preprocessing.html\n",
            "Please also refer to the documentation for alternative solver options:\n",
            "    https://scikit-learn.org/stable/modules/linear_model.html#logistic-regression\n",
            "  n_iter_i = _check_optimize_result(\n"
          ]
        },
        {
          "output_type": "execute_result",
          "data": {
            "text/plain": [
              "0.8551991424094995"
            ]
          },
          "metadata": {},
          "execution_count": 34
        }
      ]
    },
    {
      "cell_type": "code",
      "source": [
        "#Hago la prediccion y calculo las métricas\n",
        "y_pred_norm=vot_clf.predict(x_test)\n",
        "metricas(y_pred_norm,y_test)"
      ],
      "metadata": {
        "colab": {
          "base_uri": "https://localhost:8080/",
          "height": 605
        },
        "id": "flmD9awg4PcM",
        "outputId": "1d41289f-4190-4d9c-a624-29b7cf340ef4"
      },
      "execution_count": null,
      "outputs": [
        {
          "output_type": "stream",
          "name": "stdout",
          "text": [
            "              precision    recall  f1-score   support\n",
            "\n",
            "           0       0.82      0.91      0.86      6037\n",
            "           1       0.90      0.80      0.85      6090\n",
            "\n",
            "    accuracy                           0.86     12127\n",
            "   macro avg       0.86      0.86      0.85     12127\n",
            "weighted avg       0.86      0.86      0.85     12127\n",
            "\n"
          ]
        },
        {
          "output_type": "display_data",
          "data": {
            "text/plain": [
              "<Figure size 640x480 with 2 Axes>"
            ],
            "image/png": "[encoded data removed]"
          },
          "metadata": {}
        }
      ]
    },
    {
      "cell_type": "markdown",
      "source": [
        "#### Voting modelos propios"
      ],
      "metadata": {
        "id": "XHus1gJbctjp"
      }
    },
    {
      "cell_type": "markdown",
      "source": [
        "Creamos modelos con los mejores hiperparametros que encontramos en cada clasificador"
      ],
      "metadata": {
        "id": "Vb7Zp9amZN9x"
      }
    },
    {
      "cell_type": "code",
      "source": [
        "voting_propio = joblib.load(\"/content/drive/My Drive/OrgaDeDatosRodriguez/TP_1/Modelos/vot_clf_propio.joblib\")"
      ],
      "metadata": {
        "id": "JD_5berv3dVr"
      },
      "execution_count": null,
      "outputs": []
    },
    {
      "cell_type": "code",
      "source": [
        "xgb_norm = joblib.load(\"/content/drive/My Drive/OrgaDeDatosRodriguez/TP_1/Modelos/XGBoost_final.joblib\").best_estimator_\n",
        "knn = joblib.load(\"/content/drive/My Drive/OrgaDeDatosRodriguez/TP_1/Modelos/knn_kd_tree.joblib\").best_estimator_\n",
        "rfc_search = joblib.load(\"/content/drive/My Drive/OrgaDeDatosRodriguez/TP_1/Modelos/rfc_final.joblib\").best_estimator_\n",
        "\n",
        "#Creo ensemble de Votación\n",
        "vot_clf_propio = VotingClassifier(estimators = [('rf', rfc_search), ('knn', knn), ('xgb', xgb_norm)], voting = 'hard')\n",
        "#Entreno el ensemble\n",
        "vot_clf_propio.fit(x_train, y_train)"
      ],
      "metadata": {
        "id": "uw0Xt516G6Tx"
      },
      "execution_count": null,
      "outputs": []
    },
    {
      "cell_type": "code",
      "source": [
        "pred = voting_propio.predict(x_test)\n",
        "accuracy_score(y_test, pred)"
      ],
      "metadata": {
        "id": "hcSKP4GZyUJi",
        "colab": {
          "base_uri": "https://localhost:8080/"
        },
        "outputId": "4d143dfe-16c7-46e3-f20c-83b0e359997c"
      },
      "execution_count": null,
      "outputs": [
        {
          "output_type": "execute_result",
          "data": {
            "text/plain": [
              "0.8850498886781561"
            ]
          },
          "metadata": {},
          "execution_count": 14
        }
      ]
    },
    {
      "cell_type": "code",
      "source": [
        "#Hago la prediccion y calculo las métricas\n",
        "y_pred_norm=voting_propio.predict(x_test)\n",
        "metricas(y_pred_norm,y_test)"
      ],
      "metadata": {
        "colab": {
          "base_uri": "https://localhost:8080/",
          "height": 605
        },
        "id": "5GwXy9Xn3bs5",
        "outputId": "61bd4434-19fe-4cf8-98e1-5f4128fa73b7"
      },
      "execution_count": null,
      "outputs": [
        {
          "output_type": "stream",
          "name": "stdout",
          "text": [
            "              precision    recall  f1-score   support\n",
            "\n",
            "           0       0.89      0.88      0.88      6037\n",
            "           1       0.88      0.89      0.89      6090\n",
            "\n",
            "    accuracy                           0.89     12127\n",
            "   macro avg       0.89      0.89      0.89     12127\n",
            "weighted avg       0.89      0.89      0.89     12127\n",
            "\n"
          ]
        },
        {
          "output_type": "display_data",
          "data": {
            "text/plain": [
              "<Figure size 640x480 with 2 Axes>"
            ],
            "image/png": "[encoded data removed]"
          },
          "metadata": {}
        }
      ]
    },
    {
      "cell_type": "markdown",
      "source": [
        "Agregamos svm para ver si mejora"
      ],
      "metadata": {
        "id": "ZY8WWpIQQdqa"
      }
    },
    {
      "cell_type": "code",
      "source": [
        "voting_propio_2= joblib.load(\"/content/drive/My Drive/OrgaDeDatosRodriguez/TP_1/Modelos/voting_hard.joblib\")"
      ],
      "metadata": {
        "id": "0cGkl2WFx91z"
      },
      "execution_count": 8,
      "outputs": []
    },
    {
      "cell_type": "code",
      "source": [
        "xgb_norm = joblib.load(\"/content/drive/My Drive/OrgaDeDatosRodriguez/TP_1/Modelos/XGBoost_final.joblib\").best_estimator_\n",
        "knn = joblib.load(\"/content/drive/My Drive/OrgaDeDatosRodriguez/TP_1/Modelos/knn_kd_tree.joblib\").best_estimator_\n",
        "rfc_search = joblib.load(\"/content/drive/My Drive/OrgaDeDatosRodriguez/TP_1/Modelos/rfc_final.joblib\").best_estimator_\n",
        "svm_r = SVC(C=100, gamma=0.1, kernel='rbf',probability=True)\n",
        "\n",
        "#Creo ensemble de Votación\n",
        "voting_propio_2 = VotingClassifier(estimators = [('rf', rfc_search), ('knn', knn), ('xgb', xgb_norm)], voting = 'hard')\n",
        "#Entreno el ensemble\n",
        "voting_propio_2.fit(x_train, y_train)"
      ],
      "metadata": {
        "id": "f41rkLQXH3gr"
      },
      "execution_count": null,
      "outputs": []
    },
    {
      "cell_type": "code",
      "source": [
        "pred = voting_propio_2.predict(x_test_minmax)\n",
        "print(\"Accuracy: \",accuracy_score(y_test, pred))\n",
        "metricas(pred,y_test)"
      ],
      "metadata": {
        "colab": {
          "base_uri": "https://localhost:8080/",
          "height": 623
        },
        "id": "7bJ3SRTNIjdv",
        "outputId": "2a6ae5ca-f8a8-42f3-96fa-765908910a68"
      },
      "execution_count": 17,
      "outputs": [
        {
          "output_type": "stream",
          "name": "stdout",
          "text": [
            "Accuracy:  0.8835655974272285\n",
            "              precision    recall  f1-score   support\n",
            "\n",
            "           0       0.87      0.90      0.89      6037\n",
            "           1       0.90      0.87      0.88      6090\n",
            "\n",
            "    accuracy                           0.88     12127\n",
            "   macro avg       0.88      0.88      0.88     12127\n",
            "weighted avg       0.88      0.88      0.88     12127\n",
            "\n"
          ]
        },
        {
          "output_type": "display_data",
          "data": {
            "text/plain": [
              "<Figure size 640x480 with 2 Axes>"
            ],
            "image/png": "[encoded data removed]"
          },
          "metadata": {}
        }
      ]
    },
    {
      "cell_type": "code",
      "source": [
        "voting_propio_3= joblib.load(\"/content/drive/My Drive/OrgaDeDatosRodriguez/TP_1/Modelos/voting_soft.joblib\")"
      ],
      "metadata": {
        "id": "ccqse3nNHuZ0"
      },
      "execution_count": 13,
      "outputs": []
    },
    {
      "cell_type": "code",
      "source": [
        "xgb_norm = joblib.load(\"/content/drive/My Drive/OrgaDeDatosRodriguez/TP_1/Modelos/XGBoost_final.joblib\").best_estimator_\n",
        "knn = joblib.load(\"/content/drive/My Drive/OrgaDeDatosRodriguez/TP_1/Modelos/knn_kd_tree.joblib\").best_estimator_\n",
        "rfc_search = joblib.load(\"/content/drive/My Drive/OrgaDeDatosRodriguez/TP_1/Modelos/rfc_final.joblib\").best_estimator_\n",
        "svm_r = SVC(C=100, gamma=0.1, kernel='rbf',probability=True)\n",
        "\n",
        "#Creo ensemble de Votación\n",
        "voting_propio_3 = VotingClassifier(estimators = [('rf', rfc_search), ('knn', knn), ('xgb', xgb_norm)], voting = 'soft')\n",
        "#Entreno el ensemble\n",
        "voting_propio_3.fit(x_train, y_train)"
      ],
      "metadata": {
        "id": "bJO-I-IqInTi"
      },
      "execution_count": null,
      "outputs": []
    },
    {
      "cell_type": "code",
      "source": [
        "pred = voting_propio_3.predict(x_test_minmax)\n",
        "print(\"Accuaracy: \", accuracy_score(y_test, pred))\n",
        "metricas(pred,y_test)"
      ],
      "metadata": {
        "colab": {
          "base_uri": "https://localhost:8080/",
          "height": 623
        },
        "id": "rHaDk5IRIruT",
        "outputId": "b62a1b98-2bb7-487b-e630-60cc29bf0e2b"
      },
      "execution_count": 16,
      "outputs": [
        {
          "output_type": "stream",
          "name": "stdout",
          "text": [
            "Accuaracy:  0.8849674280531047\n",
            "              precision    recall  f1-score   support\n",
            "\n",
            "           0       0.89      0.88      0.88      6037\n",
            "           1       0.88      0.89      0.89      6090\n",
            "\n",
            "    accuracy                           0.88     12127\n",
            "   macro avg       0.88      0.88      0.88     12127\n",
            "weighted avg       0.88      0.88      0.88     12127\n",
            "\n"
          ]
        },
        {
          "output_type": "display_data",
          "data": {
            "text/plain": [
              "<Figure size 640x480 with 2 Axes>"
            ],
            "image/png": "[encoded data removed]"
          },
          "metadata": {}
        }
      ]
    },
    {
      "cell_type": "markdown",
      "source": [
        "### Stacking"
      ],
      "metadata": {
        "id": "WYjC1Gx0bu_z"
      }
    },
    {
      "cell_type": "code",
      "source": [
        "#Funcion para evaluar los modelos 5fold -CV (repite 2 veces)\n",
        "def evaluate_model(model, x, y):\n",
        "    cv = RepeatedStratifiedKFold(n_splits=5, n_repeats=2, random_state=1)\n",
        "    scores = cross_val_score(model, x, y, scoring='accuracy', cv=cv, verbose=1, n_jobs=3, error_score='raise')\n",
        "    return scores"
      ],
      "metadata": {
        "id": "2FwUuxyucXg5"
      },
      "execution_count": null,
      "outputs": []
    },
    {
      "cell_type": "code",
      "source": [
        "#Funcion para plotear a performance\n",
        "def plot_results(model_scores, name):\n",
        "    \n",
        "    model_names = list(model_scores.keys())\n",
        "    results = [model_scores[model] for model in model_names]\n",
        "    fig = go.Figure()\n",
        "    for model, result in zip(model_names, results):\n",
        "        fig.add_trace(go.Box(\n",
        "            y=result,\n",
        "            name=model,\n",
        "            boxpoints='all',\n",
        "            jitter=0.5,\n",
        "            whiskerwidth=0.2,\n",
        "            marker_size=2,\n",
        "            line_width=1)\n",
        "        )\n",
        "    \n",
        "    fig.update_layout(\n",
        "    title='Performance of Different Models Using 5-Fold Cross-Validation',\n",
        "    paper_bgcolor='rgb(243, 243, 243)',\n",
        "    plot_bgcolor='rgb(243, 243, 243)',\n",
        "    xaxis_title='Model',\n",
        "    yaxis_title='Accuracy',\n",
        "    showlegend=False)\n",
        "    fig.show()"
      ],
      "metadata": {
        "id": "IqO6-8cUcY8M"
      },
      "execution_count": null,
      "outputs": []
    },
    {
      "cell_type": "markdown",
      "source": [
        "#### Stacking modelos base"
      ],
      "metadata": {
        "id": "-o1E9p4vc1Mr"
      }
    },
    {
      "cell_type": "code",
      "source": [
        "stacking_model = joblib.load(\"/content/drive/My Drive/OrgaDeDatosRodriguez/TP_1/Modelos/stacking_base.joblib\")"
      ],
      "metadata": {
        "id": "jk0Be9AR4k8Q"
      },
      "execution_count": null,
      "outputs": []
    },
    {
      "cell_type": "code",
      "source": [
        "#Modelos Base\n",
        "base_models = {'random_forest':RandomForestClassifier(n_estimators=50),\n",
        "               'xgb': XGBClassifier(),\n",
        "               'knn': KNeighborsClassifier(n_neighbors=11)}\n",
        "\n",
        "#Guarda los scores de cada modelo\n",
        "model_scores = defaultdict()\n",
        "\n",
        "#Entreno los clasificadores\n",
        "for name, model in base_models.items():\n",
        "    print('Evaluating {}'.format(name))\n",
        "    scores = evaluate_model(model, x_train_minmax, y_train)\n",
        "    model_scores[name] = scores"
      ],
      "metadata": {
        "colab": {
          "base_uri": "https://localhost:8080/"
        },
        "id": "QK9pi4GwW9mU",
        "outputId": "9633ca45-17ec-428d-9a5a-340ef7d12de5"
      },
      "execution_count": null,
      "outputs": [
        {
          "output_type": "stream",
          "name": "stdout",
          "text": [
            "Evaluating random_forest\n"
          ]
        },
        {
          "output_type": "stream",
          "name": "stderr",
          "text": [
            "[Parallel(n_jobs=3)]: Using backend LokyBackend with 3 concurrent workers.\n",
            "[Parallel(n_jobs=3)]: Done  10 out of  10 | elapsed:   20.6s finished\n",
            "[Parallel(n_jobs=3)]: Using backend LokyBackend with 3 concurrent workers.\n"
          ]
        },
        {
          "output_type": "stream",
          "name": "stdout",
          "text": [
            "Evaluating xgb\n"
          ]
        },
        {
          "output_type": "stream",
          "name": "stderr",
          "text": [
            "[Parallel(n_jobs=3)]: Done  10 out of  10 | elapsed:  1.5min finished\n",
            "[Parallel(n_jobs=3)]: Using backend LokyBackend with 3 concurrent workers.\n"
          ]
        },
        {
          "output_type": "stream",
          "name": "stdout",
          "text": [
            "Evaluating knn\n"
          ]
        },
        {
          "output_type": "stream",
          "name": "stderr",
          "text": [
            "[Parallel(n_jobs=3)]: Done  10 out of  10 | elapsed:   29.2s finished\n"
          ]
        }
      ]
    },
    {
      "cell_type": "code",
      "source": [
        "from sklearn.ensemble import StackingClassifier\n",
        "\n",
        "#Modelos Base\n",
        "base_models = [('random_forest', RandomForestClassifier(n_estimators=50)),\n",
        "               ('xgb', XGBClassifier()),\n",
        "               ('knn', KNeighborsClassifier(n_neighbors=11))]\n",
        "\n",
        "#Meta Modelo\n",
        "meta_model = LogisticRegressionCV()\n",
        "\n",
        "#Ensemble Stacking\n",
        "stacking_model = StackingClassifier(estimators=base_models, \n",
        "                                    final_estimator=meta_model, \n",
        "                                    passthrough=True, \n",
        "                                    cv=5,\n",
        "                                    verbose=2)"
      ],
      "metadata": {
        "id": "PX68IZ-bcGzN"
      },
      "execution_count": null,
      "outputs": []
    },
    {
      "cell_type": "code",
      "source": [
        "#Performance el modelo en entrenamiento\n",
        "stacking_scores = evaluate_model(stacking_model, x_train_minmax, y_train)\n",
        "model_scores['stacking'] = stacking_scores"
      ],
      "metadata": {
        "id": "Ze_4D5nNcJVR",
        "colab": {
          "base_uri": "https://localhost:8080/"
        },
        "outputId": "d3f0935c-fd02-486f-e605-889d978090c8"
      },
      "execution_count": null,
      "outputs": [
        {
          "output_type": "stream",
          "name": "stderr",
          "text": [
            "[Parallel(n_jobs=3)]: Using backend LokyBackend with 3 concurrent workers.\n",
            "[Parallel(n_jobs=3)]: Done  10 out of  10 | elapsed: 12.8min finished\n"
          ]
        }
      ]
    },
    {
      "cell_type": "code",
      "source": [
        "plot_results(model_scores, name='stacking_model_cv')"
      ],
      "metadata": {
        "id": "jsPwpH1yvDdK"
      },
      "execution_count": null,
      "outputs": []
    },
    {
      "cell_type": "code",
      "source": [
        "#Evaluo en conjunto de test\n",
        "#stacking_model.fit(x_train,y_train).score(x_test,y_test)\n",
        "stacking_model.fit(x_train_minmax,y_train)\n",
        "y_pred_st = stacking_model.predict(x_test_minmax)\n",
        "accuracy_score(y_test, y_pred_st)"
      ],
      "metadata": {
        "id": "V_jVV6lXcPA1",
        "colab": {
          "base_uri": "https://localhost:8080/"
        },
        "outputId": "ba90d72c-7fa4-4bf3-c8d8-d63628a96213"
      },
      "execution_count": null,
      "outputs": [
        {
          "output_type": "stream",
          "name": "stderr",
          "text": [
            "[Parallel(n_jobs=1)]: Using backend SequentialBackend with 1 concurrent workers.\n",
            "[Parallel(n_jobs=1)]: Done   1 out of   1 | elapsed:    2.1s remaining:    0.0s\n",
            "[Parallel(n_jobs=1)]: Done   5 out of   5 | elapsed:   11.6s finished\n",
            "[Parallel(n_jobs=1)]: Using backend SequentialBackend with 1 concurrent workers.\n",
            "[Parallel(n_jobs=1)]: Done   1 out of   1 | elapsed:    7.6s remaining:    0.0s\n",
            "[Parallel(n_jobs=1)]: Done   5 out of   5 | elapsed:   45.7s finished\n",
            "[Parallel(n_jobs=1)]: Using backend SequentialBackend with 1 concurrent workers.\n",
            "[Parallel(n_jobs=1)]: Done   1 out of   1 | elapsed:    2.8s remaining:    0.0s\n",
            "[Parallel(n_jobs=1)]: Done   5 out of   5 | elapsed:   13.9s finished\n",
            "/usr/local/lib/python3.10/dist-packages/sklearn/linear_model/_logistic.py:458: ConvergenceWarning:\n",
            "\n",
            "lbfgs failed to converge (status=1):\n",
            "STOP: TOTAL NO. of ITERATIONS REACHED LIMIT.\n",
            "\n",
            "Increase the number of iterations (max_iter) or scale the data as shown in:\n",
            "    https://scikit-learn.org/stable/modules/preprocessing.html\n",
            "Please also refer to the documentation for alternative solver options:\n",
            "    https://scikit-learn.org/stable/modules/linear_model.html#logistic-regression\n",
            "\n",
            "/usr/local/lib/python3.10/dist-packages/sklearn/linear_model/_logistic.py:458: ConvergenceWarning:\n",
            "\n",
            "lbfgs failed to converge (status=1):\n",
            "STOP: TOTAL NO. of ITERATIONS REACHED LIMIT.\n",
            "\n",
            "Increase the number of iterations (max_iter) or scale the data as shown in:\n",
            "    https://scikit-learn.org/stable/modules/preprocessing.html\n",
            "Please also refer to the documentation for alternative solver options:\n",
            "    https://scikit-learn.org/stable/modules/linear_model.html#logistic-regression\n",
            "\n",
            "/usr/local/lib/python3.10/dist-packages/sklearn/linear_model/_logistic.py:458: ConvergenceWarning:\n",
            "\n",
            "lbfgs failed to converge (status=1):\n",
            "STOP: TOTAL NO. of ITERATIONS REACHED LIMIT.\n",
            "\n",
            "Increase the number of iterations (max_iter) or scale the data as shown in:\n",
            "    https://scikit-learn.org/stable/modules/preprocessing.html\n",
            "Please also refer to the documentation for alternative solver options:\n",
            "    https://scikit-learn.org/stable/modules/linear_model.html#logistic-regression\n",
            "\n",
            "/usr/local/lib/python3.10/dist-packages/sklearn/linear_model/_logistic.py:458: ConvergenceWarning:\n",
            "\n",
            "lbfgs failed to converge (status=1):\n",
            "STOP: TOTAL NO. of ITERATIONS REACHED LIMIT.\n",
            "\n",
            "Increase the number of iterations (max_iter) or scale the data as shown in:\n",
            "    https://scikit-learn.org/stable/modules/preprocessing.html\n",
            "Please also refer to the documentation for alternative solver options:\n",
            "    https://scikit-learn.org/stable/modules/linear_model.html#logistic-regression\n",
            "\n",
            "/usr/local/lib/python3.10/dist-packages/sklearn/linear_model/_logistic.py:458: ConvergenceWarning:\n",
            "\n",
            "lbfgs failed to converge (status=1):\n",
            "STOP: TOTAL NO. of ITERATIONS REACHED LIMIT.\n",
            "\n",
            "Increase the number of iterations (max_iter) or scale the data as shown in:\n",
            "    https://scikit-learn.org/stable/modules/preprocessing.html\n",
            "Please also refer to the documentation for alternative solver options:\n",
            "    https://scikit-learn.org/stable/modules/linear_model.html#logistic-regression\n",
            "\n"
          ]
        },
        {
          "output_type": "execute_result",
          "data": {
            "text/plain": [
              "0.8837305186773315"
            ]
          },
          "metadata": {},
          "execution_count": 52
        }
      ]
    },
    {
      "cell_type": "code",
      "source": [
        "#Hago la prediccion y calculo las métricas\n",
        "y_pred_norm=stacking_model.predict(x_test_minmax)\n",
        "metricas(y_pred_norm,y_test)"
      ],
      "metadata": {
        "colab": {
          "base_uri": "https://localhost:8080/",
          "height": 605
        },
        "id": "dEX72MH-4fG9",
        "outputId": "22843fbf-8e1d-4b1d-f591-1f08d16b8e4d"
      },
      "execution_count": null,
      "outputs": [
        {
          "output_type": "stream",
          "name": "stdout",
          "text": [
            "              precision    recall  f1-score   support\n",
            "\n",
            "           0       0.88      0.88      0.88      6037\n",
            "           1       0.88      0.88      0.88      6090\n",
            "\n",
            "    accuracy                           0.88     12127\n",
            "   macro avg       0.88      0.88      0.88     12127\n",
            "weighted avg       0.88      0.88      0.88     12127\n",
            "\n"
          ]
        },
        {
          "output_type": "display_data",
          "data": {
            "text/plain": [
              "<Figure size 640x480 with 2 Axes>"
            ],
            "image/png": "[encoded data removed]"
          },
          "metadata": {}
        }
      ]
    },
    {
      "cell_type": "code",
      "source": [
        "joblib.dump(stacking_model, \"/content/drive/My Drive/OrgaDeDatosRodriguez/TP_1/Modelos/stacking_base.joblib\")"
      ],
      "metadata": {
        "colab": {
          "base_uri": "https://localhost:8080/"
        },
        "id": "BebeHBgGkU_5",
        "outputId": "d08518a0-4b8c-4558-9b70-500051489fdc"
      },
      "execution_count": null,
      "outputs": [
        {
          "output_type": "execute_result",
          "data": {
            "text/plain": [
              "['/content/drive/My Drive/OrgaDeDatosRodriguez/TP_1/Modelos/stacking_base.joblib']"
            ]
          },
          "metadata": {},
          "execution_count": 55
        }
      ]
    },
    {
      "cell_type": "markdown",
      "source": [
        "#### Stacking modelos propios"
      ],
      "metadata": {
        "id": "p3GG1CCJdCFj"
      }
    },
    {
      "cell_type": "code",
      "source": [
        "stacking_propio = joblib.load(\"/content/drive/My Drive/OrgaDeDatosRodriguez/TP_1/Modelos/stacking_propio.joblib\")"
      ],
      "metadata": {
        "id": "TY2yDl8bzm8u"
      },
      "execution_count": null,
      "outputs": []
    },
    {
      "cell_type": "code",
      "source": [
        "xgb_norm = joblib.load(\"/content/drive/My Drive/OrgaDeDatosRodriguez/TP_1/Modelos/XGBoost_final.joblib\").best_estimator_\n",
        "knn = joblib.load(\"/content/drive/My Drive/OrgaDeDatosRodriguez/TP_1/Modelos/knn_kd_tree.joblib\").best_estimator_\n",
        "rfc_search = joblib.load(\"/content/drive/My Drive/OrgaDeDatosRodriguez/TP_1/Modelos/rfc_final.joblib\").best_estimator_"
      ],
      "metadata": {
        "id": "nddfCSyWdP61"
      },
      "execution_count": null,
      "outputs": []
    },
    {
      "cell_type": "code",
      "source": [
        "model_scores = defaultdict()\n",
        "model_scores[\"xgb_norm\"] = joblib.load(\"/content/drive/My Drive/OrgaDeDatosRodriguez/TP_1/Modelos/XGBoost_final.joblib\").cv_results_['mean_test_score']\n",
        "model_scores[\"knn_1\"] = joblib.load(\"/content/drive/My Drive/OrgaDeDatosRodriguez/TP_1/Modelos/knn_ball_tree.joblib\").cv_results_['mean_test_score']\n",
        "model_scores[\"knn_2\"] = joblib.load(\"/content/drive/My Drive/OrgaDeDatosRodriguez/TP_1/Modelos/knn_kd_tree.joblib\").cv_results_['mean_test_score']\n",
        "model_scores[\"knn_3\"] = joblib.load(\"/content/drive/My Drive/OrgaDeDatosRodriguez/TP_1/Modelos/knn_brute.joblib\").cv_results_['mean_test_score']\n",
        "model_scores[\"rfc_search\"] = joblib.load(\"/content/drive/My Drive/OrgaDeDatosRodriguez/TP_1/Modelos/rfc_final.joblib\").cv_results_['mean_test_score']\n",
        "model_scores[\"svm_l\"] = joblib.load(\"/content/drive/My Drive/OrgaDeDatosRodriguez/TP_1/Modelos/svm_kernel_lineal.joblib\").cv_results_['mean_test_score']\n",
        "model_scores[\"svm_p\"] = joblib.load(\"/content/drive/My Drive/OrgaDeDatosRodriguez/TP_1/Modelos/svm_kernel_poly.joblib\").cv_results_['mean_test_score']\n",
        "model_scores[\"svm_r\"] = joblib.load(\"/content/drive/My Drive/OrgaDeDatosRodriguez/TP_1/Modelos/svm_kernel_radial.joblib\").cv_results_['mean_test_score']\n",
        "print(model_scores[\"svm_r\"])"
      ],
      "metadata": {
        "colab": {
          "base_uri": "https://localhost:8080/"
        },
        "id": "aprMvwhKlrrw",
        "outputId": "b6e1a06e-c431-4b52-bf03-5a91cf26717e"
      },
      "execution_count": null,
      "outputs": [
        {
          "output_type": "stream",
          "name": "stdout",
          "text": [
            "[0.81521493 0.81088548 0.66498299 0.64413978 0.83253273 0.84545923\n",
            " 0.79140295 0.74798474 0.84500567 0.84170704 0.79923719 0.75120091\n",
            " 0.8496856  0.83242965 0.79911349 0.75124214]\n"
          ]
        }
      ]
    },
    {
      "cell_type": "code",
      "source": [
        "#Grafico performance\n",
        "plot_results(model_scores, name='stacking_model_cv')"
      ],
      "metadata": {
        "id": "ywb9YwzRcK85",
        "colab": {
          "base_uri": "https://localhost:8080/",
          "height": 542
        },
        "outputId": "ba089720-2c29-420d-d195-344e9dacf0d5"
      },
      "execution_count": null,
      "outputs": [
        {
          "output_type": "display_data",
          "data": {
            "text/html": [
              "<html>\n",
              "<head><meta charset=\"utf-8\" /></head>\n",
              "<body>\n",
              "    <div>            <script src=\"https://cdnjs.cloudflare.com/ajax/libs/mathjax/2.7.5/MathJax.js?config=TeX-AMS-MML_SVG\"></script><script type=\"text/javascript\">if (window.MathJax && window.MathJax.Hub && window.MathJax.Hub.Config) {window.MathJax.Hub.Config({SVG: {font: \"STIX-Web\"}});}</script>                <script type=\"text/javascript\">window.PlotlyConfig = {MathJaxConfig: 'local'};</script>\n",
              "        <script src=\"https://cdn.plot.ly/plotly-2.18.2.min.js\"></script>                <div id=\"cf0e08b9-985e-490c-992b-286f3a2dbe67\" class=\"plotly-graph-div\" style=\"height:525px; width:100%;\"></div>            <script type=\"text/javascript\">                                    window.PLOTLYENV=window.PLOTLYENV || {};                                    if (document.getElementById(\"cf0e08b9-985e-490c-992b-286f3a2dbe67\")) {                    Plotly.newPlot(                        \"cf0e08b9-985e-490c-992b-286f3a2dbe67\",                        [{\"boxpoints\":\"all\",\"jitter\":0.5,\"line\":{\"width\":1},\"marker\":{\"size\":2},\"name\":\"xgb_norm\",\"whiskerwidth\":0.2,\"y\":[0.8832697660035048,0.8850633955262344,0.8856818884651068,0.8845686011751365,0.8852901762704877,0.8855375734460365,0.8780744253169777,0.8807751778167198,0.8814555200494795,0.8774146995155139,0.8801979177404391,0.8812493557365219,0.8745077827028143,0.8772291516338522,0.8780950417482734,0.8735388104319142,0.8763426450881353,0.8783012060612307,0.8838264096484899,0.8840119575301516,0.8831048345531387,0.8852077105453047,0.8858468199154726,0.8847335326255026,0.8766725079888671,0.8815998350685497,0.8802803834656221,0.8789609318626944,0.8813730543242965,0.8812905885991136,0.874363467683744,0.8779507267292033,0.8787135346871457,0.8744871662715183,0.879002164725286,0.880136068446552,0.8826925059272239,0.8829399031027728,0.8798474384084116,0.8845067518812494,0.8852695598391918,0.8802597670343264,0.8774146995155139,0.8790433975878775,0.8802391506030306,0.8783424389238224,0.8806308627976497,0.8800329862900732,0.8750438099165034,0.8777651788475416,0.8779507267292033,0.8751056592103905,0.8791052468817648,0.8785279868054839],\"type\":\"box\"},{\"boxpoints\":\"all\",\"jitter\":0.5,\"line\":{\"width\":1},\"marker\":{\"size\":2},\"name\":\"knn_1\",\"whiskerwidth\":0.2,\"y\":[0.8053808885681889,0.8305741676115865,0.8024121224616019,0.8098134212967736,0.8270281414287186,null,0.8014225337594063,0.8302649211421503,0.831254509844346,0.8008865065457169,0.809380476239563,0.8288217709514483,0.7930316462220389,0.8041439026904442,null,0.8112359550561796,0.777486857025049,0.7709102154417071,null,null,null,null,null,0.8019791774043913,0.7945984950005155,null,0.809380476239563,0.800639109370168,null,0.8295021131842077,0.7630759715493248,0.7702092567776517,0.8242655396350891,0.8044119162972889,null,null,0.8358519740232966,0.7596742603855272,0.8018554788166169,0.7705185032470879],\"type\":\"box\"},{\"boxpoints\":\"all\",\"jitter\":0.5,\"line\":{\"width\":1},\"marker\":{\"size\":2},\"name\":\"knn_2\",\"whiskerwidth\":0.2,\"y\":[0.8079991753427482,0.804082053396557,0.7537779610349448,0.8221832800742191,0.8062467786826101,0.8027007524997423,0.8214617049788682,0.8311926605504587,0.7920626739511392,0.8202453355324193,0.8097309555715906,0.7917328110504073,0.811545201525616,0.828924853107927,0.807133285228327,0.7988454798474385,0.8028038346562211,0.8028038346562211,0.8112978043500669,0.8085145861251417,0.7987836305535512,0.8044531491598805,0.7708895990104112,0.8313988248634161,0.8018142459540252,0.7946191114318111,0.8059581486444696,0.8027007524997423,0.8305123183176992,0.8013194516029276,0.8092567776517885,0.8295227296155036,0.7995876713740852,0.8022678074425317,0.8224512936810638,0.7938356870425729,0.8209050613338832,0.8256468405319041,0.8218946500360789,0.8286774559323782],\"type\":\"box\"},{\"boxpoints\":\"all\",\"jitter\":0.5,\"line\":{\"width\":1},\"marker\":{\"size\":2},\"name\":\"knn_3\",\"whiskerwidth\":0.2,\"y\":[null,0.8023708895990105,0.8038140397897123,0.8098134212967736,0.8018760952479125,0.80929801051438,null,0.8259148541387485,0.8269869085661272,0.8306772497680651,null,0.8070920523657354,null,null,null,0.8059169157818781,0.8029481496752912,0.8311101948252757,0.8088856818884651,null,0.8016699309349551,0.8256056076693123,0.8022265745799402,0.8132563653231626,0.8297495103597567,0.8175445830326771,0.8042057519843315,0.8344706731264818,0.7851974023296567,0.8259354705700443,0.8021853417173487,null,0.7966189052674981,null,null,0.8078960931862694,0.7989073291413258,null,0.8061436965261313,0.8307184826306566],\"type\":\"box\"},{\"boxpoints\":\"all\",\"jitter\":0.5,\"line\":{\"width\":1},\"marker\":{\"size\":2},\"name\":\"rfc_search\",\"whiskerwidth\":0.2,\"y\":[0.8815996191666295,0.8777031837414754,0.8827956229664624,0.8825687380856747,0.8828779059265068,0.8839087360029924,0.8833727427865867,0.8844447929749844,0.884630500247584,0.8825893311401412,0.8829604864126219,0.8812491419560639,0.8797235855291821,0.8767960990081756,0.883991235732031,0.8764249989905364,0.8831460151695791,0.8848983459675654,0.8764044059360702,0.8818058344862468,0.8826925131814676,0.8820121305629405,0.8810431306543236,0.8805070949341938,0.8843829160530191],\"type\":\"box\"},{\"boxpoints\":\"all\",\"jitter\":0.5,\"line\":{\"width\":1},\"marker\":{\"size\":2},\"name\":\"svm_l\",\"whiskerwidth\":0.2,\"y\":[0.8074219152664674,0.8074219152664674,0.8074219152664674,0.8074219152664674,0.8074631481290588,0.8074631481290588,0.8074631481290588,0.8074631481290588,0.8076693124420162,0.8076693124420162,0.8076693124420162,0.8076693124420162,0.8075043809916502,0.8075043809916502,0.8075043809916502,0.8075043809916502],\"type\":\"box\"},{\"boxpoints\":\"all\",\"jitter\":0.5,\"line\":{\"width\":1},\"marker\":{\"size\":2},\"name\":\"svm_p\",\"whiskerwidth\":0.2,\"y\":[0.8338521801876094,0.8403257396144728,0.8358725904545923,0.8423461498814555],\"type\":\"box\"},{\"boxpoints\":\"all\",\"jitter\":0.5,\"line\":{\"width\":1},\"marker\":{\"size\":2},\"name\":\"svm_r\",\"whiskerwidth\":0.2,\"y\":[0.8152149262962581,0.8108854757241521,0.6649829914441809,0.6441397794041851,0.832532728584682,0.8454592310071127,0.7914029481496753,0.7479847438408411,0.8450056695186063,0.8417070405112875,0.7992371920420575,0.7512009071229769,0.8496855994227399,0.8324296464282034,0.7991134934542831,0.7512421399855684],\"type\":\"box\"}],                        {\"template\":{\"data\":{\"histogram2dcontour\":[{\"type\":\"histogram2dcontour\",\"colorbar\":{\"outlinewidth\":0,\"ticks\":\"\"},\"colorscale\":[[0.0,\"#0d0887\"],[0.1111111111111111,\"#46039f\"],[0.2222222222222222,\"#7201a8\"],[0.3333333333333333,\"#9c179e\"],[0.4444444444444444,\"#bd3786\"],[0.5555555555555556,\"#d8576b\"],[0.6666666666666666,\"#ed7953\"],[0.7777777777777778,\"#fb9f3a\"],[0.8888888888888888,\"#fdca26\"],[1.0,\"#f0f921\"]]}],\"choropleth\":[{\"type\":\"choropleth\",\"colorbar\":{\"outlinewidth\":0,\"ticks\":\"\"}}],\"histogram2d\":[{\"type\":\"histogram2d\",\"colorbar\":{\"outlinewidth\":0,\"ticks\":\"\"},\"colorscale\":[[0.0,\"#0d0887\"],[0.1111111111111111,\"#46039f\"],[0.2222222222222222,\"#7201a8\"],[0.3333333333333333,\"#9c179e\"],[0.4444444444444444,\"#bd3786\"],[0.5555555555555556,\"#d8576b\"],[0.6666666666666666,\"#ed7953\"],[0.7777777777777778,\"#fb9f3a\"],[0.8888888888888888,\"#fdca26\"],[1.0,\"#f0f921\"]]}],\"heatmap\":[{\"type\":\"heatmap\",\"colorbar\":{\"outlinewidth\":0,\"ticks\":\"\"},\"colorscale\":[[0.0,\"#0d0887\"],[0.1111111111111111,\"#46039f\"],[0.2222222222222222,\"#7201a8\"],[0.3333333333333333,\"#9c179e\"],[0.4444444444444444,\"#bd3786\"],[0.5555555555555556,\"#d8576b\"],[0.6666666666666666,\"#ed7953\"],[0.7777777777777778,\"#fb9f3a\"],[0.8888888888888888,\"#fdca26\"],[1.0,\"#f0f921\"]]}],\"heatmapgl\":[{\"type\":\"heatmapgl\",\"colorbar\":{\"outlinewidth\":0,\"ticks\":\"\"},\"colorscale\":[[0.0,\"#0d0887\"],[0.1111111111111111,\"#46039f\"],[0.2222222222222222,\"#7201a8\"],[0.3333333333333333,\"#9c179e\"],[0.4444444444444444,\"#bd3786\"],[0.5555555555555556,\"#d8576b\"],[0.6666666666666666,\"#ed7953\"],[0.7777777777777778,\"#fb9f3a\"],[0.8888888888888888,\"#fdca26\"],[1.0,\"#f0f921\"]]}],\"contourcarpet\":[{\"type\":\"contourcarpet\",\"colorbar\":{\"outlinewidth\":0,\"ticks\":\"\"}}],\"contour\":[{\"type\":\"contour\",\"colorbar\":{\"outlinewidth\":0,\"ticks\":\"\"},\"colorscale\":[[0.0,\"#0d0887\"],[0.1111111111111111,\"#46039f\"],[0.2222222222222222,\"#7201a8\"],[0.3333333333333333,\"#9c179e\"],[0.4444444444444444,\"#bd3786\"],[0.5555555555555556,\"#d8576b\"],[0.6666666666666666,\"#ed7953\"],[0.7777777777777778,\"#fb9f3a\"],[0.8888888888888888,\"#fdca26\"],[1.0,\"#f0f921\"]]}],\"surface\":[{\"type\":\"surface\",\"colorbar\":{\"outlinewidth\":0,\"ticks\":\"\"},\"colorscale\":[[0.0,\"#0d0887\"],[0.1111111111111111,\"#46039f\"],[0.2222222222222222,\"#7201a8\"],[0.3333333333333333,\"#9c179e\"],[0.4444444444444444,\"#bd3786\"],[0.5555555555555556,\"#d8576b\"],[0.6666666666666666,\"#ed7953\"],[0.7777777777777778,\"#fb9f3a\"],[0.8888888888888888,\"#fdca26\"],[1.0,\"#f0f921\"]]}],\"mesh3d\":[{\"type\":\"mesh3d\",\"colorbar\":{\"outlinewidth\":0,\"ticks\":\"\"}}],\"scatter\":[{\"fillpattern\":{\"fillmode\":\"overlay\",\"size\":10,\"solidity\":0.2},\"type\":\"scatter\"}],\"parcoords\":[{\"type\":\"parcoords\",\"line\":{\"colorbar\":{\"outlinewidth\":0,\"ticks\":\"\"}}}],\"scatterpolargl\":[{\"type\":\"scatterpolargl\",\"marker\":{\"colorbar\":{\"outlinewidth\":0,\"ticks\":\"\"}}}],\"bar\":[{\"error_x\":{\"color\":\"#2a3f5f\"},\"error_y\":{\"color\":\"#2a3f5f\"},\"marker\":{\"line\":{\"color\":\"#E5ECF6\",\"width\":0.5},\"pattern\":{\"fillmode\":\"overlay\",\"size\":10,\"solidity\":0.2}},\"type\":\"bar\"}],\"scattergeo\":[{\"type\":\"scattergeo\",\"marker\":{\"colorbar\":{\"outlinewidth\":0,\"ticks\":\"\"}}}],\"scatterpolar\":[{\"type\":\"scatterpolar\",\"marker\":{\"colorbar\":{\"outlinewidth\":0,\"ticks\":\"\"}}}],\"histogram\":[{\"marker\":{\"pattern\":{\"fillmode\":\"overlay\",\"size\":10,\"solidity\":0.2}},\"type\":\"histogram\"}],\"scattergl\":[{\"type\":\"scattergl\",\"marker\":{\"colorbar\":{\"outlinewidth\":0,\"ticks\":\"\"}}}],\"scatter3d\":[{\"type\":\"scatter3d\",\"line\":{\"colorbar\":{\"outlinewidth\":0,\"ticks\":\"\"}},\"marker\":{\"colorbar\":{\"outlinewidth\":0,\"ticks\":\"\"}}}],\"scattermapbox\":[{\"type\":\"scattermapbox\",\"marker\":{\"colorbar\":{\"outlinewidth\":0,\"ticks\":\"\"}}}],\"scatterternary\":[{\"type\":\"scatterternary\",\"marker\":{\"colorbar\":{\"outlinewidth\":0,\"ticks\":\"\"}}}],\"scattercarpet\":[{\"type\":\"scattercarpet\",\"marker\":{\"colorbar\":{\"outlinewidth\":0,\"ticks\":\"\"}}}],\"carpet\":[{\"aaxis\":{\"endlinecolor\":\"#2a3f5f\",\"gridcolor\":\"white\",\"linecolor\":\"white\",\"minorgridcolor\":\"white\",\"startlinecolor\":\"#2a3f5f\"},\"baxis\":{\"endlinecolor\":\"#2a3f5f\",\"gridcolor\":\"white\",\"linecolor\":\"white\",\"minorgridcolor\":\"white\",\"startlinecolor\":\"#2a3f5f\"},\"type\":\"carpet\"}],\"table\":[{\"cells\":{\"fill\":{\"color\":\"#EBF0F8\"},\"line\":{\"color\":\"white\"}},\"header\":{\"fill\":{\"color\":\"#C8D4E3\"},\"line\":{\"color\":\"white\"}},\"type\":\"table\"}],\"barpolar\":[{\"marker\":{\"line\":{\"color\":\"#E5ECF6\",\"width\":0.5},\"pattern\":{\"fillmode\":\"overlay\",\"size\":10,\"solidity\":0.2}},\"type\":\"barpolar\"}],\"pie\":[{\"automargin\":true,\"type\":\"pie\"}]},\"layout\":{\"autotypenumbers\":\"strict\",\"colorway\":[\"#636efa\",\"#EF553B\",\"#00cc96\",\"#ab63fa\",\"#FFA15A\",\"#19d3f3\",\"#FF6692\",\"#B6E880\",\"#FF97FF\",\"#FECB52\"],\"font\":{\"color\":\"#2a3f5f\"},\"hovermode\":\"closest\",\"hoverlabel\":{\"align\":\"left\"},\"paper_bgcolor\":\"white\",\"plot_bgcolor\":\"#E5ECF6\",\"polar\":{\"bgcolor\":\"#E5ECF6\",\"angularaxis\":{\"gridcolor\":\"white\",\"linecolor\":\"white\",\"ticks\":\"\"},\"radialaxis\":{\"gridcolor\":\"white\",\"linecolor\":\"white\",\"ticks\":\"\"}},\"ternary\":{\"bgcolor\":\"#E5ECF6\",\"aaxis\":{\"gridcolor\":\"white\",\"linecolor\":\"white\",\"ticks\":\"\"},\"baxis\":{\"gridcolor\":\"white\",\"linecolor\":\"white\",\"ticks\":\"\"},\"caxis\":{\"gridcolor\":\"white\",\"linecolor\":\"white\",\"ticks\":\"\"}},\"coloraxis\":{\"colorbar\":{\"outlinewidth\":0,\"ticks\":\"\"}},\"colorscale\":{\"sequential\":[[0.0,\"#0d0887\"],[0.1111111111111111,\"#46039f\"],[0.2222222222222222,\"#7201a8\"],[0.3333333333333333,\"#9c179e\"],[0.4444444444444444,\"#bd3786\"],[0.5555555555555556,\"#d8576b\"],[0.6666666666666666,\"#ed7953\"],[0.7777777777777778,\"#fb9f3a\"],[0.8888888888888888,\"#fdca26\"],[1.0,\"#f0f921\"]],\"sequentialminus\":[[0.0,\"#0d0887\"],[0.1111111111111111,\"#46039f\"],[0.2222222222222222,\"#7201a8\"],[0.3333333333333333,\"#9c179e\"],[0.4444444444444444,\"#bd3786\"],[0.5555555555555556,\"#d8576b\"],[0.6666666666666666,\"#ed7953\"],[0.7777777777777778,\"#fb9f3a\"],[0.8888888888888888,\"#fdca26\"],[1.0,\"#f0f921\"]],\"diverging\":[[0,\"#8e0152\"],[0.1,\"#c51b7d\"],[0.2,\"#de77ae\"],[0.3,\"#f1b6da\"],[0.4,\"#fde0ef\"],[0.5,\"#f7f7f7\"],[0.6,\"#e6f5d0\"],[0.7,\"#b8e186\"],[0.8,\"#7fbc41\"],[0.9,\"#4d9221\"],[1,\"#276419\"]]},\"xaxis\":{\"gridcolor\":\"white\",\"linecolor\":\"white\",\"ticks\":\"\",\"title\":{\"standoff\":15},\"zerolinecolor\":\"white\",\"automargin\":true,\"zerolinewidth\":2},\"yaxis\":{\"gridcolor\":\"white\",\"linecolor\":\"white\",\"ticks\":\"\",\"title\":{\"standoff\":15},\"zerolinecolor\":\"white\",\"automargin\":true,\"zerolinewidth\":2},\"scene\":{\"xaxis\":{\"backgroundcolor\":\"#E5ECF6\",\"gridcolor\":\"white\",\"linecolor\":\"white\",\"showbackground\":true,\"ticks\":\"\",\"zerolinecolor\":\"white\",\"gridwidth\":2},\"yaxis\":{\"backgroundcolor\":\"#E5ECF6\",\"gridcolor\":\"white\",\"linecolor\":\"white\",\"showbackground\":true,\"ticks\":\"\",\"zerolinecolor\":\"white\",\"gridwidth\":2},\"zaxis\":{\"backgroundcolor\":\"#E5ECF6\",\"gridcolor\":\"white\",\"linecolor\":\"white\",\"showbackground\":true,\"ticks\":\"\",\"zerolinecolor\":\"white\",\"gridwidth\":2}},\"shapedefaults\":{\"line\":{\"color\":\"#2a3f5f\"}},\"annotationdefaults\":{\"arrowcolor\":\"#2a3f5f\",\"arrowhead\":0,\"arrowwidth\":1},\"geo\":{\"bgcolor\":\"white\",\"landcolor\":\"#E5ECF6\",\"subunitcolor\":\"white\",\"showland\":true,\"showlakes\":true,\"lakecolor\":\"white\"},\"title\":{\"x\":0.05},\"mapbox\":{\"style\":\"light\"}}},\"title\":{\"text\":\"Performance of Different Models Using 5-Fold Cross-Validation\"},\"paper_bgcolor\":\"rgb(243, 243, 243)\",\"plot_bgcolor\":\"rgb(243, 243, 243)\",\"xaxis\":{\"title\":{\"text\":\"Model\"}},\"yaxis\":{\"title\":{\"text\":\"Accuracy\"}},\"showlegend\":false},                        {\"responsive\": true}                    ).then(function(){\n",
              "                            \n",
              "var gd = document.getElementById('cf0e08b9-985e-490c-992b-286f3a2dbe67');\n",
              "var x = new MutationObserver(function (mutations, observer) {{\n",
              "        var display = window.getComputedStyle(gd).display;\n",
              "        if (!display || display === 'none') {{\n",
              "            console.log([gd, 'removed!']);\n",
              "            Plotly.purge(gd);\n",
              "            observer.disconnect();\n",
              "        }}\n",
              "}});\n",
              "\n",
              "// Listen for the removal of the full notebook cells\n",
              "var notebookContainer = gd.closest('#notebook-container');\n",
              "if (notebookContainer) {{\n",
              "    x.observe(notebookContainer, {childList: true});\n",
              "}}\n",
              "\n",
              "// Listen for the clearing of the current output cell\n",
              "var outputEl = gd.closest('.output');\n",
              "if (outputEl) {{\n",
              "    x.observe(outputEl, {childList: true});\n",
              "}}\n",
              "\n",
              "                        })                };                            </script>        </div>\n",
              "</body>\n",
              "</html>"
            ]
          },
          "metadata": {}
        }
      ]
    },
    {
      "cell_type": "code",
      "source": [
        "from sklearn.ensemble import StackingClassifier\n",
        "\n",
        "#Modelos Base\n",
        "base_models = [('random_forest', rfc_search),\n",
        "               ('xgb', xgb_norm),\n",
        "               ('knn', knn)]\n",
        "\n",
        "#Meta Modelo\n",
        "meta_model = LogisticRegressionCV()\n",
        "\n",
        "#Ensemble Stacking\n",
        "stacking_model = StackingClassifier(estimators=base_models, \n",
        "                                    final_estimator=meta_model, \n",
        "                                    passthrough=True, \n",
        "                                    cv=5,\n",
        "                                    verbose=2)"
      ],
      "metadata": {
        "id": "9in3QRkYdbnt"
      },
      "execution_count": null,
      "outputs": []
    },
    {
      "cell_type": "code",
      "source": [
        "#Performance el modelo en entrenamiento\n",
        "stacking_scores = evaluate_model(stacking_model, x_train_minmax, y_train)\n",
        "model_scores['stacking'] = stacking_scores"
      ],
      "metadata": {
        "id": "PCW7CoJydgg2"
      },
      "execution_count": null,
      "outputs": []
    },
    {
      "cell_type": "code",
      "source": [
        "#Grafico performance\n",
        "plot_results(model_scores, name='stacking_model_cv')"
      ],
      "metadata": {
        "id": "hyOozrShdoMA"
      },
      "execution_count": null,
      "outputs": []
    },
    {
      "cell_type": "code",
      "source": [
        "#Evaluo en conjunto de test\n",
        "#stacking_model.fit(x_train,y_train).score(x_test,y_test)\n",
        "stacking_model.fit(x_train_minmax,y_train)\n"
      ],
      "metadata": {
        "id": "84EcuzVMdt4T"
      },
      "execution_count": null,
      "outputs": []
    },
    {
      "cell_type": "code",
      "source": [
        "y_pred_st = stacking_model.predict(x_test_minmax)\n",
        "accuracy_score(y_test, y_pred_st)"
      ],
      "metadata": {
        "colab": {
          "base_uri": "https://localhost:8080/"
        },
        "id": "qwG6NG390SN3",
        "outputId": "95c4077c-d03b-4268-ffcf-92aeb212223d"
      },
      "execution_count": null,
      "outputs": [
        {
          "output_type": "execute_result",
          "data": {
            "text/plain": [
              "0.8837305186773315"
            ]
          },
          "metadata": {},
          "execution_count": 57
        }
      ]
    },
    {
      "cell_type": "code",
      "source": [
        "#Hago la prediccion y calculo las métricas\n",
        "y_pred_norm=stacking_propio.predict(x_test_minmax)\n",
        "metricas(y_pred_norm,y_test)"
      ],
      "metadata": {
        "id": "azTV-03e5BB8"
      },
      "execution_count": null,
      "outputs": []
    },
    {
      "cell_type": "markdown",
      "source": [
        "## Submit"
      ],
      "metadata": {
        "id": "JsPwaN36mOUS"
      }
    },
    {
      "cell_type": "code",
      "source": [
        "#AGent\n",
        "pivot_table = pd.pivot_table(df_trabajo, index=\"agent\", columns=\"is_canceled\", values=\"id\", aggfunc=\"count\", fill_value=0) \n",
        "pivot_table.columns = [\"No Cancelado\", \"Cancelado\"]\n",
        "pivot_table[\"Total\"] = pivot_table[\"No Cancelado\"] + pivot_table[\"Cancelado\"]\n",
        "pivot_table[\"Porcentaje de Cancelados\"] = np.rint(pivot_table[\"Cancelado\"]/pivot_table[\"Total\"]*100)\n",
        "\n",
        "agents = pivot_table[(pivot_table[\"Porcentaje de Cancelados\"] > 65) & (pivot_table[\"Total\"] > 100)].index.to_list()\n",
        "\n",
        "df_test[\"agent_cancela_seguido\"] = df_test[\"agent\"].isin(agents)\n",
        "\n",
        "#Habitacion correcta\n",
        "df_test['habitacion_correcta'] = (df_test['reserved_room_type'] == df_test['assigned_room_type'])\n",
        "\n",
        "#Estadia\n",
        "stay_mapping = {\n",
        "    0: \"Reservas sin\\nnoches\",\n",
        "    1: \"Reservas entre\\nsemana\",\n",
        "    2: \"Reservas en fin\\nde semana\",\n",
        "    3: \"Reserva con\\nambos casos\"\n",
        "}\n",
        "\n",
        "df_test['estadia'] = (\n",
        "    df_test['stays_in_weekend_nights'].apply(lambda x: 2 if x > 0 else 0) + \n",
        "    df_test['stays_in_week_nights'].apply(lambda x: 1 if x > 0 else 0)\n",
        ")\n",
        "\n",
        "\n",
        "df_test['estadia'] = df_test['estadia'].map(stay_mapping)\n",
        "\n",
        "df_test['country'].fillna(\"Otros\")\n",
        "\n",
        "df_test.loc[df_test[\"assigned_room_type\"].isin([\"B\", \"C\", \"H\",\"I\",\"K\",\"P\",\"L\"]), \"assigned_room_type\"] = \"Otros\"\n",
        "df_test.loc[df_test[\"reserved_room_type\"].isin([\"B\", \"C\", \"H\",\"I\",\"K\",\"P\",\"L\"]), \"reserved_room_type\"] = \"Otros\"\n",
        "\n",
        "lista_paises = df_trabajo[\"country\"].value_counts().index.to_list()\n",
        "lista_paises.remove(\"Otros\")\n",
        "\n",
        "df_test.loc[~df_test[\"country\"].isin(lista_paises), \"country\"] = \"Otros\"\n",
        "\n",
        "\n"
      ],
      "metadata": {
        "id": "rjdAoOvDBIzU"
      },
      "execution_count": null,
      "outputs": []
    },
    {
      "cell_type": "code",
      "source": [
        "X_submission = pd.get_dummies(df_test, columns=['hotel','country','market_segment','distribution_channel','reserved_room_type','assigned_room_type','deposit_type','customer_type'], drop_first=True)\n",
        "\n",
        "from sklearn.preprocessing import (\n",
        "    LabelEncoder\n",
        ")\n",
        "\n",
        "le = LabelEncoder()\n",
        "# Convertimos nulos a string 'nan', es decir un valor posible mas\n",
        "for column in X_submission.columns:\n",
        "    if X_submission[column].dtype == 'object':\n",
        "        X_submission[column] = le.fit_transform(X_submission[column])"
      ],
      "metadata": {
        "id": "3e1Mm1dCBMeb"
      },
      "execution_count": null,
      "outputs": []
    },
    {
      "cell_type": "code",
      "source": [
        "X_submission.drop(['id','company','reservation_status_date'], axis='columns',inplace=True)\n",
        "X_submission.fillna(0, inplace=True)\n",
        "\n",
        "X_submission_minmax = min_max_scaler.transform(X_submission) \n"
      ],
      "metadata": {
        "id": "xhfIsyvU1t6w"
      },
      "execution_count": null,
      "outputs": []
    },
    {
      "cell_type": "code",
      "source": [
        "y_pred = stacking_propio.predict(X_submission_minmax)\n",
        "y_pred"
      ],
      "metadata": {
        "id": "Xo-kIW9bBeX9"
      },
      "execution_count": null,
      "outputs": []
    },
    {
      "cell_type": "code",
      "source": [
        "df_submission = pd.DataFrame({'id': df_test['id'], 'is_canceled': y_pred})\n",
        "df_submission.head()"
      ],
      "metadata": {
        "colab": {
          "base_uri": "https://localhost:8080/",
          "height": 206
        },
        "id": "eeghAAEvBlaF",
        "outputId": "b5e668d7-d93b-4c01-93e4-dd1cf8ee07ac"
      },
      "execution_count": null,
      "outputs": [
        {
          "output_type": "execute_result",
          "data": {
            "text/plain": [
              "                                     id  is_canceled\n",
              "0  e6d0d58a-ab96-44d3-b28f-85df1cc15f1e            1\n",
              "1  aba9aac2-4495-4645-a60e-90328713c999            1\n",
              "2  b345b5dc-c804-4d77-a39f-1f4e65d1f1ad            0\n",
              "3  ce1b400e-afa1-4946-bdff-004b859eb61c            1\n",
              "4  c4fbec0d-8e2e-4db2-9d4f-a6ccb9f51214            1"
            ],
            "text/html": [
              "\n",
              "  <div id=\"df-7ff59cc4-ffdb-4374-9f6b-5ac6afbc0b6f\">\n",
              "    <div class=\"colab-df-container\">\n",
              "      <div>\n",
              "<style scoped>\n",
              "    .dataframe tbody tr th:only-of-type {\n",
              "        vertical-align: middle;\n",
              "    }\n",
              "\n",
              "    .dataframe tbody tr th {\n",
              "        vertical-align: top;\n",
              "    }\n",
              "\n",
              "    .dataframe thead th {\n",
              "        text-align: right;\n",
              "    }\n",
              "</style>\n",
              "<table border=\"1\" class=\"dataframe\">\n",
              "  <thead>\n",
              "    <tr style=\"text-align: right;\">\n",
              "      <th></th>\n",
              "      <th>id</th>\n",
              "      <th>is_canceled</th>\n",
              "    </tr>\n",
              "  </thead>\n",
              "  <tbody>\n",
              "    <tr>\n",
              "      <th>0</th>\n",
              "      <td>e6d0d58a-ab96-44d3-b28f-85df1cc15f1e</td>\n",
              "      <td>1</td>\n",
              "    </tr>\n",
              "    <tr>\n",
              "      <th>1</th>\n",
              "      <td>aba9aac2-4495-4645-a60e-90328713c999</td>\n",
              "      <td>1</td>\n",
              "    </tr>\n",
              "    <tr>\n",
              "      <th>2</th>\n",
              "      <td>b345b5dc-c804-4d77-a39f-1f4e65d1f1ad</td>\n",
              "      <td>0</td>\n",
              "    </tr>\n",
              "    <tr>\n",
              "      <th>3</th>\n",
              "      <td>ce1b400e-afa1-4946-bdff-004b859eb61c</td>\n",
              "      <td>1</td>\n",
              "    </tr>\n",
              "    <tr>\n",
              "      <th>4</th>\n",
              "      <td>c4fbec0d-8e2e-4db2-9d4f-a6ccb9f51214</td>\n",
              "      <td>1</td>\n",
              "    </tr>\n",
              "  </tbody>\n",
              "</table>\n",
              "</div>\n",
              "      <button class=\"colab-df-convert\" onclick=\"convertToInteractive('df-7ff59cc4-ffdb-4374-9f6b-5ac6afbc0b6f')\"\n",
              "              title=\"Convert this dataframe to an interactive table.\"\n",
              "              style=\"display:none;\">\n",
              "        \n",
              "  <svg xmlns=\"http://www.w3.org/2000/svg\" height=\"24px\"viewBox=\"0 0 24 24\"\n",
              "       width=\"24px\">\n",
              "    <path d=\"M0 0h24v24H0V0z\" fill=\"none\"/>\n",
              "    <path d=\"M18.56 5.44l.94 2.06.94-2.06 2.06-.94-2.06-.94-.94-2.06-.94 2.06-2.06.94zm-11 1L8.5 8.5l.94-2.06 2.06-.94-2.06-.94L8.5 2.5l-.94 2.06-2.06.94zm10 10l.94 2.06.94-2.06 2.06-.94-2.06-.94-.94-2.06-.94 2.06-2.06.94z\"/><path d=\"M17.41 7.96l-1.37-1.37c-.4-.4-.92-.59-1.43-.59-.52 0-1.04.2-1.43.59L10.3 9.45l-7.72 7.72c-.78.78-.78 2.05 0 2.83L4 21.41c.39.39.9.59 1.41.59.51 0 1.02-.2 1.41-.59l7.78-7.78 2.81-2.81c.8-.78.8-2.07 0-2.86zM5.41 20L4 18.59l7.72-7.72 1.47 1.35L5.41 20z\"/>\n",
              "  </svg>\n",
              "      </button>\n",
              "      \n",
              "  <style>\n",
              "    .colab-df-container {\n",
              "      display:flex;\n",
              "      flex-wrap:wrap;\n",
              "      gap: 12px;\n",
              "    }\n",
              "\n",
              "    .colab-df-convert {\n",
              "      background-color: #E8F0FE;\n",
              "      border: none;\n",
              "      border-radius: 50%;\n",
              "      cursor: pointer;\n",
              "      display: none;\n",
              "      fill: #1967D2;\n",
              "      height: 32px;\n",
              "      padding: 0 0 0 0;\n",
              "      width: 32px;\n",
              "    }\n",
              "\n",
              "    .colab-df-convert:hover {\n",
              "      background-color: #E2EBFA;\n",
              "      box-shadow: 0px 1px 2px rgba(60, 64, 67, 0.3), 0px 1px 3px 1px rgba(60, 64, 67, 0.15);\n",
              "      fill: #174EA6;\n",
              "    }\n",
              "\n",
              "    [theme=dark] .colab-df-convert {\n",
              "      background-color: #3B4455;\n",
              "      fill: #D2E3FC;\n",
              "    }\n",
              "\n",
              "    [theme=dark] .colab-df-convert:hover {\n",
              "      background-color: #434B5C;\n",
              "      box-shadow: 0px 1px 3px 1px rgba(0, 0, 0, 0.15);\n",
              "      filter: drop-shadow(0px 1px 2px rgba(0, 0, 0, 0.3));\n",
              "      fill: #FFFFFF;\n",
              "    }\n",
              "  </style>\n",
              "\n",
              "      <script>\n",
              "        const buttonEl =\n",
              "          document.querySelector('#df-7ff59cc4-ffdb-4374-9f6b-5ac6afbc0b6f button.colab-df-convert');\n",
              "        buttonEl.style.display =\n",
              "          google.colab.kernel.accessAllowed ? 'block' : 'none';\n",
              "\n",
              "        async function convertToInteractive(key) {\n",
              "          const element = document.querySelector('#df-7ff59cc4-ffdb-4374-9f6b-5ac6afbc0b6f');\n",
              "          const dataTable =\n",
              "            await google.colab.kernel.invokeFunction('convertToInteractive',\n",
              "                                                     [key], {});\n",
              "          if (!dataTable) return;\n",
              "\n",
              "          const docLinkHtml = 'Like what you see? Visit the ' +\n",
              "            '<a target=\"_blank\" href=https://colab.research.google.com/notebooks/data_table.ipynb>data table notebook</a>'\n",
              "            + ' to learn more about interactive tables.';\n",
              "          element.innerHTML = '';\n",
              "          dataTable['output_type'] = 'display_data';\n",
              "          await google.colab.output.renderOutput(dataTable, element);\n",
              "          const docLink = document.createElement('div');\n",
              "          docLink.innerHTML = docLinkHtml;\n",
              "          element.appendChild(docLink);\n",
              "        }\n",
              "      </script>\n",
              "    </div>\n",
              "  </div>\n",
              "  "
            ]
          },
          "metadata": {},
          "execution_count": 21
        }
      ]
    },
    {
      "cell_type": "code",
      "source": [
        "df_submission.to_csv('/content/drive/My Drive/OrgaDeDatosRodriguez/TP_1/Submission/chp3_xgb_3.csv', index=False)"
      ],
      "metadata": {
        "id": "enyhiR8oBod_"
      },
      "execution_count": null,
      "outputs": []
    }
  ]
}